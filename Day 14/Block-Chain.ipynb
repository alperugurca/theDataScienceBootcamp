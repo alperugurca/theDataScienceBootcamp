{
 "cells": [
  {
   "cell_type": "code",
   "execution_count": 1,
   "id": "e53e626f-5703-42b2-ae0b-88be4a099e9c",
   "metadata": {},
   "outputs": [],
   "source": [
    "import hashlib\n",
    "import datetime"
   ]
  },
  {
   "cell_type": "code",
   "execution_count": 2,
   "id": "419ebc2d-a962-41de-aab7-74c0634dc482",
   "metadata": {},
   "outputs": [],
   "source": [
    "class Block:\n",
    "    def __init__(self, data, prev_hash):\n",
    "        self.timestamp=datetime.datetime.now()\n",
    "        self.data=data\n",
    "        self.prev_hash=prev_hash\n",
    "        self.hash=self.calculate_hash()\n",
    "\n",
    "    def calculate_hash(self):\n",
    "        hash_string=str(self.timestamp)+str(self.data)+str(self.prev_hash)\n",
    "        return hashlib.sha256(hash_string.encode()).hexdigest() # NSA"
   ]
  },
  {
   "cell_type": "code",
   "execution_count": 3,
   "id": "be75e3c3-c258-4083-b747-eeb0f9ea7547",
   "metadata": {},
   "outputs": [],
   "source": [
    "class Blockchain:\n",
    "    def __init__(self):\n",
    "        self.chain=[self.create_genesis_block()]\n",
    "    def create_genesis_block(self):\n",
    "        return Block('Genesis Block',0)\n",
    "    def add_block(self,data):\n",
    "        prev_block=self.chain[-1]\n",
    "        new_block=Block(data,prev_block.hash)\n",
    "        self.chain.append(new_block)"
   ]
  },
  {
   "cell_type": "code",
   "execution_count": 4,
   "id": "8d98dabe-b4e9-4788-944b-fe3bde4d1276",
   "metadata": {},
   "outputs": [],
   "source": [
    "blockchain=Blockchain()"
   ]
  },
  {
   "cell_type": "code",
   "execution_count": 7,
   "id": "d2f57388-70e1-479f-9cd5-9ecfd0fdb38a",
   "metadata": {},
   "outputs": [],
   "source": [
    "blockchain.add_block(\"First Block\")"
   ]
  },
  {
   "cell_type": "code",
   "execution_count": 8,
   "id": "55695487-add6-4dbb-9e3f-60d211fd9441",
   "metadata": {},
   "outputs": [],
   "source": [
    "blockchain.add_block(\"Second Block\")"
   ]
  },
  {
   "cell_type": "code",
   "execution_count": 9,
   "id": "87b66336-2b99-4d93-a969-53071caba0ea",
   "metadata": {},
   "outputs": [],
   "source": [
    "blockchain.add_block(\"Third Block\")"
   ]
  },
  {
   "cell_type": "code",
   "execution_count": 13,
   "id": "c91dad96-ac09-403e-ad1f-c6376d1e4fe8",
   "metadata": {},
   "outputs": [
    {
     "name": "stdout",
     "output_type": "stream",
     "text": [
      "BlockChain\n",
      "date 2024-09-15 23:02:32.270242\n",
      "Data Genesis Block\n",
      "Previous Hash 0\n",
      "Current Hash de7b9a83d97f4c0e95a512a771f900f38c0b367294f69a5d59800b30892a471a\n",
      "\n",
      "date 2024-09-15 23:03:54.520938\n",
      "Data First Block\n",
      "Previous Hash de7b9a83d97f4c0e95a512a771f900f38c0b367294f69a5d59800b30892a471a\n",
      "Current Hash e9ed3c20457004f5e438c6ae920330f9540560631a8da4c2ea80bd7bcd348886\n",
      "\n",
      "date 2024-09-15 23:03:56.123481\n",
      "Data Second Block\n",
      "Previous Hash e9ed3c20457004f5e438c6ae920330f9540560631a8da4c2ea80bd7bcd348886\n",
      "Current Hash c850f7d1e38d3d3bac73dad1f3a1db17d9798ef00a6e7422db2e97f94e9644c3\n",
      "\n",
      "date 2024-09-15 23:04:01.343009\n",
      "Data Third Block\n",
      "Previous Hash c850f7d1e38d3d3bac73dad1f3a1db17d9798ef00a6e7422db2e97f94e9644c3\n",
      "Current Hash e0199047471c57044c028ced4024b2c6e78c3f1e2e6bdce852b0f00ebe1792da\n",
      "\n"
     ]
    }
   ],
   "source": [
    "print(\"BlockChain\")\n",
    "for block in blockchain.chain:\n",
    "    print(\"date\", block.timestamp )\n",
    "    print(\"Data\", block.data )\n",
    "    print(\"Previous Hash\", block.prev_hash)\n",
    "    print(\"Current Hash\", block.hash )\n",
    "    print()"
   ]
  },
  {
   "cell_type": "code",
   "execution_count": null,
   "id": "250671c1-c2b5-47bc-8f6f-f1304ce6a356",
   "metadata": {},
   "outputs": [],
   "source": []
  }
 ],
 "metadata": {
  "kernelspec": {
   "display_name": "Python 3 (ipykernel)",
   "language": "python",
   "name": "python3"
  },
  "language_info": {
   "codemirror_mode": {
    "name": "ipython",
    "version": 3
   },
   "file_extension": ".py",
   "mimetype": "text/x-python",
   "name": "python",
   "nbconvert_exporter": "python",
   "pygments_lexer": "ipython3",
   "version": "3.12.4"
  }
 },
 "nbformat": 4,
 "nbformat_minor": 5
}
