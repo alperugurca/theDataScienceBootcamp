{
 "cells": [
  {
   "cell_type": "code",
   "execution_count": 5,
   "id": "c8916fe5-e40a-4cc6-9e85-285cc97b2e9b",
   "metadata": {},
   "outputs": [
    {
     "name": "stdout",
     "output_type": "stream",
     "text": [
      "Requirement already satisfied: opencv-python in c:\\programdata\\anaconda3\\lib\\site-packages (4.10.0.84)\n",
      "Requirement already satisfied: numpy>=1.21.2 in c:\\programdata\\anaconda3\\lib\\site-packages (from opencv-python) (1.26.4)\n"
     ]
    },
    {
     "name": "stderr",
     "output_type": "stream",
     "text": [
      "DEPRECATION: Loading egg at c:\\programdata\\anaconda3\\lib\\site-packages\\vboxapi-1.0-py3.12.egg is deprecated. pip 24.3 will enforce this behaviour change. A possible replacement is to use pip for package installation. Discussion can be found at https://github.com/pypa/pip/issues/12330\n"
     ]
    }
   ],
   "source": [
    "#!pip install opencv-python"
   ]
  },
  {
   "cell_type": "code",
   "execution_count": 8,
   "id": "a46af404-fb4a-4dce-a0c0-2f9eeff864e3",
   "metadata": {},
   "outputs": [],
   "source": [
    "import cvlib as cv\n",
    "from cvlib.object_detection import draw_bbox\n",
    "import cv2\n",
    "\n",
    "webcam=cv2.VideoCapture(0)\n",
    "\n",
    "while webcam.isOpened():\n",
    "    ret,frame=webcam.read()\n",
    "\n",
    "    bbox,label,conf=cv.detect_common_objects(frame)\n",
    "\n",
    "    out=draw_bbox(frame,bbox,label,conf)\n",
    "\n",
    "    cv2.imshow('Real Time Object Detection',out)\n",
    "\n",
    "    if cv2.waitKey(1) &0xFF==ord('q'):\n",
    "        break\n",
    "webcam.release()\n",
    "cv2.destroyAllWindows()"
   ]
  },
  {
   "cell_type": "code",
   "execution_count": 13,
   "id": "a74a9027-87c0-402c-930a-a9cc161b4781",
   "metadata": {},
   "outputs": [],
   "source": [
    "import cvlib as cv\n",
    "from cvlib.object_detection import draw_bbox\n",
    "import cv2\n",
    "\n",
    "webcam=cv2.VideoCapture('https://192.168.0.13:8080/video')\n",
    "\n",
    "while webcam.isOpened():\n",
    "    ret,frame=webcam.read()\n",
    "\n",
    "    bbox,label,conf=cv.detect_common_objects(frame)\n",
    "\n",
    "    out=draw_bbox(frame,bbox,label,conf)\n",
    "\n",
    "    cv2.imshow('Real Time Object Detection',out)\n",
    "\n",
    "    if cv2.waitKey(1) & 0xFF==ord('q'):\n",
    "        break\n",
    "webcam.release()\n",
    "cv2.destroyAllWindows()"
   ]
  },
  {
   "cell_type": "code",
   "execution_count": null,
   "id": "6f09d01b-05d2-4f82-a00b-d9c145ec81a7",
   "metadata": {},
   "outputs": [],
   "source": []
  }
 ],
 "metadata": {
  "kernelspec": {
   "display_name": "Python 3 (ipykernel)",
   "language": "python",
   "name": "python3"
  },
  "language_info": {
   "codemirror_mode": {
    "name": "ipython",
    "version": 3
   },
   "file_extension": ".py",
   "mimetype": "text/x-python",
   "name": "python",
   "nbconvert_exporter": "python",
   "pygments_lexer": "ipython3",
   "version": "3.12.4"
  }
 },
 "nbformat": 4,
 "nbformat_minor": 5
}
