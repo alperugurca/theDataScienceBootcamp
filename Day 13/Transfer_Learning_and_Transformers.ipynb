{
  "nbformat": 4,
  "nbformat_minor": 0,
  "metadata": {
    "colab": {
      "provenance": []
    },
    "kernelspec": {
      "name": "python3",
      "display_name": "Python 3"
    },
    "language_info": {
      "name": "python"
    }
  },
  "cells": [
    {
      "cell_type": "code",
      "source": [
        "#pip install transformers"
      ],
      "metadata": {
        "id": "4gya98ikiYsb"
      },
      "execution_count": 2,
      "outputs": []
    },
    {
      "cell_type": "code",
      "source": [
        "from transformers import AutoModelForSequenceClassification, AutoTokenizer, pipeline\n",
        "\n",
        "model = AutoModelForSequenceClassification.from_pretrained(\"savasy/bert-base-turkish-sentiment-cased\")\n",
        "tokenizer = AutoTokenizer.from_pretrained(\"savasy/bert-base-turkish-sentiment-cased\")\n",
        "sa = pipeline(\"sentiment-analysis\", tokenizer=tokenizer, model=model)\n",
        "\n",
        "p=sa(\"Seni hiç sevmiyorum.\")\n",
        "print(p)\n",
        "print(p[0]['label'] == 'LABEL_1')\n",
        "\n",
        "p=sa(\"Bu işte en iyisi sensin\")\n",
        "print(p)\n",
        "print(p[0]['label'] == 'LABEL_1')"
      ],
      "metadata": {
        "colab": {
          "base_uri": "https://localhost:8080/"
        },
        "id": "p_o8ti7ViaAR",
        "outputId": "78e73e8e-2920-4750-cde1-2aa77eb1672e"
      },
      "execution_count": 9,
      "outputs": [
        {
          "output_type": "stream",
          "name": "stdout",
          "text": [
            "[{'label': 'negative', 'score': 0.9984530210494995}]\n",
            "False\n",
            "[{'label': 'positive', 'score': 0.9976505637168884}]\n",
            "False\n"
          ]
        }
      ]
    },
    {
      "cell_type": "code",
      "source": [],
      "metadata": {
        "id": "oK96HlIbkf4Y"
      },
      "execution_count": null,
      "outputs": []
    }
  ]
}