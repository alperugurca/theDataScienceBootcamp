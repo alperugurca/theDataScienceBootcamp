{
  "nbformat": 4,
  "nbformat_minor": 0,
  "metadata": {
    "colab": {
      "provenance": []
    },
    "kernelspec": {
      "name": "python3",
      "display_name": "Python 3"
    },
    "language_info": {
      "name": "python"
    }
  },
  "cells": [
    {
      "cell_type": "markdown",
      "source": [
        "Python script uses the Hugging Face Transformers library to perform text summarization.\n",
        "\n",
        "Hugging Face: https://huggingface.co/spaces/alperugurcan/text-summarization"
      ],
      "metadata": {
        "id": "F42Ugqv0FArr"
      }
    },
    {
      "cell_type": "code",
      "source": [
        "from transformers import pipeline\n",
        "\n",
        "# Create summarization pipeline\n",
        "summarizer = pipeline(\"summarization\", model=\"t5-small\")\n",
        "\n",
        "# Define texts to summarize\n",
        "text =\"The Eiffel Tower is a wrought-iron lattice tower on the Champ de Mars in Paris, France. It is named after the engineer Gustave Eiffel, whose company designed and built the tower. Constructed from 1887 to 1889 as the entrance arch to the 1889 World's Fair, it was initially criticized by some of France's leading artists and intellectuals for its design, but it has become a global cultural icon of France and one of the most recognizable structures in the world.\"\n",
        "\n",
        "summary = summarizer(text, max_length=100, min_length=30, do_sample=False)[0]['summary_text']\n",
        "\n",
        "print(summary)\n"
      ],
      "metadata": {
        "id": "lF6w0nUr-Hy5",
        "colab": {
          "base_uri": "https://localhost:8080/"
        },
        "outputId": "15c817ea-b1cc-4bf1-a909-e727a3b40855"
      },
      "execution_count": 15,
      "outputs": [
        {
          "output_type": "stream",
          "name": "stdout",
          "text": [
            "the tower is named after the engineer Gustave Eiffel, whose company designed and built the tower . it was initially criticized by some of France's leading artists and intellectuals for its design .\n"
          ]
        }
      ]
    }
  ]
}