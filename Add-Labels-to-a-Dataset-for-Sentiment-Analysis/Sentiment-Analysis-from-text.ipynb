{
 "cells": [
  {
   "cell_type": "markdown",
   "metadata": {},
   "source": [
    "# Adding labels to a Data Set using Sentiment Analysis\n",
    "In this project, we will add sentiment analysis tags to a text dataset with using TextBlob library.\n",
    "\n",
    "Dataset: https://raw.githubusercontent.com/amankharwal/Website-data/master/reviews%20data.csv\n",
    "\n",
    "Example Solution: https://thecleverprogrammer.com/2021/11/24/add-labels-to-a-dataset-for-sentiment-analysis/\n",
    "\n",
    "Hugging Face: https://huggingface.co/spaces/alperugurcan/sentiment-analysis"
   ]
  },
  {
   "cell_type": "code",
   "execution_count": 3,
   "metadata": {},
   "outputs": [],
   "source": [
    "import pandas as pd\n",
    "from textblob import TextBlob"
   ]
  },
  {
   "cell_type": "code",
   "execution_count": 9,
   "metadata": {},
   "outputs": [
    {
     "name": "stdout",
     "output_type": "stream",
     "text": [
      "<class 'pandas.core.frame.DataFrame'>\n",
      "RangeIndex: 20491 entries, 0 to 20490\n",
      "Data columns (total 1 columns):\n",
      " #   Column  Non-Null Count  Dtype \n",
      "---  ------  --------------  ----- \n",
      " 0   Review  20491 non-null  object\n",
      "dtypes: object(1)\n",
      "memory usage: 160.2+ KB\n"
     ]
    }
   ],
   "source": [
    "df = pd.read_csv(\"https://raw.githubusercontent.com/amankharwal/Website-data/master/reviews%20data.csv\")\n",
    "df.info()"
   ]
  },
  {
   "cell_type": "code",
   "execution_count": 18,
   "metadata": {},
   "outputs": [
    {
     "name": "stdout",
     "output_type": "stream",
     "text": [
      "                                              Review Sentiment\n",
      "0  nice hotel expensive parking got good deal sta...  Positive\n",
      "1  ok nothing special charge diamond member hilto...  Positive\n",
      "2  nice rooms not 4* experience hotel monaco seat...  Positive\n",
      "3  unique, great stay, wonderful time hotel monac...  Positive\n",
      "4  great stay great stay, went seahawk game aweso...  Positive\n",
      "\n",
      "Sentiment distribution:\n",
      "Sentiment\n",
      "Positive    19112\n",
      "Negative     1356\n",
      "Neutral        23\n",
      "Name: count, dtype: int64\n"
     ]
    }
   ],
   "source": [
    "df['Sentiment'] = df['Review'].apply(lambda text: \n",
    "    \"Positive\" if TextBlob(text).sentiment.polarity > 0 \n",
    "    else (\"Negative\" if TextBlob(text).sentiment.polarity < 0 \n",
    "    else \"Neutral\"))\n",
    "\n",
    "print(df.head())\n",
    "print(\"\\nSentiment distribution:\")\n",
    "print(df['Sentiment'].value_counts())"
   ]
  }
 ],
 "metadata": {
  "kernelspec": {
   "display_name": "Python 3",
   "language": "python",
   "name": "python3"
  },
  "language_info": {
   "codemirror_mode": {
    "name": "ipython",
    "version": 3
   },
   "file_extension": ".py",
   "mimetype": "text/x-python",
   "name": "python",
   "nbconvert_exporter": "python",
   "pygments_lexer": "ipython3",
   "version": "3.10.0"
  }
 },
 "nbformat": 4,
 "nbformat_minor": 2
}
