{
  "nbformat": 4,
  "nbformat_minor": 0,
  "metadata": {
    "colab": {
      "provenance": []
    },
    "kernelspec": {
      "name": "python3",
      "display_name": "Python 3"
    },
    "language_info": {
      "name": "python"
    }
  },
  "cells": [
    {
      "cell_type": "code",
      "execution_count": null,
      "metadata": {
        "id": "vT2IQMFmFRRL"
      },
      "outputs": [],
      "source": [
        "from pyspark.sql import SparkSession\n",
        " # Yazıları Vectore çevir\n",
        "from pyspark.ml.feature import VectorAssembler\n",
        "# Logistic Regression yerine başka bir algoritma uygulanabilir\n",
        "from pyspark.ml.classification import GBTClassifier # Logistic Regression import\n",
        "from pyspark.ml.evaluation import BinaryClassificationEvaluator # Sonuç binary olacağı için\n",
        "\n",
        "spark = SparkSession.builder.appName('Churn Classifier').getOrCreate()\n",
        "\n",
        "data=spark.read.csv('churn.csv', header=True, inferSchema=True)\n",
        "predictors = data.columns[:-1]\n",
        "assembler = VectorAssembler(inputCols=predictors, outputCol='features')\n",
        "data = assembler.transform(data).select('features', 'Outcome')\n",
        "\n",
        "train_data, test_data = data.randomSplit([0.80,0.2], seed=42) # 42 evrenin anlamı\n",
        "\n",
        "gbt = GBTClassifier(labelCol='Outcome', featuresCol='features')\n",
        "\n",
        "model=gbt.fit(train_data)\n",
        "\n",
        "predictions=model.transform(test_data)\n",
        "\n",
        "evaluator=BinaryClassificationEvaluator(labelCol='Outcome')\n",
        "# Başka algoritma uygulanabilir accuracy yerine r2 kullanılabilir\n",
        "accuracy=evaluator.evaluate(predictions)\n",
        "print(f\"Accuracy\", {accuracy})\n",
        "\n",
        "spark.stop()"
      ]
    },
    {
      "cell_type": "code",
      "source": [
        "from pyspark.sql import SparkSession\n",
        "from pyspark.ml.feature import VectorAssembler\n",
        "from pyspark.ml.classification import GBTClassifier\n",
        "from pyspark.ml.evaluation import BinaryClassificationEvaluator\n",
        "\n",
        "# Spark session oluşturulması\n",
        "spark = SparkSession.builder.appName('Churn Classifier').getOrCreate()\n",
        "\n",
        "# Veriyi okuma\n",
        "data = spark.read.csv('churn.csv', header=True, inferSchema=True)\n",
        "\n",
        "# Kategorik değişkenleri sayısal verilere dönüştürme işlemi gerekebilir.\n",
        "# Eğer string tipinde sütunlar varsa StringIndexer kullanılmalı.\n",
        "\n",
        "# Predictor sütunlarının belirlenmesi (son sütunu Outcome olarak varsayıyoruz)\n",
        "predictors = data.columns[:-1]\n",
        "\n",
        "# Veriyi birleştirerek özellik vektörü oluşturma\n",
        "assembler = VectorAssembler(inputCols=predictors, outputCol='features')\n",
        "data = assembler.transform(data).select('features', data.columns[-1].alias('Outcome')) # sonu değişmiş\n",
        "\n",
        "# Veriyi eğitim ve test olarak ayırma\n",
        "train_data, test_data = data.randomSplit([0.80, 0.20], seed=42)  # 42 sabit bir rastgelelik sağlar\n",
        "\n",
        "# Modelin oluşturulması\n",
        "gbt = GBTClassifier(labelCol='Outcome', featuresCol='features')\n",
        "\n",
        "# Modelin eğitilmesi\n",
        "model = gbt.fit(train_data)\n",
        "\n",
        "# Test veri seti üzerinde tahmin yapma\n",
        "predictions = model.transform(test_data)\n",
        "\n",
        "# Modeli değerlendirme (Accuracy hesaplaması)\n",
        "evaluator = BinaryClassificationEvaluator(labelCol='Outcome')\n",
        "accuracy = evaluator.evaluate(predictions)\n",
        "\n",
        "# Sonuçları yazdırma\n",
        "print(f\"Accuracy: {accuracy}\")\n",
        "\n",
        "# Spark oturumunu sonlandırma\n",
        "spark.stop()\n"
      ],
      "metadata": {
        "id": "MxB1M-_pGYCV"
      },
      "execution_count": null,
      "outputs": []
    }
  ]
}