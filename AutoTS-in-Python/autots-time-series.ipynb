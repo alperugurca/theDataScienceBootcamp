{
 "cells": [
  {
   "cell_type": "markdown",
   "metadata": {},
   "source": [
    "# Stock Price Forecasting with AutoTS\n",
    "\n",
    "This study forecasts Apple Inc. stock prices using machine learning. It employs yfinance for data acquisition, AutoTS for ensemble modeling (ARIMA, ETS, Rolling Regression), and Matplotlib for visualization. The approach predicts 5-day price trajectories based on historical patterns and statistical inference.\n",
    "\n",
    "Dataset : Apple Inc. (AAPL) stock prices between 2024-01-01 and 2024-06-01 (1 month, yfinance)\n",
    "\n",
    "Example Solution : https://thecleverprogrammer.com/2021/04/19/autots-in-python-tutorial/\n",
    "\n",
    "Hugging Face : https://huggingface.co/spaces/alperugurcan/stock-price-predict"
   ]
  },
  {
   "cell_type": "code",
   "execution_count": 1,
   "metadata": {},
   "outputs": [],
   "source": [
    "import pandas as pd\n",
    "import matplotlib.pyplot as plt"
   ]
  },
  {
   "cell_type": "code",
   "execution_count": 2,
   "metadata": {},
   "outputs": [
    {
     "name": "stderr",
     "output_type": "stream",
     "text": [
      "[*********************100%***********************]  1 of 1 completed"
     ]
    },
    {
     "name": "stdout",
     "output_type": "stream",
     "text": [
      "                  Open        High         Low       Close   Adj Close  \\\n",
      "Date                                                                     \n",
      "2024-08-28  227.919998  229.860001  225.679993  226.490005  226.490005   \n",
      "2024-08-29  230.100006  232.919998  228.880005  229.789993  229.789993   \n",
      "2024-08-30  230.190002  230.399994  227.479996  229.000000  229.000000   \n",
      "2024-09-03  228.550003  229.000000  221.169998  222.770004  222.770004   \n",
      "2024-09-04  221.660004  221.779999  217.479996  220.850006  220.850006   \n",
      "\n",
      "              Volume  \n",
      "Date                  \n",
      "2024-08-28  38052200  \n",
      "2024-08-29  51906300  \n",
      "2024-08-30  52990800  \n",
      "2024-09-03  50190600  \n",
      "2024-09-04  43840200  \n"
     ]
    },
    {
     "name": "stderr",
     "output_type": "stream",
     "text": [
      "\n"
     ]
    }
   ],
   "source": [
    "import yfinance as yf\n",
    "\n",
    "aapl_data= yf.download(tickers=\"AAPL\", period=\"1mo\", interval=\"1d\")\n",
    "\n",
    "print(aapl_data.head())\n",
    "\n",
    "aapl_data.to_csv(\"aapl_data.csv\")\n"
   ]
  },
  {
   "cell_type": "code",
   "execution_count": 3,
   "metadata": {},
   "outputs": [
    {
     "data": {
      "text/html": [
       "<div>\n",
       "<style scoped>\n",
       "    .dataframe tbody tr th:only-of-type {\n",
       "        vertical-align: middle;\n",
       "    }\n",
       "\n",
       "    .dataframe tbody tr th {\n",
       "        vertical-align: top;\n",
       "    }\n",
       "\n",
       "    .dataframe thead th {\n",
       "        text-align: right;\n",
       "    }\n",
       "</style>\n",
       "<table border=\"1\" class=\"dataframe\">\n",
       "  <thead>\n",
       "    <tr style=\"text-align: right;\">\n",
       "      <th></th>\n",
       "      <th>Open</th>\n",
       "      <th>High</th>\n",
       "      <th>Low</th>\n",
       "      <th>Close</th>\n",
       "      <th>Adj Close</th>\n",
       "      <th>Volume</th>\n",
       "    </tr>\n",
       "    <tr>\n",
       "      <th>Date</th>\n",
       "      <th></th>\n",
       "      <th></th>\n",
       "      <th></th>\n",
       "      <th></th>\n",
       "      <th></th>\n",
       "      <th></th>\n",
       "    </tr>\n",
       "  </thead>\n",
       "  <tbody>\n",
       "    <tr>\n",
       "      <th>2024-08-28</th>\n",
       "      <td>227.919998</td>\n",
       "      <td>229.860001</td>\n",
       "      <td>225.679993</td>\n",
       "      <td>226.490005</td>\n",
       "      <td>226.490005</td>\n",
       "      <td>38052200</td>\n",
       "    </tr>\n",
       "    <tr>\n",
       "      <th>2024-08-29</th>\n",
       "      <td>230.100006</td>\n",
       "      <td>232.919998</td>\n",
       "      <td>228.880005</td>\n",
       "      <td>229.789993</td>\n",
       "      <td>229.789993</td>\n",
       "      <td>51906300</td>\n",
       "    </tr>\n",
       "    <tr>\n",
       "      <th>2024-08-30</th>\n",
       "      <td>230.190002</td>\n",
       "      <td>230.399994</td>\n",
       "      <td>227.479996</td>\n",
       "      <td>229.000000</td>\n",
       "      <td>229.000000</td>\n",
       "      <td>52990800</td>\n",
       "    </tr>\n",
       "    <tr>\n",
       "      <th>2024-09-03</th>\n",
       "      <td>228.550003</td>\n",
       "      <td>229.000000</td>\n",
       "      <td>221.169998</td>\n",
       "      <td>222.770004</td>\n",
       "      <td>222.770004</td>\n",
       "      <td>50190600</td>\n",
       "    </tr>\n",
       "    <tr>\n",
       "      <th>2024-09-04</th>\n",
       "      <td>221.660004</td>\n",
       "      <td>221.779999</td>\n",
       "      <td>217.479996</td>\n",
       "      <td>220.850006</td>\n",
       "      <td>220.850006</td>\n",
       "      <td>43840200</td>\n",
       "    </tr>\n",
       "  </tbody>\n",
       "</table>\n",
       "</div>"
      ],
      "text/plain": [
       "                  Open        High         Low       Close   Adj Close  \\\n",
       "Date                                                                     \n",
       "2024-08-28  227.919998  229.860001  225.679993  226.490005  226.490005   \n",
       "2024-08-29  230.100006  232.919998  228.880005  229.789993  229.789993   \n",
       "2024-08-30  230.190002  230.399994  227.479996  229.000000  229.000000   \n",
       "2024-09-03  228.550003  229.000000  221.169998  222.770004  222.770004   \n",
       "2024-09-04  221.660004  221.779999  217.479996  220.850006  220.850006   \n",
       "\n",
       "              Volume  \n",
       "Date                  \n",
       "2024-08-28  38052200  \n",
       "2024-08-29  51906300  \n",
       "2024-08-30  52990800  \n",
       "2024-09-03  50190600  \n",
       "2024-09-04  43840200  "
      ]
     },
     "execution_count": 3,
     "metadata": {},
     "output_type": "execute_result"
    }
   ],
   "source": [
    "aapl_data.head()"
   ]
  },
  {
   "cell_type": "code",
   "execution_count": 4,
   "metadata": {},
   "outputs": [
    {
     "name": "stdout",
     "output_type": "stream",
     "text": [
      "<class 'pandas.core.frame.DataFrame'>\n",
      "DatetimeIndex: 22 entries, 2024-08-28 to 2024-09-27\n",
      "Data columns (total 6 columns):\n",
      " #   Column     Non-Null Count  Dtype  \n",
      "---  ------     --------------  -----  \n",
      " 0   Open       22 non-null     float64\n",
      " 1   High       22 non-null     float64\n",
      " 2   Low        22 non-null     float64\n",
      " 3   Close      22 non-null     float64\n",
      " 4   Adj Close  22 non-null     float64\n",
      " 5   Volume     22 non-null     int64  \n",
      "dtypes: float64(5), int64(1)\n",
      "memory usage: 1.2 KB\n"
     ]
    }
   ],
   "source": [
    "aapl_data.info()"
   ]
  },
  {
   "cell_type": "code",
   "execution_count": 5,
   "metadata": {},
   "outputs": [
    {
     "data": {
      "text/html": [
       "<div>\n",
       "<style scoped>\n",
       "    .dataframe tbody tr th:only-of-type {\n",
       "        vertical-align: middle;\n",
       "    }\n",
       "\n",
       "    .dataframe tbody tr th {\n",
       "        vertical-align: top;\n",
       "    }\n",
       "\n",
       "    .dataframe thead th {\n",
       "        text-align: right;\n",
       "    }\n",
       "</style>\n",
       "<table border=\"1\" class=\"dataframe\">\n",
       "  <thead>\n",
       "    <tr style=\"text-align: right;\">\n",
       "      <th></th>\n",
       "      <th>Open</th>\n",
       "      <th>High</th>\n",
       "      <th>Low</th>\n",
       "      <th>Close</th>\n",
       "      <th>Adj Close</th>\n",
       "      <th>Volume</th>\n",
       "    </tr>\n",
       "  </thead>\n",
       "  <tbody>\n",
       "    <tr>\n",
       "      <th>count</th>\n",
       "      <td>22.000000</td>\n",
       "      <td>22.000000</td>\n",
       "      <td>22.000000</td>\n",
       "      <td>22.000000</td>\n",
       "      <td>22.000000</td>\n",
       "      <td>2.200000e+01</td>\n",
       "    </tr>\n",
       "    <tr>\n",
       "      <th>mean</th>\n",
       "      <td>224.216365</td>\n",
       "      <td>225.998181</td>\n",
       "      <td>221.887273</td>\n",
       "      <td>223.974546</td>\n",
       "      <td>223.974546</td>\n",
       "      <td>6.002342e+07</td>\n",
       "    </tr>\n",
       "    <tr>\n",
       "      <th>std</th>\n",
       "      <td>4.539872</td>\n",
       "      <td>4.628742</td>\n",
       "      <td>4.611149</td>\n",
       "      <td>3.977491</td>\n",
       "      <td>3.977491</td>\n",
       "      <td>5.857503e+07</td>\n",
       "    </tr>\n",
       "    <tr>\n",
       "      <th>min</th>\n",
       "      <td>215.750000</td>\n",
       "      <td>216.899994</td>\n",
       "      <td>213.919998</td>\n",
       "      <td>216.320007</td>\n",
       "      <td>216.320007</td>\n",
       "      <td>3.399360e+07</td>\n",
       "    </tr>\n",
       "    <tr>\n",
       "      <th>25%</th>\n",
       "      <td>221.502506</td>\n",
       "      <td>222.805004</td>\n",
       "      <td>217.627495</td>\n",
       "      <td>220.865005</td>\n",
       "      <td>220.865005</td>\n",
       "      <td>3.911632e+07</td>\n",
       "    </tr>\n",
       "    <tr>\n",
       "      <th>50%</th>\n",
       "      <td>224.439995</td>\n",
       "      <td>226.384995</td>\n",
       "      <td>221.715004</td>\n",
       "      <td>222.770004</td>\n",
       "      <td>222.770004</td>\n",
       "      <td>4.697115e+07</td>\n",
       "    </tr>\n",
       "    <tr>\n",
       "      <th>75%</th>\n",
       "      <td>228.325005</td>\n",
       "      <td>229.502502</td>\n",
       "      <td>225.717495</td>\n",
       "      <td>227.482502</td>\n",
       "      <td>227.482502</td>\n",
       "      <td>5.385720e+07</td>\n",
       "    </tr>\n",
       "    <tr>\n",
       "      <th>max</th>\n",
       "      <td>230.190002</td>\n",
       "      <td>233.089996</td>\n",
       "      <td>228.880005</td>\n",
       "      <td>229.789993</td>\n",
       "      <td>229.789993</td>\n",
       "      <td>3.186799e+08</td>\n",
       "    </tr>\n",
       "  </tbody>\n",
       "</table>\n",
       "</div>"
      ],
      "text/plain": [
       "             Open        High         Low       Close   Adj Close  \\\n",
       "count   22.000000   22.000000   22.000000   22.000000   22.000000   \n",
       "mean   224.216365  225.998181  221.887273  223.974546  223.974546   \n",
       "std      4.539872    4.628742    4.611149    3.977491    3.977491   \n",
       "min    215.750000  216.899994  213.919998  216.320007  216.320007   \n",
       "25%    221.502506  222.805004  217.627495  220.865005  220.865005   \n",
       "50%    224.439995  226.384995  221.715004  222.770004  222.770004   \n",
       "75%    228.325005  229.502502  225.717495  227.482502  227.482502   \n",
       "max    230.190002  233.089996  228.880005  229.789993  229.789993   \n",
       "\n",
       "             Volume  \n",
       "count  2.200000e+01  \n",
       "mean   6.002342e+07  \n",
       "std    5.857503e+07  \n",
       "min    3.399360e+07  \n",
       "25%    3.911632e+07  \n",
       "50%    4.697115e+07  \n",
       "75%    5.385720e+07  \n",
       "max    3.186799e+08  "
      ]
     },
     "execution_count": 5,
     "metadata": {},
     "output_type": "execute_result"
    }
   ],
   "source": [
    "aapl_data.describe()\n"
   ]
  },
  {
   "cell_type": "code",
   "execution_count": 6,
   "metadata": {},
   "outputs": [
    {
     "data": {
      "image/png": "[encoded data removed]",
      "text/plain": [
       "<Figure size 1200x800 with 1 Axes>"
      ]
     },
     "metadata": {},
     "output_type": "display_data"
    }
   ],
   "source": [
    "aapl_data = aapl_data.reset_index()[[\"Date\", \"Close\"]]\n",
    "aapl_data[\"Date\"] = pd.to_datetime(aapl_data.Date)\n",
    "aapl_data[\"Close\"].plot(figsize=(12, 8), title=\"Apple Stock Prices\", fontsize=20, label=\"Close Price\")\n",
    "plt.legend()\n",
    "plt.grid()\n",
    "plt.show()"
   ]
  },
  {
   "cell_type": "code",
   "execution_count": 7,
   "metadata": {},
   "outputs": [
    {
     "name": "stdout",
     "output_type": "stream",
     "text": [
      "Using 1 cpus for n_jobs.\n",
      "Data frequency is: B, used frequency is: B\n",
      "Model Number: 1 with model ARIMA in generation 0 of 3\n",
      "Model Number: 2 with model ETS in generation 0 of 3\n",
      "Model Number: 3 with model ETS in generation 0 of 3\n",
      "Model Number: 4 with model GLS in generation 0 of 3\n",
      "Model Number: 5 with model GLS in generation 0 of 3\n",
      "Model Number: 6 with model SeasonalNaive in generation 0 of 3\n",
      "Model Number: 7 with model SeasonalNaive in generation 0 of 3\n",
      "Model Number: 8 with model SeasonalNaive in generation 0 of 3\n",
      "Model Number: 9 with model SeasonalNaive in generation 0 of 3\n",
      "Model Number: 10 with model ETS in generation 0 of 3\n",
      "Model Number: 11 with model SeasonalNaive in generation 0 of 3\n",
      "Model Number: 12 with model RollingRegression in generation 0 of 3\n",
      "Template Eval Error: ValueError('future_regressor not supplied, necessary for regression_type') in model 12 in generation 0: RollingRegression\n",
      "Model Number: 13 with model RollingRegression in generation 0 of 3\n",
      "Template Eval Error: ValueError('Input X contains NaN.\\nExtraTreesRegressor does not accept missing values encoded as NaN natively. For supervised learning, you might want to consider sklearn.ensemble.HistGradientBoostingClassifier and Regressor which accept missing values encoded as NaNs natively. Alternatively, it is possible to preprocess the data, for instance by using an imputer transformer in a pipeline or drop samples with missing values. See https://scikit-learn.org/stable/modules/impute.html You can find a list of all estimators that handle NaN values at the following page: https://scikit-learn.org/stable/modules/impute.html#estimators-that-handle-nan-values') in model 13 in generation 0: RollingRegression\n",
      "Model Number: 14 with model ARIMA in generation 0 of 3\n",
      "Template Eval Error: Exception(\"Transformer Detrend failed on fit from params akima {'0': {'method': 'clip', 'std_threshold': 4, 'fillna': None}, '1': {'model': 'Linear', 'phi': 1, 'window': None, 'transform_dict': {'fillna': None, 'transformations': {'0': 'ScipyFilter'}, 'transformation_params': {'0': {'method': 'savgol_filter', 'method_args': {'window_length': 31, 'polyorder': 3, 'deriv': 0, 'mode': 'interp'}}}}}, '2': {'sigma': 2, 'rolling_window': 90, 'run_order': 'season_first', 'regression_params': {'regression_model': {'model': 'ElasticNet', 'model_params': {'l1_ratio': 0.9, 'fit_intercept': False, 'selection': 'cyclic'}}, 'datepart_method': ['lunar_phase'], 'polynomial_degree': None, 'transform_dict': None, 'holiday_countries_used': True, 'lags': None, 'forward_lags': None}, 'holiday_params': None, 'trend_method': 'rolling_mean'}, '3': {'rows': 1, 'lag': 1, 'method': 'additive', 'strength': 0.5, 'first_value_only': False, 'threshold': 1, 'threshold_method': 'max'}}\") in model 14 in generation 0: ARIMA\n",
      "Model Number: 15 with model ETS in generation 0 of 3\n",
      "Model Number: 16 with model RollingRegression in generation 0 of 3\n"
     ]
    },
    {
     "name": "stderr",
     "output_type": "stream",
     "text": [
      "C:\\Users\\alperugurcan\\AppData\\Roaming\\Python\\Python310\\site-packages\\sklearn\\base.py:493: UserWarning: X does not have valid feature names, but DecisionTreeRegressor was fitted with feature names\n",
      "  warnings.warn(\n",
      "C:\\Users\\alperugurcan\\AppData\\Roaming\\Python\\Python310\\site-packages\\sklearn\\base.py:493: UserWarning: X does not have valid feature names, but DecisionTreeRegressor was fitted with feature names\n",
      "  warnings.warn(\n",
      "C:\\Users\\alperugurcan\\AppData\\Roaming\\Python\\Python310\\site-packages\\sklearn\\base.py:493: UserWarning: X does not have valid feature names, but DecisionTreeRegressor was fitted with feature names\n",
      "  warnings.warn(\n",
      "C:\\Users\\alperugurcan\\AppData\\Roaming\\Python\\Python310\\site-packages\\sklearn\\base.py:493: UserWarning: X does not have valid feature names, but DecisionTreeRegressor was fitted with feature names\n",
      "  warnings.warn(\n",
      "C:\\Users\\alperugurcan\\AppData\\Roaming\\Python\\Python310\\site-packages\\sklearn\\base.py:493: UserWarning: X does not have valid feature names, but DecisionTreeRegressor was fitted with feature names\n",
      "  warnings.warn(\n"
     ]
    },
    {
     "name": "stdout",
     "output_type": "stream",
     "text": [
      "Model Number: 17 with model GLS in generation 0 of 3\n",
      "Model Number: 18 with model SeasonalNaive in generation 0 of 3\n",
      "Model Number: 19 with model ETS in generation 0 of 3\n",
      "Model Number: 20 with model ETS in generation 0 of 3\n",
      "Template Eval Error: Exception(\"Transformer STLFilter failed on fit from params ffill_mean_biased {'0': {'lag': 7, 'fill': 'bfill'}, '1': {}, '2': {'method': None, 'method_params': None, 'transform_dict': None, 'reverse_alignment': True, 'isolated_only': False, 'fillna': 3.0}, '3': {'method': 0.2}, '4': {'decomp_type': 'seasonal_decompose', 'part': 'trend'}, '5': {'model_name': 'local_linear_trend_ets_aan', 'state_transition': [[1, 1], [0, 1]], 'process_noise': [[1.3, 0.0], [0.0, 0.1]], 'observation_model': [[1, 0]], 'observation_noise': 0.5, 'em_iter': None, 'on_transform': False, 'on_inverse': True}}\") in model 20 in generation 0: ETS\n",
      "Model Number: 21 with model SeasonalNaive in generation 0 of 3\n",
      "Model Number: 22 with model ARIMA in generation 0 of 3\n",
      "Model Number: 23 with model SeasonalNaive in generation 0 of 3\n",
      "Model Number: 24 with model SeasonalNaive in generation 0 of 3\n",
      "Template Eval Error: Exception(\"Transformer AlignLastValue failed on fit from params quadratic {'0': {}, '1': {'rows': 5}, '2': {'rows': 1, 'lag': 28, 'method': 'additive', 'strength': 1.0, 'first_value_only': False, 'threshold': 1, 'threshold_method': 'max'}, '3': {'n_harmonics': None, 'detrend': 'linear'}, '4': {'lag_1': 12, 'method': 'LastValue'}, '5': {}}\") in model 24 in generation 0: SeasonalNaive\n",
      "Model Number: 25 with model ETS in generation 0 of 3\n",
      "Model Number: 26 with model RollingRegression in generation 0 of 3\n",
      "Template Eval Error: ValueError('future_regressor not supplied, necessary for regression_type') in model 26 in generation 0: RollingRegression\n",
      "Model Number: 27 with model RollingRegression in generation 0 of 3\n",
      "Template Eval Error: ModuleNotFoundError(\"No module named 'lightgbm'\") in model 27 in generation 0: RollingRegression\n",
      "Model Number: 28 with model GLS in generation 0 of 3\n",
      "Model Number: 29 with model RollingRegression in generation 0 of 3\n",
      "Template Eval Error: ValueError('Input X contains NaN.\\nPoissonRegressor does not accept missing values encoded as NaN natively. For supervised learning, you might want to consider sklearn.ensemble.HistGradientBoostingClassifier and Regressor which accept missing values encoded as NaNs natively. Alternatively, it is possible to preprocess the data, for instance by using an imputer transformer in a pipeline or drop samples with missing values. See https://scikit-learn.org/stable/modules/impute.html You can find a list of all estimators that handle NaN values at the following page: https://scikit-learn.org/stable/modules/impute.html#estimators-that-handle-nan-values') in model 29 in generation 0: RollingRegression\n",
      "Model Number: 30 with model SeasonalNaive in generation 0 of 3\n",
      "Template Eval Error: Exception(\"Transformer Detrend failed on fit from params ffill {'0': {'method': 'clip', 'std_threshold': 4, 'fillna': None}, '1': {'model': 'Linear', 'phi': 1, 'window': None, 'transform_dict': {'fillna': None, 'transformations': {'0': 'ScipyFilter'}, 'transformation_params': {'0': {'method': 'savgol_filter', 'method_args': {'window_length': 31, 'polyorder': 3, 'deriv': 0, 'mode': 'interp'}}}}}, '2': {'method': 0.5}}\") in model 30 in generation 0: SeasonalNaive\n",
      "Model Number: 31 with model ARIMA in generation 0 of 3\n",
      "Template Eval Error: ValueError(\"regression_type='User' but future_regressor not supplied\") in model 31 in generation 0: ARIMA\n",
      "Model Number: 32 with model ARIMA in generation 0 of 3\n",
      "Template Eval Error: Exception(\"Transformer PCA failed on fit from params pchip {'0': {'whiten': False, 'n_components': 10}, '1': {}, '2': {}, '3': {}, '4': {'lag_1': 7, 'method': 20}, '5': {'output_distribution': 'uniform', 'n_quantiles': 100}}\") in model 32 in generation 0: ARIMA\n",
      "Model Number: 33 with model ETS in generation 0 of 3\n",
      "Model Number: 34 with model ETS in generation 0 of 3\n",
      "Model Number: 35 with model SeasonalNaive in generation 0 of 3\n"
     ]
    },
    {
     "name": "stderr",
     "output_type": "stream",
     "text": [
      "C:\\Users\\alperugurcan\\AppData\\Roaming\\Python\\Python310\\site-packages\\sklearn\\linear_model\\_ridge.py:255: UserWarning: Singular matrix in solving dual problem. Using least-squares solution instead.\n",
      "  warnings.warn(\n",
      "C:\\Users\\alperugurcan\\AppData\\Roaming\\Python\\Python310\\site-packages\\autots\\tools\\thresholding.py:204: RuntimeWarning: overflow encountered in scalar power\n",
      "  (1 + mean_perc_decrease) ** self.mean_weight\n"
     ]
    },
    {
     "name": "stdout",
     "output_type": "stream",
     "text": [
      "Model Number: 36 with model GLS in generation 0 of 3\n",
      "Model Number: 37 with model ARIMA in generation 0 of 3\n",
      "Template Eval Error: ValueError(\"regression_type='User' but future_regressor not supplied\") in model 37 in generation 0: ARIMA\n",
      "Model Number: 38 with model RollingRegression in generation 0 of 3\n",
      "Template Eval Error: ValueError('Input X contains NaN.\\nElasticNet does not accept missing values encoded as NaN natively. For supervised learning, you might want to consider sklearn.ensemble.HistGradientBoostingClassifier and Regressor which accept missing values encoded as NaNs natively. Alternatively, it is possible to preprocess the data, for instance by using an imputer transformer in a pipeline or drop samples with missing values. See https://scikit-learn.org/stable/modules/impute.html You can find a list of all estimators that handle NaN values at the following page: https://scikit-learn.org/stable/modules/impute.html#estimators-that-handle-nan-values') in model 38 in generation 0: RollingRegression\n",
      "New Generation: 1 of 3\n",
      "Model Number: 39 with model ETS in generation 1 of 3\n",
      "Model Number: 40 with model SeasonalNaive in generation 1 of 3\n",
      "Model Number: 41 with model SeasonalNaive in generation 1 of 3\n",
      "Model Number: 42 with model SeasonalNaive in generation 1 of 3\n",
      "Model Number: 43 with model RollingRegression in generation 1 of 3\n",
      "Template Eval Error: InvalidParameterError(\"The 'alpha' parameter of MLPRegressor must be a float in the range [0.0, inf). Got None instead.\") in model 43 in generation 1: RollingRegression\n",
      "Model Number: 44 with model GLS in generation 1 of 3\n",
      "Model Number: 45 with model ETS in generation 1 of 3\n",
      "Model Number: 46 with model ETS in generation 1 of 3\n",
      "Model Number: 47 with model GLS in generation 1 of 3\n",
      "Model Number: 48 with model SeasonalNaive in generation 1 of 3\n",
      "Model Number: 49 with model ETS in generation 1 of 3\n",
      "Model Number: 50 with model GLS in generation 1 of 3\n",
      "Model Number: 51 with model RollingRegression in generation 1 of 3\n",
      "Template Eval Error: Exception(\"Transformer LocalLinearTrend failed on fit from params akima {'0': {'method': 'rolling_zscore', 'method_params': {'distribution': 'gamma', 'alpha': 0.2, 'rolling_periods': 90, 'center': False}, 'fillna': 'linear', 'transform_dict': {'transformations': {'0': 'DatepartRegression'}, 'transformation_params': {'0': {'datepart_method': 'simple_3', 'regression_model': {'model': 'FastRidge', 'model_params': {}}}}}, 'isolated_only': False}, '1': {'output_distribution': 'uniform', 'n_quantiles': 6}, '2': {'rolling_window': 90, 'n_tails': 0.1, 'n_future': 0.2, 'method': 'median', 'macro_micro': True}}\") in model 51 in generation 1: RollingRegression\n",
      "Model Number: 52 with model GLS in generation 1 of 3\n",
      "Model Number: 53 with model ETS in generation 1 of 3\n"
     ]
    },
    {
     "name": "stderr",
     "output_type": "stream",
     "text": [
      "C:\\Users\\alperugurcan\\AppData\\Roaming\\Python\\Python310\\site-packages\\sklearn\\linear_model\\_ridge.py:255: UserWarning: Singular matrix in solving dual problem. Using least-squares solution instead.\n",
      "  warnings.warn(\n"
     ]
    },
    {
     "name": "stdout",
     "output_type": "stream",
     "text": [
      "Model Number: 54 with model GLS in generation 1 of 3\n",
      "Model Number: 55 with model GLS in generation 1 of 3\n",
      "Model Number: 56 with model ETS in generation 1 of 3\n",
      "Model Number: 57 with model GLS in generation 1 of 3\n",
      "Model Number: 58 with model ARIMA in generation 1 of 3\n",
      "Model Number: 59 with model RollingRegression in generation 1 of 3\n",
      "Template Eval Error: ValueError('Input X contains NaN.\\nNystroem does not accept missing values encoded as NaN natively. For supervised learning, you might want to consider sklearn.ensemble.HistGradientBoostingClassifier and Regressor which accept missing values encoded as NaNs natively. Alternatively, it is possible to preprocess the data, for instance by using an imputer transformer in a pipeline or drop samples with missing values. See https://scikit-learn.org/stable/modules/impute.html You can find a list of all estimators that handle NaN values at the following page: https://scikit-learn.org/stable/modules/impute.html#estimators-that-handle-nan-values') in model 59 in generation 1: RollingRegression\n",
      "Model Number: 60 with model ETS in generation 1 of 3\n",
      "Model Number: 61 with model ARIMA in generation 1 of 3\n",
      "Model Number: 62 with model GLS in generation 1 of 3\n",
      "Template Eval Error: Exception(\"Transformer RegressionFilter failed on fit from params ffill {'0': {'sigma': 1.5, 'rolling_window': 90, 'run_order': 'season_first', 'regression_params': {'regression_model': {'model': 'ElasticNet', 'model_params': {'l1_ratio': 0.5, 'fit_intercept': True, 'selection': 'cyclic'}}, 'datepart_method': 'recurring', 'polynomial_degree': None, 'transform_dict': {'fillna': None, 'transformations': {'0': 'Discretize'}, 'transformation_params': {'0': {'discretization': 'center', 'n_bins': 20}}}, 'holiday_countries_used': False, 'lags': None, 'forward_lags': None}, 'holiday_params': None, 'trend_method': 'local_linear'}}\") in model 62 in generation 1: GLS\n",
      "Model Number: 63 with model ETS in generation 1 of 3\n",
      "New Generation: 2 of 3\n",
      "Model Number: 64 with model ETS in generation 2 of 3\n",
      "Model Number: 65 with model GLS in generation 2 of 3\n",
      "Model Number: 66 with model ARIMA in generation 2 of 3\n",
      "Template Eval Error: ValueError(\"regression_type='User' but future_regressor not supplied\") in model 66 in generation 2: ARIMA\n",
      "Model Number: 67 with model GLS in generation 2 of 3\n",
      "Model Number: 68 with model ETS in generation 2 of 3\n",
      "Template Eval Error: Exception(\"Transformer HolidayTransformer failed on fit from params akima {'0': {'threshold': 0.7, 'splash_threshold': None, 'use_dayofmonth_holidays': True, 'use_wkdom_holidays': True, 'use_wkdeom_holidays': True, 'use_lunar_holidays': False, 'use_lunar_weekday': False, 'use_islamic_holidays': False, 'use_hebrew_holidays': False, 'anomaly_detector_params': {'method': 'zscore', 'method_params': {'distribution': 'norm', 'alpha': 0.05}, 'fillna': 'rolling_mean_24', 'transform_dict': {'transformations': {'0': 'DatepartRegression'}, 'transformation_params': {'0': {'datepart_method': 'simple_3', 'regression_model': {'model': 'FastRidge', 'model_params': {}}}}}, 'isolated_only': False}, 'remove_excess_anomalies': True, 'impact': 'median_value', 'regression_params': {}}, '1': {'rows': 1, 'lag': 1, 'method': 'additive', 'strength': 1.0, 'first_value_only': False, 'threshold': None, 'threshold_method': 'max'}, '2': {}}\") in model 68 in generation 2: ETS\n",
      "Model Number: 69 with model GLS in generation 2 of 3\n",
      "Model Number: 70 with model SeasonalNaive in generation 2 of 3\n",
      "Model Number: 71 with model GLS in generation 2 of 3"
     ]
    },
    {
     "name": "stderr",
     "output_type": "stream",
     "text": [
      "C:\\Users\\alperugurcan\\AppData\\Roaming\\Python\\Python310\\site-packages\\sklearn\\linear_model\\_ridge.py:255: UserWarning: Singular matrix in solving dual problem. Using least-squares solution instead.\n",
      "  warnings.warn(\n"
     ]
    },
    {
     "name": "stdout",
     "output_type": "stream",
     "text": [
      "\n",
      "Model Number: 72 with model ETS in generation 2 of 3\n",
      "Model Number: 73 with model RollingRegression in generation 2 of 3\n"
     ]
    },
    {
     "name": "stderr",
     "output_type": "stream",
     "text": [
      "C:\\Users\\alperugurcan\\AppData\\Roaming\\Python\\Python310\\site-packages\\sklearn\\neural_network\\_multilayer_perceptron.py:1631: DataConversionWarning: A column-vector y was passed when a 1d array was expected. Please change the shape of y to (n_samples, ), for example using ravel().\n",
      "  y = column_or_1d(y, warn=True)\n"
     ]
    },
    {
     "name": "stdout",
     "output_type": "stream",
     "text": [
      "Model Number: 74 with model SeasonalNaive in generation 2 of 3\n"
     ]
    },
    {
     "name": "stderr",
     "output_type": "stream",
     "text": [
      "C:\\Users\\alperugurcan\\AppData\\Roaming\\Python\\Python310\\site-packages\\sklearn\\neural_network\\_multilayer_perceptron.py:690: ConvergenceWarning: Stochastic Optimizer: Maximum iterations (250) reached and the optimization hasn't converged yet.\n",
      "  warnings.warn(\n",
      "C:\\Users\\alperugurcan\\AppData\\Roaming\\Python\\Python310\\site-packages\\sklearn\\base.py:493: UserWarning: X does not have valid feature names, but MLPRegressor was fitted with feature names\n",
      "  warnings.warn(\n",
      "C:\\Users\\alperugurcan\\AppData\\Roaming\\Python\\Python310\\site-packages\\sklearn\\base.py:493: UserWarning: X does not have valid feature names, but MLPRegressor was fitted with feature names\n",
      "  warnings.warn(\n",
      "C:\\Users\\alperugurcan\\AppData\\Roaming\\Python\\Python310\\site-packages\\sklearn\\base.py:493: UserWarning: X does not have valid feature names, but MLPRegressor was fitted with feature names\n",
      "  warnings.warn(\n",
      "C:\\Users\\alperugurcan\\AppData\\Roaming\\Python\\Python310\\site-packages\\sklearn\\base.py:493: UserWarning: X does not have valid feature names, but MLPRegressor was fitted with feature names\n",
      "  warnings.warn(\n",
      "C:\\Users\\alperugurcan\\AppData\\Roaming\\Python\\Python310\\site-packages\\sklearn\\base.py:493: UserWarning: X does not have valid feature names, but MLPRegressor was fitted with feature names\n",
      "  warnings.warn(\n"
     ]
    },
    {
     "name": "stdout",
     "output_type": "stream",
     "text": [
      "Model Number: 75 with model SeasonalNaive in generation 2 of 3\n",
      "Model Number: 76 with model ETS in generation 2 of 3\n",
      "Template Eval Error: Exception(\"Transformer ReplaceConstant failed on fit from params quadratic {'0': {'constant': 0, 'reintroduction_model': {'model': 'xgboost', 'model_params': {'booster': 'gbtree', 'max_depth': 6, 'eta': 0.003, 'min_child_weight': 1, 'subsample': 1, 'colsample_bylevel': 1, 'reg_alpha': 0, 'reg_lambda': 5, 'n_estimators': 100}, 'datepart_method': 'common_fourier'}, 'fillna': 'ffill'}}\") in model 76 in generation 2: ETS\n",
      "Model Number: 77 with model SeasonalNaive in generation 2 of 3\n",
      "Model Number: 78 with model GLS in generation 2 of 3\n",
      "Model Number: 79 with model GLS in generation 2 of 3\n",
      "Model Number: 80 with model GLS in generation 2 of 3\n",
      "Model Number: 81 with model SeasonalNaive in generation 2 of 3\n",
      "Model Number: 82 with model GLS in generation 2 of 3\n",
      "Model Number: 83 with model ETS in generation 2 of 3\n"
     ]
    },
    {
     "name": "stderr",
     "output_type": "stream",
     "text": [
      "C:\\Users\\alperugurcan\\AppData\\Roaming\\Python\\Python310\\site-packages\\sklearn\\decomposition\\_pca.py:653: RuntimeWarning: invalid value encountered in divide\n",
      "  explained_variance_ratio_ = explained_variance_ / total_var\n"
     ]
    },
    {
     "name": "stdout",
     "output_type": "stream",
     "text": [
      "Model Number: 84 with model ETS in generation 2 of 3\n",
      "Model Number: 85 with model ETS in generation 2 of 3\n",
      "Model Number: 86 with model ETS in generation 2 of 3\n",
      "Model Number: 87 with model SeasonalNaive in generation 2 of 3\n",
      "Template Eval Error: Exception(\"Transformer AlignLastValue failed on fit from params rolling_mean_24 {'0': {}, '1': {'model': 'middle', 'decimals': 2, 'on_transform': False, 'on_inverse': True}, '2': {'method': 'mad', 'method_params': {'distribution': 'uniform', 'alpha': 0.05}, 'fillna': 'ffill', 'transform_dict': None, 'isolated_only': False}, '3': {'rows': 1, 'lag': 28, 'method': 'additive', 'strength': 1.0, 'first_value_only': False, 'threshold': None, 'threshold_method': 'mean'}, '4': {}}\") in model 87 in generation 2: SeasonalNaive\n",
      "Model Number: 88 with model RollingRegression in generation 2 of 3\n",
      "Template Eval Error: ValueError('Input X contains NaN.\\nBayesianRidge does not accept missing values encoded as NaN natively. For supervised learning, you might want to consider sklearn.ensemble.HistGradientBoostingClassifier and Regressor which accept missing values encoded as NaNs natively. Alternatively, it is possible to preprocess the data, for instance by using an imputer transformer in a pipeline or drop samples with missing values. See https://scikit-learn.org/stable/modules/impute.html You can find a list of all estimators that handle NaN values at the following page: https://scikit-learn.org/stable/modules/impute.html#estimators-that-handle-nan-values') in model 88 in generation 2: RollingRegression\n",
      "New Generation: 3 of 3\n",
      "Model Number: 89 with model ETS in generation 3 of 3\n",
      "Model Number: 90 with model GLS in generation 3 of 3\n",
      "Model Number: 91 with model SeasonalNaive in generation 3 of 3\n",
      "Model Number: 92 with model GLS in generation 3 of 3\n",
      "Model Number: 93 with model RollingRegression in generation 3 of 3\n",
      "Template Eval Error: ValueError('Input X contains NaN.\\nNystroem does not accept missing values encoded as NaN natively. For supervised learning, you might want to consider sklearn.ensemble.HistGradientBoostingClassifier and Regressor which accept missing values encoded as NaNs natively. Alternatively, it is possible to preprocess the data, for instance by using an imputer transformer in a pipeline or drop samples with missing values. See https://scikit-learn.org/stable/modules/impute.html You can find a list of all estimators that handle NaN values at the following page: https://scikit-learn.org/stable/modules/impute.html#estimators-that-handle-nan-values') in model 93 in generation 3: RollingRegression\n",
      "Model Number: 94 with model RollingRegression in generation 3 of 3\n",
      "Model Number: 95 with model SeasonalNaive in generation 3 of 3\n"
     ]
    },
    {
     "name": "stderr",
     "output_type": "stream",
     "text": [
      "C:\\Users\\alperugurcan\\AppData\\Roaming\\Python\\Python310\\site-packages\\sklearn\\base.py:493: UserWarning: X does not have valid feature names, but ElasticNet was fitted with feature names\n",
      "  warnings.warn(\n",
      "C:\\Users\\alperugurcan\\AppData\\Roaming\\Python\\Python310\\site-packages\\sklearn\\base.py:493: UserWarning: X does not have valid feature names, but ElasticNet was fitted with feature names\n",
      "  warnings.warn(\n",
      "C:\\Users\\alperugurcan\\AppData\\Roaming\\Python\\Python310\\site-packages\\sklearn\\base.py:493: UserWarning: X does not have valid feature names, but ElasticNet was fitted with feature names\n",
      "  warnings.warn(\n",
      "C:\\Users\\alperugurcan\\AppData\\Roaming\\Python\\Python310\\site-packages\\sklearn\\base.py:493: UserWarning: X does not have valid feature names, but ElasticNet was fitted with feature names\n",
      "  warnings.warn(\n",
      "C:\\Users\\alperugurcan\\AppData\\Roaming\\Python\\Python310\\site-packages\\sklearn\\base.py:493: UserWarning: X does not have valid feature names, but ElasticNet was fitted with feature names\n",
      "  warnings.warn(\n"
     ]
    },
    {
     "name": "stdout",
     "output_type": "stream",
     "text": [
      "Model Number: 96 with model GLS in generation 3 of 3\n",
      "Model Number: 97 with model ETS in generation 3 of 3\n",
      "Model Number: 98 with model ETS in generation 3 of 3\n",
      "Model Number: 99 with model GLS in generation 3 of 3\n",
      "Template Eval Error: Exception(\"Transformer Cointegration failed on fit from params akima {'0': {'fixed': True, 'window': 3}, '1': {}, '2': {}, '3': {}, '4': {}, '5': {'det_order': 1, 'k_ar_diff': 2}}\") in model 99 in generation 3: GLS\n",
      "Model Number: 100 with model SeasonalNaive in generation 3 of 3\n",
      "Model Number: 101 with model GLS in generation 3 of 3\n",
      "Model Number: 102 with model SeasonalNaive in generation 3 of 3\n",
      "Model Number: 103 with model SeasonalNaive in generation 3 of 3\n",
      "Model Number: 104 with model ETS in generation 3 of 3\n",
      "Model Number: 105 with model ETS in generation 3 of 3\n",
      "Model Number: 106 with model SeasonalNaive in generation 3 of 3\n",
      "Model Number: 107 with model ETS in generation 3 of 3\n",
      "Template Eval Error: Exception(\"Transformer AlignLastValue failed on fit from params fake_date {'0': {'rows': 1, 'lag': 28, 'method': 'additive', 'strength': 1.0, 'first_value_only': False, 'threshold': 1, 'threshold_method': 'mean'}, '1': {}, '2': {'method': 'EE', 'method_params': {'contamination': 0.1, 'assume_centered': False, 'support_fraction': None}, 'fillna': 'linear', 'transform_dict': {'fillna': 'time', 'transformations': {'0': 'LevelShiftTransformer'}, 'transformation_params': {'0': {'window_size': 90, 'alpha': 3.0, 'grouping_forward_limit': 2, 'max_level_shifts': 5, 'alignment': 'average'}}}, 'isolated_only': False}}\") in model 107 in generation 3: ETS\n",
      "Model Number: 108 with model GLS in generation 3 of 3\n",
      "Model Number: 109 with model SeasonalNaive in generation 3 of 3\n",
      "Model Number: 110 with model SeasonalNaive in generation 3 of 3\n",
      "Model Number: 111 with model SeasonalNaive in generation 3 of 3\n",
      "Model Number: 112 with model SeasonalNaive in generation 3 of 3\n",
      "Model Number: 113 with model GLS in generation 3 of 3\n",
      "Model Number: 114 with model Ensemble in generation 4 of Ensembles\n",
      "Model Number: 115 with model Ensemble in generation 4 of Ensembles\n",
      "Model Number: 116 with model Ensemble in generation 4 of Ensembles\n",
      "Model Number: 117 with model Ensemble in generation 4 of Ensembles\n",
      "Model Number: 118 with model Ensemble in generation 4 of Ensembles\n",
      "Model Number: 119 with model Ensemble in generation 4 of Ensembles\n"
     ]
    },
    {
     "name": "stderr",
     "output_type": "stream",
     "text": [
      "C:\\Users\\alperugurcan\\AppData\\Roaming\\Python\\Python310\\site-packages\\sklearn\\base.py:493: UserWarning: X does not have valid feature names, but DecisionTreeRegressor was fitted with feature names\n",
      "  warnings.warn(\n",
      "C:\\Users\\alperugurcan\\AppData\\Roaming\\Python\\Python310\\site-packages\\sklearn\\base.py:493: UserWarning: X does not have valid feature names, but DecisionTreeRegressor was fitted with feature names\n",
      "  warnings.warn(\n",
      "C:\\Users\\alperugurcan\\AppData\\Roaming\\Python\\Python310\\site-packages\\sklearn\\base.py:493: UserWarning: X does not have valid feature names, but DecisionTreeRegressor was fitted with feature names\n",
      "  warnings.warn(\n",
      "C:\\Users\\alperugurcan\\AppData\\Roaming\\Python\\Python310\\site-packages\\sklearn\\base.py:493: UserWarning: X does not have valid feature names, but DecisionTreeRegressor was fitted with feature names\n",
      "  warnings.warn(\n",
      "C:\\Users\\alperugurcan\\AppData\\Roaming\\Python\\Python310\\site-packages\\sklearn\\base.py:493: UserWarning: X does not have valid feature names, but DecisionTreeRegressor was fitted with feature names\n",
      "  warnings.warn(\n"
     ]
    },
    {
     "name": "stdout",
     "output_type": "stream",
     "text": [
      "Model Number: 120 with model Ensemble in generation 4 of Ensembles\n",
      "Model Number: 121 with model Ensemble in generation 4 of Ensembles\n",
      "Validation Round: 1\n",
      "Model Number: 1 of 24 with model Ensemble for Validation 1\n",
      "📈 1 - Ensemble with avg smape 2.39: \n",
      "Model Number: 2 of 24 with model Ensemble for Validation 1\n",
      "2 - Ensemble with avg smape 2.39: \n",
      "Model Number: 3 of 24 with model Ensemble for Validation 1\n",
      "3 - Ensemble with avg smape 2.4: \n",
      "Model Number: 4 of 24 with model Ensemble for Validation 1\n"
     ]
    },
    {
     "name": "stderr",
     "output_type": "stream",
     "text": [
      "C:\\Users\\alperugurcan\\AppData\\Roaming\\Python\\Python310\\site-packages\\sklearn\\base.py:493: UserWarning: X does not have valid feature names, but DecisionTreeRegressor was fitted with feature names\n",
      "  warnings.warn(\n",
      "C:\\Users\\alperugurcan\\AppData\\Roaming\\Python\\Python310\\site-packages\\sklearn\\base.py:493: UserWarning: X does not have valid feature names, but DecisionTreeRegressor was fitted with feature names\n",
      "  warnings.warn(\n",
      "C:\\Users\\alperugurcan\\AppData\\Roaming\\Python\\Python310\\site-packages\\sklearn\\base.py:493: UserWarning: X does not have valid feature names, but DecisionTreeRegressor was fitted with feature names\n",
      "  warnings.warn(\n",
      "C:\\Users\\alperugurcan\\AppData\\Roaming\\Python\\Python310\\site-packages\\sklearn\\base.py:493: UserWarning: X does not have valid feature names, but DecisionTreeRegressor was fitted with feature names\n",
      "  warnings.warn(\n",
      "C:\\Users\\alperugurcan\\AppData\\Roaming\\Python\\Python310\\site-packages\\sklearn\\base.py:493: UserWarning: X does not have valid feature names, but DecisionTreeRegressor was fitted with feature names\n",
      "  warnings.warn(\n"
     ]
    },
    {
     "name": "stdout",
     "output_type": "stream",
     "text": [
      "4 - Ensemble with avg smape 2.41: \n",
      "Model Number: 5 of 24 with model Ensemble for Validation 1\n",
      "📈 5 - Ensemble with avg smape 2.32: \n",
      "Model Number: 6 of 24 with model Ensemble for Validation 1\n",
      "6 - Ensemble with avg smape 2.44: \n",
      "Model Number: 7 of 24 with model GLS for Validation 1\n",
      "7 - GLS with avg smape 2.48: \n",
      "Model Number: 8 of 24 with model GLS for Validation 1\n",
      "8 - GLS with avg smape 2.51: \n",
      "Model Number: 9 of 24 with model ETS for Validation 1\n",
      "9 - ETS with avg smape 2.32: \n",
      "Model Number: 10 of 24 with model SeasonalNaive for Validation 1\n",
      "10 - SeasonalNaive with avg smape 2.33: \n",
      "Model Number: 11 of 24 with model GLS for Validation 1\n",
      "11 - GLS with avg smape 2.37: \n",
      "Model Number: 12 of 24 with model SeasonalNaive for Validation 1\n",
      "📈 12 - SeasonalNaive with avg smape 2.29: \n",
      "Model Number: 13 of 24 with model GLS for Validation 1\n",
      "13 - GLS with avg smape 2.48: \n",
      "Model Number: 14 of 24 with model SeasonalNaive for Validation 1\n",
      "14 - SeasonalNaive with avg smape 2.63: \n",
      "Model Number: 15 of 24 with model GLS for Validation 1\n",
      "15 - GLS with avg smape 2.51: \n",
      "Model Number: 16 of 24 with model ETS for Validation 1\n",
      "16 - ETS with avg smape 2.32: \n",
      "Model Number: 17 of 24 with model ETS for Validation 1\n",
      "17 - ETS with avg smape 2.42: \n",
      "Model Number: 18 of 24 with model ETS for Validation 1\n",
      "18 - ETS with avg smape 2.32: \n",
      "Model Number: 19 of 24 with model SeasonalNaive for Validation 1\n",
      "19 - SeasonalNaive with avg smape 2.33: \n",
      "Model Number: 20 of 24 with model RollingRegression for Validation 1\n"
     ]
    },
    {
     "name": "stderr",
     "output_type": "stream",
     "text": [
      "C:\\Users\\alperugurcan\\AppData\\Roaming\\Python\\Python310\\site-packages\\sklearn\\base.py:493: UserWarning: X does not have valid feature names, but DecisionTreeRegressor was fitted with feature names\n",
      "  warnings.warn(\n",
      "C:\\Users\\alperugurcan\\AppData\\Roaming\\Python\\Python310\\site-packages\\sklearn\\base.py:493: UserWarning: X does not have valid feature names, but DecisionTreeRegressor was fitted with feature names\n",
      "  warnings.warn(\n",
      "C:\\Users\\alperugurcan\\AppData\\Roaming\\Python\\Python310\\site-packages\\sklearn\\base.py:493: UserWarning: X does not have valid feature names, but DecisionTreeRegressor was fitted with feature names\n",
      "  warnings.warn(\n",
      "C:\\Users\\alperugurcan\\AppData\\Roaming\\Python\\Python310\\site-packages\\sklearn\\base.py:493: UserWarning: X does not have valid feature names, but DecisionTreeRegressor was fitted with feature names\n",
      "  warnings.warn(\n",
      "C:\\Users\\alperugurcan\\AppData\\Roaming\\Python\\Python310\\site-packages\\sklearn\\base.py:493: UserWarning: X does not have valid feature names, but DecisionTreeRegressor was fitted with feature names\n",
      "  warnings.warn(\n"
     ]
    },
    {
     "name": "stdout",
     "output_type": "stream",
     "text": [
      "20 - RollingRegression with avg smape 2.32: \n",
      "Model Number: 21 of 24 with model ETS for Validation 1\n",
      "21 - ETS with avg smape 2.32: \n",
      "Model Number: 22 of 24 with model ETS for Validation 1\n",
      "22 - ETS with avg smape 2.32: \n",
      "Model Number: 23 of 24 with model GLS for Validation 1\n",
      "23 - GLS with avg smape 2.31: \n",
      "Model Number: 24 of 24 with model SeasonalNaive for Validation 1\n",
      "24 - SeasonalNaive with avg smape 2.35: \n",
      "Validation Round: 2\n",
      "Model Number: 1 of 24 with model Ensemble for Validation 2\n",
      "📈 1 - Ensemble with avg smape 0.99: \n",
      "Model Number: 2 of 24 with model Ensemble for Validation 2\n",
      "2 - Ensemble with avg smape 0.99: \n",
      "Model Number: 3 of 24 with model Ensemble for Validation 2\n",
      "3 - Ensemble with avg smape 1.0: \n",
      "Model Number: 4 of 24 with model Ensemble for Validation 2\n"
     ]
    },
    {
     "name": "stderr",
     "output_type": "stream",
     "text": [
      "C:\\Users\\alperugurcan\\AppData\\Roaming\\Python\\Python310\\site-packages\\sklearn\\base.py:493: UserWarning: X does not have valid feature names, but DecisionTreeRegressor was fitted with feature names\n",
      "  warnings.warn(\n",
      "C:\\Users\\alperugurcan\\AppData\\Roaming\\Python\\Python310\\site-packages\\sklearn\\base.py:493: UserWarning: X does not have valid feature names, but DecisionTreeRegressor was fitted with feature names\n",
      "  warnings.warn(\n",
      "C:\\Users\\alperugurcan\\AppData\\Roaming\\Python\\Python310\\site-packages\\sklearn\\base.py:493: UserWarning: X does not have valid feature names, but DecisionTreeRegressor was fitted with feature names\n",
      "  warnings.warn(\n",
      "C:\\Users\\alperugurcan\\AppData\\Roaming\\Python\\Python310\\site-packages\\sklearn\\base.py:493: UserWarning: X does not have valid feature names, but DecisionTreeRegressor was fitted with feature names\n",
      "  warnings.warn(\n",
      "C:\\Users\\alperugurcan\\AppData\\Roaming\\Python\\Python310\\site-packages\\sklearn\\base.py:493: UserWarning: X does not have valid feature names, but DecisionTreeRegressor was fitted with feature names\n",
      "  warnings.warn(\n"
     ]
    },
    {
     "name": "stdout",
     "output_type": "stream",
     "text": [
      "📈 4 - Ensemble with avg smape 0.93: \n",
      "Model Number: 5 of 24 with model Ensemble for Validation 2\n",
      "Traceback (most recent call last):\n",
      "  File \"C:\\Users\\alperugurcan\\AppData\\Roaming\\Python\\Python310\\site-packages\\autots\\tools\\transform.py\", line 5489, in _fit\n",
      "    df = self._fit_one(df, i)\n",
      "  File \"C:\\Users\\alperugurcan\\AppData\\Roaming\\Python\\Python310\\site-packages\\autots\\tools\\transform.py\", line 5466, in _fit_one\n",
      "    df = self.transformers[i].fit_transform(df)\n",
      "  File \"C:\\Users\\alperugurcan\\AppData\\Roaming\\Python\\Python310\\site-packages\\autots\\tools\\transform.py\", line 524, in fit_transform\n",
      "    return self.transform(df)\n",
      "  File \"C:\\Users\\alperugurcan\\AppData\\Roaming\\Python\\Python310\\site-packages\\autots\\tools\\transform.py\", line 554, in transform\n",
      "    df = df.apply(\n",
      "  File \"c:\\Python310\\lib\\site-packages\\pandas\\core\\frame.py\", line 10374, in apply\n",
      "    return op.apply().__finalize__(self, method=\"apply\")\n",
      "  File \"c:\\Python310\\lib\\site-packages\\pandas\\core\\apply.py\", line 916, in apply\n",
      "    return self.apply_standard()\n",
      "  File \"c:\\Python310\\lib\\site-packages\\pandas\\core\\apply.py\", line 1063, in apply_standard\n",
      "    results, res_index = self.apply_series_generator()\n",
      "  File \"c:\\Python310\\lib\\site-packages\\pandas\\core\\apply.py\", line 1081, in apply_series_generator\n",
      "    results[i] = self.func(v, *self.args, **self.kwargs)\n",
      "  File \"C:\\Users\\alperugurcan\\AppData\\Roaming\\Python\\Python310\\site-packages\\autots\\tools\\transform.py\", line 543, in _stl_one_return\n",
      "    result = seasonal_decompose(series)\n",
      "  File \"c:\\Python310\\lib\\site-packages\\statsmodels\\tsa\\seasonal.py\", line 172, in seasonal_decompose\n",
      "    raise ValueError(\n",
      "ValueError: x must have 2 complete cycles requires 10 observations. x only has 8 observation(s)\n",
      "\n",
      "The above exception was the direct cause of the following exception:\n",
      "\n",
      "Traceback (most recent call last):\n",
      "  File \"C:\\Users\\alperugurcan\\AppData\\Roaming\\Python\\Python310\\site-packages\\autots\\evaluator\\auto_model.py\", line 1386, in model_forecast\n",
      "    df_forecast = model_forecast(\n",
      "  File \"C:\\Users\\alperugurcan\\AppData\\Roaming\\Python\\Python310\\site-packages\\autots\\evaluator\\auto_model.py\", line 1493, in model_forecast\n",
      "    model = model.fit(df_train_low, future_regressor_train)\n",
      "  File \"C:\\Users\\alperugurcan\\AppData\\Roaming\\Python\\Python310\\site-packages\\autots\\evaluator\\auto_model.py\", line 860, in fit\n",
      "    df_train_transformed = self.transformer_object._fit(df)\n",
      "  File \"C:\\Users\\alperugurcan\\AppData\\Roaming\\Python\\Python310\\site-packages\\autots\\tools\\transform.py\", line 5494, in _fit\n",
      "    raise Exception(err_str) from e\n",
      "Exception: Transformer STLFilter failed on fit from params rolling_mean {'0': {'regression_model': {'model': 'DecisionTree', 'model_params': {'max_depth': 9, 'min_samples_split': 2}}, 'datepart_method': 'expanded_binarized', 'polynomial_degree': None, 'transform_dict': None, 'holiday_countries_used': False, 'lags': None, 'forward_lags': None}, '1': {'decomp_type': 'seasonal_decompose', 'part': 'trend'}, '2': {}, '3': {'method': 100}}\n",
      "\n",
      "FAILED: Ensemble BestN component 5 of 5 GLS with error: Exception(\"Transformer STLFilter failed on fit from params rolling_mean {'0': {'regression_model': {'model': 'DecisionTree', 'model_params': {'max_depth': 9, 'min_samples_split': 2}}, 'datepart_method': 'expanded_binarized', 'polynomial_degree': None, 'transform_dict': None, 'holiday_countries_used': False, 'lags': None, 'forward_lags': None}, '1': {'decomp_type': 'seasonal_decompose', 'part': 'trend'}, '2': {}, '3': {'method': 100}}\")\n",
      "📈 5 - Ensemble with avg smape 0.92: \n",
      "Model Number: 6 of 24 with model Ensemble for Validation 2\n",
      "📈 6 - Ensemble with avg smape 0.79: \n",
      "Model Number: 7 of 24 with model GLS for Validation 2\n",
      "📈 7 - GLS with avg smape 0.53: \n",
      "Model Number: 8 of 24 with model GLS for Validation 2\n",
      "8 - GLS with avg smape 1.38: \n",
      "Model Number: 9 of 24 with model ETS for Validation 2\n",
      "9 - ETS with avg smape 0.53: \n",
      "Model Number: 10 of 24 with model SeasonalNaive for Validation 2\n",
      "10 - SeasonalNaive with avg smape 1.14: \n",
      "Model Number: 11 of 24 with model GLS for Validation 2\n",
      "Template Eval Error: Exception(\"Transformer STLFilter failed on fit from params rolling_mean {'0': {'regression_model': {'model': 'DecisionTree', 'model_params': {'max_depth': 9, 'min_samples_split': 2}}, 'datepart_method': 'expanded_binarized', 'polynomial_degree': None, 'transform_dict': None, 'holiday_countries_used': False, 'lags': None, 'forward_lags': None}, '1': {'decomp_type': 'seasonal_decompose', 'part': 'trend'}, '2': {}, '3': {'method': 100}}\") in model 11 in generation 0: GLS\n",
      "Model Number: 12 of 24 with model SeasonalNaive for Validation 2\n",
      "12 - SeasonalNaive with avg smape 1.14: \n",
      "Model Number: 13 of 24 with model GLS for Validation 2\n",
      "13 - GLS with avg smape 1.28: \n",
      "Model Number: 14 of 24 with model SeasonalNaive for Validation 2\n",
      "14 - SeasonalNaive with avg smape 1.31: \n",
      "Model Number: 15 of 24 with model GLS for Validation 2\n",
      "15 - GLS with avg smape 1.38: \n",
      "Model Number: 16 of 24 with model ETS for Validation 2\n",
      "16 - ETS with avg smape 0.57: \n",
      "Model Number: 17 of 24 with model ETS for Validation 2\n",
      "17 - ETS with avg smape 0.57: \n",
      "Model Number: 18 of 24 with model ETS for Validation 2\n",
      "18 - ETS with avg smape 0.57: \n",
      "Model Number: 19 of 24 with model SeasonalNaive for Validation 2\n",
      "📈 19 - SeasonalNaive with avg smape 0.5: \n",
      "Model Number: 20 of 24 with model RollingRegression for Validation 2\n",
      "20 - RollingRegression with avg smape 0.57: \n",
      "Model Number: 21 of 24 with model ETS for Validation 2\n"
     ]
    },
    {
     "name": "stderr",
     "output_type": "stream",
     "text": [
      "C:\\Users\\alperugurcan\\AppData\\Roaming\\Python\\Python310\\site-packages\\sklearn\\base.py:493: UserWarning: X does not have valid feature names, but DecisionTreeRegressor was fitted with feature names\n",
      "  warnings.warn(\n",
      "C:\\Users\\alperugurcan\\AppData\\Roaming\\Python\\Python310\\site-packages\\sklearn\\base.py:493: UserWarning: X does not have valid feature names, but DecisionTreeRegressor was fitted with feature names\n",
      "  warnings.warn(\n",
      "C:\\Users\\alperugurcan\\AppData\\Roaming\\Python\\Python310\\site-packages\\sklearn\\base.py:493: UserWarning: X does not have valid feature names, but DecisionTreeRegressor was fitted with feature names\n",
      "  warnings.warn(\n",
      "C:\\Users\\alperugurcan\\AppData\\Roaming\\Python\\Python310\\site-packages\\sklearn\\base.py:493: UserWarning: X does not have valid feature names, but DecisionTreeRegressor was fitted with feature names\n",
      "  warnings.warn(\n",
      "C:\\Users\\alperugurcan\\AppData\\Roaming\\Python\\Python310\\site-packages\\sklearn\\base.py:493: UserWarning: X does not have valid feature names, but DecisionTreeRegressor was fitted with feature names\n",
      "  warnings.warn(\n"
     ]
    },
    {
     "name": "stdout",
     "output_type": "stream",
     "text": [
      "21 - ETS with avg smape 0.57: \n",
      "Model Number: 22 of 24 with model ETS for Validation 2\n",
      "22 - ETS with avg smape 0.57: \n",
      "Model Number: 23 of 24 with model GLS for Validation 2\n",
      "23 - GLS with avg smape 0.56: \n",
      "Model Number: 24 of 24 with model SeasonalNaive for Validation 2\n",
      "24 - SeasonalNaive with avg smape 0.53: \n"
     ]
    },
    {
     "name": "stderr",
     "output_type": "stream",
     "text": [
      "C:\\Users\\alperugurcan\\AppData\\Roaming\\Python\\Python310\\site-packages\\autots\\evaluator\\auto_model.py:2462: FutureWarning: Downcasting behavior in `replace` is deprecated and will be removed in a future version. To retain the old behavior, explicitly call `result.infer_objects(copy=False)`. To opt-in to the future behavior, set `pd.set_option('future.no_silent_downcasting', True)`\n",
      "  validation_results.model_results = validation_results.model_results.replace(\n"
     ]
    },
    {
     "name": "stdout",
     "output_type": "stream",
     "text": [
      "Model Number: 170 with model Ensemble in generation 5 of Ensembles\n",
      "Model Number: 171 with model Ensemble in generation 5 of Ensembles\n",
      "Model Number: 172 with model Ensemble in generation 5 of Ensembles\n"
     ]
    },
    {
     "name": "stderr",
     "output_type": "stream",
     "text": [
      "C:\\Users\\alperugurcan\\AppData\\Roaming\\Python\\Python310\\site-packages\\sklearn\\base.py:493: UserWarning: X does not have valid feature names, but DecisionTreeRegressor was fitted with feature names\n",
      "  warnings.warn(\n",
      "C:\\Users\\alperugurcan\\AppData\\Roaming\\Python\\Python310\\site-packages\\sklearn\\base.py:493: UserWarning: X does not have valid feature names, but DecisionTreeRegressor was fitted with feature names\n",
      "  warnings.warn(\n",
      "C:\\Users\\alperugurcan\\AppData\\Roaming\\Python\\Python310\\site-packages\\sklearn\\base.py:493: UserWarning: X does not have valid feature names, but DecisionTreeRegressor was fitted with feature names\n",
      "  warnings.warn(\n",
      "C:\\Users\\alperugurcan\\AppData\\Roaming\\Python\\Python310\\site-packages\\sklearn\\base.py:493: UserWarning: X does not have valid feature names, but DecisionTreeRegressor was fitted with feature names\n",
      "  warnings.warn(\n",
      "C:\\Users\\alperugurcan\\AppData\\Roaming\\Python\\Python310\\site-packages\\sklearn\\base.py:493: UserWarning: X does not have valid feature names, but DecisionTreeRegressor was fitted with feature names\n",
      "  warnings.warn(\n"
     ]
    },
    {
     "name": "stdout",
     "output_type": "stream",
     "text": [
      "Model Number: 173 with model Ensemble in generation 5 of Ensembles\n",
      "Model Number: 174 with model Ensemble in generation 5 of Ensembles\n"
     ]
    },
    {
     "name": "stderr",
     "output_type": "stream",
     "text": [
      "C:\\Users\\alperugurcan\\AppData\\Roaming\\Python\\Python310\\site-packages\\sklearn\\base.py:493: UserWarning: X does not have valid feature names, but DecisionTreeRegressor was fitted with feature names\n",
      "  warnings.warn(\n",
      "C:\\Users\\alperugurcan\\AppData\\Roaming\\Python\\Python310\\site-packages\\sklearn\\base.py:493: UserWarning: X does not have valid feature names, but DecisionTreeRegressor was fitted with feature names\n",
      "  warnings.warn(\n",
      "C:\\Users\\alperugurcan\\AppData\\Roaming\\Python\\Python310\\site-packages\\sklearn\\base.py:493: UserWarning: X does not have valid feature names, but DecisionTreeRegressor was fitted with feature names\n",
      "  warnings.warn(\n",
      "C:\\Users\\alperugurcan\\AppData\\Roaming\\Python\\Python310\\site-packages\\sklearn\\base.py:493: UserWarning: X does not have valid feature names, but DecisionTreeRegressor was fitted with feature names\n",
      "  warnings.warn(\n",
      "C:\\Users\\alperugurcan\\AppData\\Roaming\\Python\\Python310\\site-packages\\sklearn\\base.py:493: UserWarning: X does not have valid feature names, but DecisionTreeRegressor was fitted with feature names\n",
      "  warnings.warn(\n"
     ]
    },
    {
     "name": "stdout",
     "output_type": "stream",
     "text": [
      "Model Number: 175 with model Ensemble in generation 5 of Ensembles\n"
     ]
    },
    {
     "name": "stderr",
     "output_type": "stream",
     "text": [
      "C:\\Users\\alperugurcan\\AppData\\Roaming\\Python\\Python310\\site-packages\\sklearn\\base.py:493: UserWarning: X does not have valid feature names, but DecisionTreeRegressor was fitted with feature names\n",
      "  warnings.warn(\n",
      "C:\\Users\\alperugurcan\\AppData\\Roaming\\Python\\Python310\\site-packages\\sklearn\\base.py:493: UserWarning: X does not have valid feature names, but DecisionTreeRegressor was fitted with feature names\n",
      "  warnings.warn(\n",
      "C:\\Users\\alperugurcan\\AppData\\Roaming\\Python\\Python310\\site-packages\\sklearn\\base.py:493: UserWarning: X does not have valid feature names, but DecisionTreeRegressor was fitted with feature names\n",
      "  warnings.warn(\n",
      "C:\\Users\\alperugurcan\\AppData\\Roaming\\Python\\Python310\\site-packages\\sklearn\\base.py:493: UserWarning: X does not have valid feature names, but DecisionTreeRegressor was fitted with feature names\n",
      "  warnings.warn(\n",
      "C:\\Users\\alperugurcan\\AppData\\Roaming\\Python\\Python310\\site-packages\\sklearn\\base.py:493: UserWarning: X does not have valid feature names, but DecisionTreeRegressor was fitted with feature names\n",
      "  warnings.warn(\n",
      "C:\\Users\\alperugurcan\\AppData\\Roaming\\Python\\Python310\\site-packages\\sklearn\\base.py:493: UserWarning: X does not have valid feature names, but DecisionTreeRegressor was fitted with feature names\n",
      "  warnings.warn(\n",
      "C:\\Users\\alperugurcan\\AppData\\Roaming\\Python\\Python310\\site-packages\\sklearn\\base.py:493: UserWarning: X does not have valid feature names, but DecisionTreeRegressor was fitted with feature names\n",
      "  warnings.warn(\n",
      "C:\\Users\\alperugurcan\\AppData\\Roaming\\Python\\Python310\\site-packages\\sklearn\\base.py:493: UserWarning: X does not have valid feature names, but DecisionTreeRegressor was fitted with feature names\n",
      "  warnings.warn(\n",
      "C:\\Users\\alperugurcan\\AppData\\Roaming\\Python\\Python310\\site-packages\\sklearn\\base.py:493: UserWarning: X does not have valid feature names, but DecisionTreeRegressor was fitted with feature names\n",
      "  warnings.warn(\n",
      "C:\\Users\\alperugurcan\\AppData\\Roaming\\Python\\Python310\\site-packages\\sklearn\\base.py:493: UserWarning: X does not have valid feature names, but DecisionTreeRegressor was fitted with feature names\n",
      "  warnings.warn(\n"
     ]
    },
    {
     "name": "stdout",
     "output_type": "stream",
     "text": [
      "Model Number: 176 with model Ensemble in generation 5 of Ensembles\n"
     ]
    },
    {
     "name": "stderr",
     "output_type": "stream",
     "text": [
      "C:\\Users\\alperugurcan\\AppData\\Roaming\\Python\\Python310\\site-packages\\sklearn\\base.py:493: UserWarning: X does not have valid feature names, but DecisionTreeRegressor was fitted with feature names\n",
      "  warnings.warn(\n",
      "C:\\Users\\alperugurcan\\AppData\\Roaming\\Python\\Python310\\site-packages\\sklearn\\base.py:493: UserWarning: X does not have valid feature names, but DecisionTreeRegressor was fitted with feature names\n",
      "  warnings.warn(\n",
      "C:\\Users\\alperugurcan\\AppData\\Roaming\\Python\\Python310\\site-packages\\sklearn\\base.py:493: UserWarning: X does not have valid feature names, but DecisionTreeRegressor was fitted with feature names\n",
      "  warnings.warn(\n",
      "C:\\Users\\alperugurcan\\AppData\\Roaming\\Python\\Python310\\site-packages\\sklearn\\base.py:493: UserWarning: X does not have valid feature names, but DecisionTreeRegressor was fitted with feature names\n",
      "  warnings.warn(\n",
      "C:\\Users\\alperugurcan\\AppData\\Roaming\\Python\\Python310\\site-packages\\sklearn\\base.py:493: UserWarning: X does not have valid feature names, but DecisionTreeRegressor was fitted with feature names\n",
      "  warnings.warn(\n"
     ]
    },
    {
     "name": "stdout",
     "output_type": "stream",
     "text": [
      "Model Number: 177 with model Ensemble in generation 5 of Ensembles\n"
     ]
    },
    {
     "name": "stderr",
     "output_type": "stream",
     "text": [
      "C:\\Users\\alperugurcan\\AppData\\Roaming\\Python\\Python310\\site-packages\\sklearn\\base.py:493: UserWarning: X does not have valid feature names, but DecisionTreeRegressor was fitted with feature names\n",
      "  warnings.warn(\n",
      "C:\\Users\\alperugurcan\\AppData\\Roaming\\Python\\Python310\\site-packages\\sklearn\\base.py:493: UserWarning: X does not have valid feature names, but DecisionTreeRegressor was fitted with feature names\n",
      "  warnings.warn(\n",
      "C:\\Users\\alperugurcan\\AppData\\Roaming\\Python\\Python310\\site-packages\\sklearn\\base.py:493: UserWarning: X does not have valid feature names, but DecisionTreeRegressor was fitted with feature names\n",
      "  warnings.warn(\n",
      "C:\\Users\\alperugurcan\\AppData\\Roaming\\Python\\Python310\\site-packages\\sklearn\\base.py:493: UserWarning: X does not have valid feature names, but DecisionTreeRegressor was fitted with feature names\n",
      "  warnings.warn(\n",
      "C:\\Users\\alperugurcan\\AppData\\Roaming\\Python\\Python310\\site-packages\\sklearn\\base.py:493: UserWarning: X does not have valid feature names, but DecisionTreeRegressor was fitted with feature names\n",
      "  warnings.warn(\n"
     ]
    },
    {
     "name": "stdout",
     "output_type": "stream",
     "text": [
      "Validation Round: 1\n",
      "Model Number: 1 of 8 with model Ensemble for Validation 1\n",
      "📈 1 - Ensemble with avg smape 2.32: \n",
      "Model Number: 2 of 8 with model Ensemble for Validation 1\n",
      "2 - Ensemble with avg smape 2.32: \n",
      "Model Number: 3 of 8 with model Ensemble for Validation 1\n"
     ]
    },
    {
     "name": "stderr",
     "output_type": "stream",
     "text": [
      "C:\\Users\\alperugurcan\\AppData\\Roaming\\Python\\Python310\\site-packages\\sklearn\\base.py:493: UserWarning: X does not have valid feature names, but DecisionTreeRegressor was fitted with feature names\n",
      "  warnings.warn(\n",
      "C:\\Users\\alperugurcan\\AppData\\Roaming\\Python\\Python310\\site-packages\\sklearn\\base.py:493: UserWarning: X does not have valid feature names, but DecisionTreeRegressor was fitted with feature names\n",
      "  warnings.warn(\n",
      "C:\\Users\\alperugurcan\\AppData\\Roaming\\Python\\Python310\\site-packages\\sklearn\\base.py:493: UserWarning: X does not have valid feature names, but DecisionTreeRegressor was fitted with feature names\n",
      "  warnings.warn(\n",
      "C:\\Users\\alperugurcan\\AppData\\Roaming\\Python\\Python310\\site-packages\\sklearn\\base.py:493: UserWarning: X does not have valid feature names, but DecisionTreeRegressor was fitted with feature names\n",
      "  warnings.warn(\n",
      "C:\\Users\\alperugurcan\\AppData\\Roaming\\Python\\Python310\\site-packages\\sklearn\\base.py:493: UserWarning: X does not have valid feature names, but DecisionTreeRegressor was fitted with feature names\n",
      "  warnings.warn(\n"
     ]
    },
    {
     "name": "stdout",
     "output_type": "stream",
     "text": [
      "3 - Ensemble with avg smape 2.37: \n",
      "Model Number: 4 of 8 with model Ensemble for Validation 1\n",
      "4 - Ensemble with avg smape 2.32: \n",
      "Model Number: 5 of 8 with model Ensemble for Validation 1\n"
     ]
    },
    {
     "name": "stderr",
     "output_type": "stream",
     "text": [
      "C:\\Users\\alperugurcan\\AppData\\Roaming\\Python\\Python310\\site-packages\\sklearn\\base.py:493: UserWarning: X does not have valid feature names, but DecisionTreeRegressor was fitted with feature names\n",
      "  warnings.warn(\n",
      "C:\\Users\\alperugurcan\\AppData\\Roaming\\Python\\Python310\\site-packages\\sklearn\\base.py:493: UserWarning: X does not have valid feature names, but DecisionTreeRegressor was fitted with feature names\n",
      "  warnings.warn(\n",
      "C:\\Users\\alperugurcan\\AppData\\Roaming\\Python\\Python310\\site-packages\\sklearn\\base.py:493: UserWarning: X does not have valid feature names, but DecisionTreeRegressor was fitted with feature names\n",
      "  warnings.warn(\n",
      "C:\\Users\\alperugurcan\\AppData\\Roaming\\Python\\Python310\\site-packages\\sklearn\\base.py:493: UserWarning: X does not have valid feature names, but DecisionTreeRegressor was fitted with feature names\n",
      "  warnings.warn(\n",
      "C:\\Users\\alperugurcan\\AppData\\Roaming\\Python\\Python310\\site-packages\\sklearn\\base.py:493: UserWarning: X does not have valid feature names, but DecisionTreeRegressor was fitted with feature names\n",
      "  warnings.warn(\n"
     ]
    },
    {
     "name": "stdout",
     "output_type": "stream",
     "text": [
      "5 - Ensemble with avg smape 2.32: \n",
      "Model Number: 6 of 8 with model Ensemble for Validation 1\n"
     ]
    },
    {
     "name": "stderr",
     "output_type": "stream",
     "text": [
      "C:\\Users\\alperugurcan\\AppData\\Roaming\\Python\\Python310\\site-packages\\sklearn\\base.py:493: UserWarning: X does not have valid feature names, but DecisionTreeRegressor was fitted with feature names\n",
      "  warnings.warn(\n",
      "C:\\Users\\alperugurcan\\AppData\\Roaming\\Python\\Python310\\site-packages\\sklearn\\base.py:493: UserWarning: X does not have valid feature names, but DecisionTreeRegressor was fitted with feature names\n",
      "  warnings.warn(\n",
      "C:\\Users\\alperugurcan\\AppData\\Roaming\\Python\\Python310\\site-packages\\sklearn\\base.py:493: UserWarning: X does not have valid feature names, but DecisionTreeRegressor was fitted with feature names\n",
      "  warnings.warn(\n",
      "C:\\Users\\alperugurcan\\AppData\\Roaming\\Python\\Python310\\site-packages\\sklearn\\base.py:493: UserWarning: X does not have valid feature names, but DecisionTreeRegressor was fitted with feature names\n",
      "  warnings.warn(\n",
      "C:\\Users\\alperugurcan\\AppData\\Roaming\\Python\\Python310\\site-packages\\sklearn\\base.py:493: UserWarning: X does not have valid feature names, but DecisionTreeRegressor was fitted with feature names\n",
      "  warnings.warn(\n",
      "C:\\Users\\alperugurcan\\AppData\\Roaming\\Python\\Python310\\site-packages\\sklearn\\base.py:493: UserWarning: X does not have valid feature names, but DecisionTreeRegressor was fitted with feature names\n",
      "  warnings.warn(\n",
      "C:\\Users\\alperugurcan\\AppData\\Roaming\\Python\\Python310\\site-packages\\sklearn\\base.py:493: UserWarning: X does not have valid feature names, but DecisionTreeRegressor was fitted with feature names\n",
      "  warnings.warn(\n",
      "C:\\Users\\alperugurcan\\AppData\\Roaming\\Python\\Python310\\site-packages\\sklearn\\base.py:493: UserWarning: X does not have valid feature names, but DecisionTreeRegressor was fitted with feature names\n",
      "  warnings.warn(\n",
      "C:\\Users\\alperugurcan\\AppData\\Roaming\\Python\\Python310\\site-packages\\sklearn\\base.py:493: UserWarning: X does not have valid feature names, but DecisionTreeRegressor was fitted with feature names\n",
      "  warnings.warn(\n",
      "C:\\Users\\alperugurcan\\AppData\\Roaming\\Python\\Python310\\site-packages\\sklearn\\base.py:493: UserWarning: X does not have valid feature names, but DecisionTreeRegressor was fitted with feature names\n",
      "  warnings.warn(\n"
     ]
    },
    {
     "name": "stdout",
     "output_type": "stream",
     "text": [
      "6 - Ensemble with avg smape 2.32: \n",
      "Model Number: 7 of 8 with model Ensemble for Validation 1\n"
     ]
    },
    {
     "name": "stderr",
     "output_type": "stream",
     "text": [
      "C:\\Users\\alperugurcan\\AppData\\Roaming\\Python\\Python310\\site-packages\\sklearn\\base.py:493: UserWarning: X does not have valid feature names, but DecisionTreeRegressor was fitted with feature names\n",
      "  warnings.warn(\n",
      "C:\\Users\\alperugurcan\\AppData\\Roaming\\Python\\Python310\\site-packages\\sklearn\\base.py:493: UserWarning: X does not have valid feature names, but DecisionTreeRegressor was fitted with feature names\n",
      "  warnings.warn(\n",
      "C:\\Users\\alperugurcan\\AppData\\Roaming\\Python\\Python310\\site-packages\\sklearn\\base.py:493: UserWarning: X does not have valid feature names, but DecisionTreeRegressor was fitted with feature names\n",
      "  warnings.warn(\n",
      "C:\\Users\\alperugurcan\\AppData\\Roaming\\Python\\Python310\\site-packages\\sklearn\\base.py:493: UserWarning: X does not have valid feature names, but DecisionTreeRegressor was fitted with feature names\n",
      "  warnings.warn(\n",
      "C:\\Users\\alperugurcan\\AppData\\Roaming\\Python\\Python310\\site-packages\\sklearn\\base.py:493: UserWarning: X does not have valid feature names, but DecisionTreeRegressor was fitted with feature names\n",
      "  warnings.warn(\n",
      "C:\\Users\\alperugurcan\\AppData\\Roaming\\Python\\Python310\\site-packages\\sklearn\\base.py:493: UserWarning: X does not have valid feature names, but DecisionTreeRegressor was fitted with feature names\n",
      "  warnings.warn(\n"
     ]
    },
    {
     "name": "stdout",
     "output_type": "stream",
     "text": [
      "7 - Ensemble with avg smape 2.32: \n",
      "Model Number: 8 of 8 with model Ensemble for Validation 1\n"
     ]
    },
    {
     "name": "stderr",
     "output_type": "stream",
     "text": [
      "C:\\Users\\alperugurcan\\AppData\\Roaming\\Python\\Python310\\site-packages\\sklearn\\base.py:493: UserWarning: X does not have valid feature names, but DecisionTreeRegressor was fitted with feature names\n",
      "  warnings.warn(\n",
      "C:\\Users\\alperugurcan\\AppData\\Roaming\\Python\\Python310\\site-packages\\sklearn\\base.py:493: UserWarning: X does not have valid feature names, but DecisionTreeRegressor was fitted with feature names\n",
      "  warnings.warn(\n",
      "C:\\Users\\alperugurcan\\AppData\\Roaming\\Python\\Python310\\site-packages\\sklearn\\base.py:493: UserWarning: X does not have valid feature names, but DecisionTreeRegressor was fitted with feature names\n",
      "  warnings.warn(\n",
      "C:\\Users\\alperugurcan\\AppData\\Roaming\\Python\\Python310\\site-packages\\sklearn\\base.py:493: UserWarning: X does not have valid feature names, but DecisionTreeRegressor was fitted with feature names\n",
      "  warnings.warn(\n"
     ]
    },
    {
     "name": "stdout",
     "output_type": "stream",
     "text": [
      "8 - Ensemble with avg smape 2.32: \n",
      "Validation Round: 2\n",
      "Model Number: 1 of 8 with model Ensemble for Validation 2\n",
      "📈 1 - Ensemble with avg smape 0.54: \n",
      "Model Number: 2 of 8 with model Ensemble for Validation 2\n",
      "2 - Ensemble with avg smape 0.57: \n",
      "Model Number: 3 of 8 with model Ensemble for Validation 2\n"
     ]
    },
    {
     "name": "stderr",
     "output_type": "stream",
     "text": [
      "C:\\Users\\alperugurcan\\AppData\\Roaming\\Python\\Python310\\site-packages\\sklearn\\base.py:493: UserWarning: X does not have valid feature names, but DecisionTreeRegressor was fitted with feature names\n",
      "  warnings.warn(\n",
      "C:\\Users\\alperugurcan\\AppData\\Roaming\\Python\\Python310\\site-packages\\sklearn\\base.py:493: UserWarning: X does not have valid feature names, but DecisionTreeRegressor was fitted with feature names\n",
      "  warnings.warn(\n",
      "C:\\Users\\alperugurcan\\AppData\\Roaming\\Python\\Python310\\site-packages\\sklearn\\base.py:493: UserWarning: X does not have valid feature names, but DecisionTreeRegressor was fitted with feature names\n",
      "  warnings.warn(\n",
      "C:\\Users\\alperugurcan\\AppData\\Roaming\\Python\\Python310\\site-packages\\sklearn\\base.py:493: UserWarning: X does not have valid feature names, but DecisionTreeRegressor was fitted with feature names\n",
      "  warnings.warn(\n",
      "C:\\Users\\alperugurcan\\AppData\\Roaming\\Python\\Python310\\site-packages\\sklearn\\base.py:493: UserWarning: X does not have valid feature names, but DecisionTreeRegressor was fitted with feature names\n",
      "  warnings.warn(\n"
     ]
    },
    {
     "name": "stdout",
     "output_type": "stream",
     "text": [
      "📈 3 - Ensemble with avg smape 0.53: \n",
      "Model Number: 4 of 8 with model Ensemble for Validation 2\n",
      "4 - Ensemble with avg smape 0.56: \n",
      "Model Number: 5 of 8 with model Ensemble for Validation 2\n"
     ]
    },
    {
     "name": "stderr",
     "output_type": "stream",
     "text": [
      "C:\\Users\\alperugurcan\\AppData\\Roaming\\Python\\Python310\\site-packages\\sklearn\\base.py:493: UserWarning: X does not have valid feature names, but DecisionTreeRegressor was fitted with feature names\n",
      "  warnings.warn(\n",
      "C:\\Users\\alperugurcan\\AppData\\Roaming\\Python\\Python310\\site-packages\\sklearn\\base.py:493: UserWarning: X does not have valid feature names, but DecisionTreeRegressor was fitted with feature names\n",
      "  warnings.warn(\n",
      "C:\\Users\\alperugurcan\\AppData\\Roaming\\Python\\Python310\\site-packages\\sklearn\\base.py:493: UserWarning: X does not have valid feature names, but DecisionTreeRegressor was fitted with feature names\n",
      "  warnings.warn(\n",
      "C:\\Users\\alperugurcan\\AppData\\Roaming\\Python\\Python310\\site-packages\\sklearn\\base.py:493: UserWarning: X does not have valid feature names, but DecisionTreeRegressor was fitted with feature names\n",
      "  warnings.warn(\n",
      "C:\\Users\\alperugurcan\\AppData\\Roaming\\Python\\Python310\\site-packages\\sklearn\\base.py:493: UserWarning: X does not have valid feature names, but DecisionTreeRegressor was fitted with feature names\n",
      "  warnings.warn(\n"
     ]
    },
    {
     "name": "stdout",
     "output_type": "stream",
     "text": [
      "5 - Ensemble with avg smape 0.54: \n",
      "Model Number: 6 of 8 with model Ensemble for Validation 2\n"
     ]
    },
    {
     "name": "stderr",
     "output_type": "stream",
     "text": [
      "C:\\Users\\alperugurcan\\AppData\\Roaming\\Python\\Python310\\site-packages\\sklearn\\base.py:493: UserWarning: X does not have valid feature names, but DecisionTreeRegressor was fitted with feature names\n",
      "  warnings.warn(\n",
      "C:\\Users\\alperugurcan\\AppData\\Roaming\\Python\\Python310\\site-packages\\sklearn\\base.py:493: UserWarning: X does not have valid feature names, but DecisionTreeRegressor was fitted with feature names\n",
      "  warnings.warn(\n",
      "C:\\Users\\alperugurcan\\AppData\\Roaming\\Python\\Python310\\site-packages\\sklearn\\base.py:493: UserWarning: X does not have valid feature names, but DecisionTreeRegressor was fitted with feature names\n",
      "  warnings.warn(\n",
      "C:\\Users\\alperugurcan\\AppData\\Roaming\\Python\\Python310\\site-packages\\sklearn\\base.py:493: UserWarning: X does not have valid feature names, but DecisionTreeRegressor was fitted with feature names\n",
      "  warnings.warn(\n",
      "C:\\Users\\alperugurcan\\AppData\\Roaming\\Python\\Python310\\site-packages\\sklearn\\base.py:493: UserWarning: X does not have valid feature names, but DecisionTreeRegressor was fitted with feature names\n",
      "  warnings.warn(\n",
      "C:\\Users\\alperugurcan\\AppData\\Roaming\\Python\\Python310\\site-packages\\sklearn\\base.py:493: UserWarning: X does not have valid feature names, but DecisionTreeRegressor was fitted with feature names\n",
      "  warnings.warn(\n",
      "C:\\Users\\alperugurcan\\AppData\\Roaming\\Python\\Python310\\site-packages\\sklearn\\base.py:493: UserWarning: X does not have valid feature names, but DecisionTreeRegressor was fitted with feature names\n",
      "  warnings.warn(\n",
      "C:\\Users\\alperugurcan\\AppData\\Roaming\\Python\\Python310\\site-packages\\sklearn\\base.py:493: UserWarning: X does not have valid feature names, but DecisionTreeRegressor was fitted with feature names\n",
      "  warnings.warn(\n",
      "C:\\Users\\alperugurcan\\AppData\\Roaming\\Python\\Python310\\site-packages\\sklearn\\base.py:493: UserWarning: X does not have valid feature names, but DecisionTreeRegressor was fitted with feature names\n",
      "  warnings.warn(\n",
      "C:\\Users\\alperugurcan\\AppData\\Roaming\\Python\\Python310\\site-packages\\sklearn\\base.py:493: UserWarning: X does not have valid feature names, but DecisionTreeRegressor was fitted with feature names\n",
      "  warnings.warn(\n"
     ]
    },
    {
     "name": "stdout",
     "output_type": "stream",
     "text": [
      "6 - Ensemble with avg smape 0.54: \n",
      "Model Number: 7 of 8 with model Ensemble for Validation 2\n"
     ]
    },
    {
     "name": "stderr",
     "output_type": "stream",
     "text": [
      "C:\\Users\\alperugurcan\\AppData\\Roaming\\Python\\Python310\\site-packages\\sklearn\\base.py:493: UserWarning: X does not have valid feature names, but DecisionTreeRegressor was fitted with feature names\n",
      "  warnings.warn(\n",
      "C:\\Users\\alperugurcan\\AppData\\Roaming\\Python\\Python310\\site-packages\\sklearn\\base.py:493: UserWarning: X does not have valid feature names, but DecisionTreeRegressor was fitted with feature names\n",
      "  warnings.warn(\n",
      "C:\\Users\\alperugurcan\\AppData\\Roaming\\Python\\Python310\\site-packages\\sklearn\\base.py:493: UserWarning: X does not have valid feature names, but DecisionTreeRegressor was fitted with feature names\n",
      "  warnings.warn(\n",
      "C:\\Users\\alperugurcan\\AppData\\Roaming\\Python\\Python310\\site-packages\\sklearn\\base.py:493: UserWarning: X does not have valid feature names, but DecisionTreeRegressor was fitted with feature names\n",
      "  warnings.warn(\n",
      "C:\\Users\\alperugurcan\\AppData\\Roaming\\Python\\Python310\\site-packages\\sklearn\\base.py:493: UserWarning: X does not have valid feature names, but DecisionTreeRegressor was fitted with feature names\n",
      "  warnings.warn(\n"
     ]
    },
    {
     "name": "stdout",
     "output_type": "stream",
     "text": [
      "7 - Ensemble with avg smape 0.55: \n",
      "Model Number: 8 of 8 with model Ensemble for Validation 2\n"
     ]
    },
    {
     "name": "stderr",
     "output_type": "stream",
     "text": [
      "C:\\Users\\alperugurcan\\AppData\\Roaming\\Python\\Python310\\site-packages\\sklearn\\base.py:493: UserWarning: X does not have valid feature names, but DecisionTreeRegressor was fitted with feature names\n",
      "  warnings.warn(\n",
      "C:\\Users\\alperugurcan\\AppData\\Roaming\\Python\\Python310\\site-packages\\sklearn\\base.py:493: UserWarning: X does not have valid feature names, but DecisionTreeRegressor was fitted with feature names\n",
      "  warnings.warn(\n",
      "C:\\Users\\alperugurcan\\AppData\\Roaming\\Python\\Python310\\site-packages\\sklearn\\base.py:493: UserWarning: X does not have valid feature names, but DecisionTreeRegressor was fitted with feature names\n",
      "  warnings.warn(\n",
      "C:\\Users\\alperugurcan\\AppData\\Roaming\\Python\\Python310\\site-packages\\sklearn\\base.py:493: UserWarning: X does not have valid feature names, but DecisionTreeRegressor was fitted with feature names\n",
      "  warnings.warn(\n",
      "C:\\Users\\alperugurcan\\AppData\\Roaming\\Python\\Python310\\site-packages\\sklearn\\base.py:493: UserWarning: X does not have valid feature names, but DecisionTreeRegressor was fitted with feature names\n",
      "  warnings.warn(\n"
     ]
    },
    {
     "name": "stdout",
     "output_type": "stream",
     "text": [
      "8 - Ensemble with avg smape 0.54: \n"
     ]
    },
    {
     "name": "stderr",
     "output_type": "stream",
     "text": [
      "C:\\Users\\alperugurcan\\AppData\\Roaming\\Python\\Python310\\site-packages\\autots\\evaluator\\auto_model.py:2462: FutureWarning: Downcasting behavior in `replace` is deprecated and will be removed in a future version. To retain the old behavior, explicitly call `result.infer_objects(copy=False)`. To opt-in to the future behavior, set `pd.set_option('future.no_silent_downcasting', True)`\n",
      "  validation_results.model_results = validation_results.model_results.replace(\n",
      "C:\\Users\\alperugurcan\\AppData\\Roaming\\Python\\Python310\\site-packages\\autots\\evaluator\\auto_model.py:2462: FutureWarning: Downcasting behavior in `replace` is deprecated and will be removed in a future version. To retain the old behavior, explicitly call `result.infer_objects(copy=False)`. To opt-in to the future behavior, set `pd.set_option('future.no_silent_downcasting', True)`\n",
      "  validation_results.model_results = validation_results.model_results.replace(\n"
     ]
    },
    {
     "name": "stdout",
     "output_type": "stream",
     "text": [
      "                 Close\n",
      "2024-09-30  227.790188\n",
      "2024-10-01  227.793994\n",
      "2024-10-02  227.797799\n",
      "2024-10-03  227.801605\n",
      "2024-10-04  227.805411\n"
     ]
    }
   ],
   "source": [
    "from autots import AutoTS\n",
    "\n",
    "model = AutoTS(\n",
    "    forecast_length=5,  # 5 günlük tahmin\n",
    "    frequency='infer',\n",
    "    ensemble='simple',\n",
    "    drop_data_older_than_periods=30,  # Son 1 aylık veri\n",
    "    max_generations=3,\n",
    "    num_validations=2,\n",
    "    models_to_validate=0.2,\n",
    "    model_list=[\n",
    "        'ARIMA',\n",
    "        'ETS',\n",
    "        'RollingRegression',\n",
    "        'GLS',\n",
    "        'SeasonalNaive'\n",
    "    ]  # Hisse senedi tahmini için uygun modeller\n",
    ")\n",
    "\n",
    "model = model.fit(aapl_data, date_col='Date', value_col='Close', id_col=None)\n",
    "\n",
    "prediction = model.predict()\n",
    "forecast = prediction.forecast\n",
    "\n",
    "print(forecast)"
   ]
  },
  {
   "cell_type": "code",
   "execution_count": 8,
   "metadata": {},
   "outputs": [
    {
     "data": {
      "image/png": "[encoded data removed]",
      "text/plain": [
       "<Figure size 1200x600 with 1 Axes>"
      ]
     },
     "metadata": {},
     "output_type": "display_data"
    }
   ],
   "source": [
    "plt.figure(figsize=(12, 6))\n",
    "plt.plot(aapl_data['Date'], aapl_data['Close'], label='Actual')\n",
    "plt.plot(pd.date_range(aapl_data['Date'].iloc[-1] + pd.Timedelta(days=1), periods=5), forecast, '--', label='Forecast')\n",
    "plt.title('AAPL: Actual vs Forecast')\n",
    "plt.legend()\n",
    "plt.grid(True)\n",
    "plt.show()"
   ]
  }
 ],
 "metadata": {
  "kernelspec": {
   "display_name": "Python 3",
   "language": "python",
   "name": "python3"
  },
  "language_info": {
   "codemirror_mode": {
    "name": "ipython",
    "version": 3
   },
   "file_extension": ".py",
   "mimetype": "text/x-python",
   "name": "python",
   "nbconvert_exporter": "python",
   "pygments_lexer": "ipython3",
   "version": "3.10.0"
  }
 },
 "nbformat": 4,
 "nbformat_minor": 2
}
