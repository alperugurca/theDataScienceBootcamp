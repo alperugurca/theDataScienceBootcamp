{
  "nbformat": 4,
  "nbformat_minor": 0,
  "metadata": {
    "colab": {
      "provenance": []
    },
    "kernelspec": {
      "name": "python3",
      "display_name": "Python 3"
    },
    "language_info": {
      "name": "python"
    }
  },
  "cells": [
    {
      "cell_type": "markdown",
      "source": [
        "# Gender Detection with Machine Learning\n",
        "\n",
        "Machine learning can be used to identify a person's gender based on facial appearance samples from both men and women.\n",
        "\n",
        "Example Solution: https://thecleverprogrammer.com/2021/05/15/gender-detection-with-machine-learning/\n",
        "\n",
        "Hugging Face: https://huggingface.co/spaces/alperugurcan/deepface-gender-detection"
      ],
      "metadata": {
        "id": "T2DfZE3Q4SBp"
      }
    },
    {
      "cell_type": "code",
      "source": [
        "from deepface import DeepFace\n",
        "result=DeepFace.analyze(img_path=\"male.jpg\",actions=['gender'])\n",
        "print(\"Gender Predict is: \",result[0]['dominant_gender'])"
      ],
      "metadata": {
        "colab": {
          "base_uri": "https://localhost:8080/"
        },
        "id": "LQHrWPHbDYMH",
        "outputId": "28250d73-660e-49cd-e792-5fc92e206149"
      },
      "execution_count": 17,
      "outputs": [
        {
          "output_type": "stream",
          "name": "stdout",
          "text": [
            "Gender Predict is:  Man\n"
          ]
        }
      ]
    }
  ]
}