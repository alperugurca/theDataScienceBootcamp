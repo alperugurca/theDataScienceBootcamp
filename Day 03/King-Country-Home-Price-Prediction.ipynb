{
 "cells": [
  {
   "cell_type": "code",
   "execution_count": 1,
   "id": "30de5eff-dc4c-40ea-80a5-d4eadbf44400",
   "metadata": {},
   "outputs": [],
   "source": [
    "# Hedef R2 => 0.80\n",
    "# RMSE <= 100k"
   ]
  },
  {
   "cell_type": "code",
   "execution_count": 2,
   "id": "45f96df2-7734-4464-bbeb-bc7fa8d3075d",
   "metadata": {},
   "outputs": [],
   "source": [
    "# renovations değerine bak dummy\n",
    "# sqt_above sqt living birleştirilebilir\n",
    "# renovated 0-1 yapılabilir\n",
    "# zipcode str yap sonra >> zipcode category yap"
   ]
  },
  {
   "cell_type": "code",
   "execution_count": 3,
   "id": "5f2b5bc3-c13b-4d39-a30e-bd2d6851c2e1",
   "metadata": {},
   "outputs": [],
   "source": [
    "import pandas as pd\n",
    "import seaborn as sns\n",
    "import plotly.express as px\n",
    "import matplotlib.pyplot as plt\n",
    "import numpy as np\n",
    "\n",
    "from scipy.stats import ttest_ind\n",
    "from sklearn.model_selection import train_test_split\n",
    "from sklearn.linear_model import LinearRegression\n",
    "from sklearn.metrics import r2_score, mean_squared_error\n",
    "from sklearn.linear_model import Ridge, Lasso, ElasticNet\n",
    "from sklearn.tree import DecisionTreeRegressor"
   ]
  },
  {
   "cell_type": "code",
   "execution_count": 4,
   "id": "e5df2af2-b398-4547-bcc4-d740fc7460d0",
   "metadata": {},
   "outputs": [],
   "source": [
    "lr = LinearRegression()"
   ]
  },
  {
   "cell_type": "code",
   "execution_count": 5,
   "id": "5febe390-f178-4c06-b8a7-07c4ff877aad",
   "metadata": {},
   "outputs": [],
   "source": [
    "df=pd.read_csv(\"kc_house_data.csv\")"
   ]
  },
  {
   "cell_type": "code",
   "execution_count": 6,
   "id": "914de4bf-ede2-4f63-b754-ca2e7bb36df4",
   "metadata": {},
   "outputs": [
    {
     "name": "stdout",
     "output_type": "stream",
     "text": [
      "<class 'pandas.core.frame.DataFrame'>\n",
      "RangeIndex: 21613 entries, 0 to 21612\n",
      "Data columns (total 21 columns):\n",
      " #   Column         Non-Null Count  Dtype  \n",
      "---  ------         --------------  -----  \n",
      " 0   id             21613 non-null  int64  \n",
      " 1   date           21613 non-null  object \n",
      " 2   price          21613 non-null  float64\n",
      " 3   bedrooms       21613 non-null  int64  \n",
      " 4   bathrooms      21613 non-null  float64\n",
      " 5   sqft_living    21613 non-null  int64  \n",
      " 6   sqft_lot       21613 non-null  int64  \n",
      " 7   floors         21613 non-null  float64\n",
      " 8   waterfront     21613 non-null  int64  \n",
      " 9   view           21613 non-null  int64  \n",
      " 10  condition      21613 non-null  int64  \n",
      " 11  grade          21613 non-null  int64  \n",
      " 12  sqft_above     21613 non-null  int64  \n",
      " 13  sqft_basement  21613 non-null  int64  \n",
      " 14  yr_built       21613 non-null  int64  \n",
      " 15  yr_renovated   21613 non-null  int64  \n",
      " 16  zipcode        21613 non-null  int64  \n",
      " 17  lat            21613 non-null  float64\n",
      " 18  long           21613 non-null  float64\n",
      " 19  sqft_living15  21613 non-null  int64  \n",
      " 20  sqft_lot15     21613 non-null  int64  \n",
      "dtypes: float64(5), int64(15), object(1)\n",
      "memory usage: 3.5+ MB\n"
     ]
    }
   ],
   "source": [
    "df.info()"
   ]
  },
  {
   "cell_type": "code",
   "execution_count": 8,
   "id": "1965d8ca-18b4-4706-951c-d238a9d84bcb",
   "metadata": {},
   "outputs": [
    {
     "data": {
      "text/plain": [
       "id               0\n",
       "date             0\n",
       "price            0\n",
       "bedrooms         0\n",
       "bathrooms        0\n",
       "sqft_living      0\n",
       "sqft_lot         0\n",
       "floors           0\n",
       "waterfront       0\n",
       "view             0\n",
       "condition        0\n",
       "grade            0\n",
       "sqft_above       0\n",
       "sqft_basement    0\n",
       "yr_built         0\n",
       "yr_renovated     0\n",
       "zipcode          0\n",
       "lat              0\n",
       "long             0\n",
       "sqft_living15    0\n",
       "sqft_lot15       0\n",
       "dtype: int64"
      ]
     },
     "execution_count": 8,
     "metadata": {},
     "output_type": "execute_result"
    }
   ],
   "source": [
    "df.isnull().sum()"
   ]
  },
  {
   "cell_type": "code",
   "execution_count": 9,
   "id": "17cb68d5-69f1-4483-bc9e-845b20b78bd1",
   "metadata": {},
   "outputs": [
    {
     "data": {
      "text/plain": [
       "7252     7700000.0\n",
       "3914     7062500.0\n",
       "9254     6885000.0\n",
       "4411     5570000.0\n",
       "1448     5350000.0\n",
       "           ...    \n",
       "8274       82000.0\n",
       "16198      81000.0\n",
       "465        80000.0\n",
       "15293      78000.0\n",
       "1149       75000.0\n",
       "Name: price, Length: 21613, dtype: float64"
      ]
     },
     "execution_count": 9,
     "metadata": {},
     "output_type": "execute_result"
    }
   ],
   "source": [
    "df[\"price\"].sort_values(ascending=False)"
   ]
  },
  {
   "cell_type": "code",
   "execution_count": 10,
   "id": "bc9957d0-2168-4512-afe5-08a7c473da25",
   "metadata": {},
   "outputs": [
    {
     "data": {
      "text/plain": [
       "price            1.000000\n",
       "sqft_living      0.702035\n",
       "grade            0.667434\n",
       "sqft_above       0.605567\n",
       "sqft_living15    0.585379\n",
       "bathrooms        0.525138\n",
       "view             0.397293\n",
       "sqft_basement    0.323816\n",
       "bedrooms         0.308350\n",
       "lat              0.307003\n",
       "waterfront       0.266369\n",
       "floors           0.256794\n",
       "yr_renovated     0.126434\n",
       "sqft_lot         0.089661\n",
       "sqft_lot15       0.082447\n",
       "yr_built         0.054012\n",
       "condition        0.036362\n",
       "long             0.021626\n",
       "id               0.016762\n",
       "zipcode          0.053203\n",
       "Name: price, dtype: float64"
      ]
     },
     "execution_count": 10,
     "metadata": {},
     "output_type": "execute_result"
    }
   ],
   "source": [
    "abs(df.corr(numeric_only=True)[\"price\"].sort_values(ascending=False))"
   ]
  },
  {
   "cell_type": "code",
   "execution_count": 45,
   "id": "ab0b2ee8-ae84-4ef4-a848-c67eb244cc5d",
   "metadata": {},
   "outputs": [],
   "source": [
    "df[\"zipcode\"]=df[\"zipcode\"].astype(\"category\")"
   ]
  },
  {
   "cell_type": "code",
   "execution_count": 175,
   "id": "b8b9423d-206f-4d24-8dd4-2e9c6a6eb103",
   "metadata": {},
   "outputs": [],
   "source": [
    "df[\"view\"]=df[\"view\"].astype(\"category\") # 0.036361"
   ]
  },
  {
   "cell_type": "code",
   "execution_count": null,
   "id": "921a44a1-da7c-46db-9831-7675487bc77a",
   "metadata": {},
   "outputs": [],
   "source": [
    "df[\"waterfront\"]=df[\"waterfront\"].astype(\"category\")"
   ]
  },
  {
   "cell_type": "code",
   "execution_count": 125,
   "id": "ed6ca94c-3a2a-4dee-8935-b3ab95dc0508",
   "metadata": {},
   "outputs": [],
   "source": [
    "df[\"condition\"]=df[\"condition\"].astype(\"category\")"
   ]
  },
  {
   "cell_type": "code",
   "execution_count": 210,
   "id": "dd0ac356-25a3-4aa7-838a-a42acf5ea256",
   "metadata": {},
   "outputs": [],
   "source": [
    "df[\"floors\"]=df[\"floors\"].astype(\"category\")"
   ]
  },
  {
   "cell_type": "code",
   "execution_count": 235,
   "id": "23d2073e-b00e-40fa-9b9e-c9424dd5518a",
   "metadata": {},
   "outputs": [],
   "source": [
    "df[\"grade\"]=df[\"grade\"].astype(\"category\")"
   ]
  },
  {
   "cell_type": "code",
   "execution_count": 237,
   "id": "d8a1e243-43a8-4cca-a3be-9ee6442cb738",
   "metadata": {},
   "outputs": [
    {
     "data": {
      "text/plain": [
       "Index(['id', 'date', 'price', 'bedrooms', 'bathrooms', 'sqft_living',\n",
       "       'sqft_lot', 'floors', 'waterfront', 'view', 'condition', 'grade',\n",
       "       'sqft_above', 'sqft_basement', 'yr_built', 'yr_renovated', 'zipcode',\n",
       "       'lat', 'long', 'sqft_living15', 'sqft_lot15'],\n",
       "      dtype='object')"
      ]
     },
     "execution_count": 237,
     "metadata": {},
     "output_type": "execute_result"
    }
   ],
   "source": [
    "df.columns"
   ]
  },
  {
   "cell_type": "code",
   "execution_count": 214,
   "id": "604ded38-4edd-4806-98b8-afa2d8ab9d1f",
   "metadata": {},
   "outputs": [],
   "source": [
    "df[\"floors\"]=df[\"floors\"].astype(\"category\")"
   ]
  },
  {
   "cell_type": "code",
   "execution_count": 290,
   "id": "2473df96-9006-4491-9e83-6f819a97c457",
   "metadata": {},
   "outputs": [],
   "source": [
    "df['date'] = pd.to_datetime(df['date'])\n",
    "\n",
    "df['year'] = df['date'].dt.year\n",
    "df['month'] = df['date'].dt.month\n",
    "df['day'] = df['date'].dt.day\n",
    "\n"
   ]
  },
  {
   "cell_type": "code",
   "execution_count": 310,
   "id": "4d1168a7-44a9-4da0-af71-6adf3cee4412",
   "metadata": {},
   "outputs": [],
   "source": [
    "df[\"yr_renovated\"]= 2024 - df[\"yr_renovated\"]"
   ]
  },
  {
   "cell_type": "code",
   "execution_count": 312,
   "id": "88e47e17-e2fa-4316-8ef8-fc10bbc45331",
   "metadata": {},
   "outputs": [
    {
     "data": {
      "text/plain": [
       "price            1.000000\n",
       "sqft_living      0.702035\n",
       "sqft_above       0.605567\n",
       "sqft_living15    0.585379\n",
       "bathrooms        0.525138\n",
       "sqft_basement    0.323816\n",
       "bedrooms         0.308350\n",
       "lat              0.307003\n",
       "sqft_lot         0.089661\n",
       "sqft_lot15       0.082447\n",
       "yr_built         0.054012\n",
       "long             0.021626\n",
       "year             0.003576\n",
       "month            0.010081\n",
       "day              0.014670\n",
       "id               0.016762\n",
       "yr_renovated     0.126434\n",
       "Name: price, dtype: float64"
      ]
     },
     "execution_count": 312,
     "metadata": {},
     "output_type": "execute_result"
    }
   ],
   "source": [
    "abs(df.corr(numeric_only=True)[\"price\"].sort_values(ascending=False))"
   ]
  },
  {
   "cell_type": "code",
   "execution_count": 314,
   "id": "b1542e89-387d-4ffa-9bc7-84bda926d54f",
   "metadata": {},
   "outputs": [],
   "source": [
    "x=df[[\"sqft_living\", \"grade\", \"sqft_above\", \"sqft_basement\", \"sqft_living15\", \"bathrooms\", \"view\", \"bedrooms\", \"zipcode\", \"floors\", \"condition\", \"view\", \"waterfront\", 'year', 'month', \"day\", \"yr_renovated\"]]\n",
    "y=df[[\"price\"]]\n",
    "x=pd.get_dummies(x,drop_first=True)"
   ]
  },
  {
   "cell_type": "code",
   "execution_count": 316,
   "id": "953ffd65-fcb1-46d8-b7f8-833a54090609",
   "metadata": {},
   "outputs": [
    {
     "name": "stdout",
     "output_type": "stream",
     "text": [
      "<class 'pandas.core.frame.DataFrame'>\n",
      "RangeIndex: 21613 entries, 0 to 21612\n",
      "Data columns (total 24 columns):\n",
      " #   Column         Non-Null Count  Dtype         \n",
      "---  ------         --------------  -----         \n",
      " 0   id             21613 non-null  int64         \n",
      " 1   date           21613 non-null  datetime64[ns]\n",
      " 2   price          21613 non-null  float64       \n",
      " 3   bedrooms       21613 non-null  int64         \n",
      " 4   bathrooms      21613 non-null  float64       \n",
      " 5   sqft_living    21613 non-null  int64         \n",
      " 6   sqft_lot       21613 non-null  int64         \n",
      " 7   floors         21613 non-null  category      \n",
      " 8   waterfront     21613 non-null  category      \n",
      " 9   view           21613 non-null  category      \n",
      " 10  condition      21613 non-null  category      \n",
      " 11  grade          21613 non-null  category      \n",
      " 12  sqft_above     21613 non-null  int64         \n",
      " 13  sqft_basement  21613 non-null  int64         \n",
      " 14  yr_built       21613 non-null  int64         \n",
      " 15  yr_renovated   21613 non-null  int64         \n",
      " 16  zipcode        21613 non-null  category      \n",
      " 17  lat            21613 non-null  float64       \n",
      " 18  long           21613 non-null  float64       \n",
      " 19  sqft_living15  21613 non-null  int64         \n",
      " 20  sqft_lot15     21613 non-null  int64         \n",
      " 21  year           21613 non-null  int32         \n",
      " 22  month          21613 non-null  int32         \n",
      " 23  day            21613 non-null  int32         \n",
      "dtypes: category(6), datetime64[ns](1), float64(4), int32(3), int64(10)\n",
      "memory usage: 2.8 MB\n"
     ]
    }
   ],
   "source": [
    "df.info()"
   ]
  },
  {
   "cell_type": "code",
   "execution_count": 318,
   "id": "414f5797-ebce-406f-b907-66bfeec24365",
   "metadata": {},
   "outputs": [],
   "source": [
    "X_train, X_test, y_train, y_test = train_test_split(x,y,test_size=0.20,random_state=42)"
   ]
  },
  {
   "cell_type": "code",
   "execution_count": 320,
   "id": "1c0e4723-48c6-41cf-8bae-2324f64d1f3c",
   "metadata": {},
   "outputs": [],
   "source": [
    "model=lr.fit(X_train, y_train)"
   ]
  },
  {
   "cell_type": "code",
   "execution_count": 322,
   "id": "9809fa3d-5ce8-4060-bdd2-aa822ca239cb",
   "metadata": {},
   "outputs": [],
   "source": [
    "tahmin1=model.predict(X_test)"
   ]
  },
  {
   "cell_type": "code",
   "execution_count": 324,
   "id": "02882456-9ed9-48ad-b28a-078b3a80a9cd",
   "metadata": {},
   "outputs": [
    {
     "data": {
      "text/plain": [
       "156576.43554151565"
      ]
     },
     "execution_count": 324,
     "metadata": {},
     "output_type": "execute_result"
    }
   ],
   "source": [
    "mean_squared_error(y_test, tahmin1) ** 0.5"
   ]
  },
  {
   "cell_type": "code",
   "execution_count": 326,
   "id": "15ff4f57-3e24-40d6-a884-1fe22f212cec",
   "metadata": {},
   "outputs": [
    {
     "data": {
      "text/plain": [
       "0.8378309740905582"
      ]
     },
     "execution_count": 326,
     "metadata": {},
     "output_type": "execute_result"
    }
   ],
   "source": [
    "r2_score(y_test, tahmin1)"
   ]
  },
  {
   "cell_type": "code",
   "execution_count": null,
   "id": "94ed40bb-63fb-4a94-a3dc-3ec8bae452bc",
   "metadata": {},
   "outputs": [],
   "source": []
  },
  {
   "cell_type": "code",
   "execution_count": null,
   "id": "54b805ec-4dae-4233-b15c-c6a2ceda4642",
   "metadata": {},
   "outputs": [],
   "source": []
  },
  {
   "cell_type": "code",
   "execution_count": null,
   "id": "aa1f5006-911b-427f-a39b-f66b5f2a28f3",
   "metadata": {},
   "outputs": [],
   "source": []
  },
  {
   "cell_type": "code",
   "execution_count": null,
   "id": "1b33c4f6-13ce-4afb-8d78-04ed4b4561ef",
   "metadata": {},
   "outputs": [],
   "source": []
  }
 ],
 "metadata": {
  "kernelspec": {
   "display_name": "Python 3 (ipykernel)",
   "language": "python",
   "name": "python3"
  },
  "language_info": {
   "codemirror_mode": {
    "name": "ipython",
    "version": 3
   },
   "file_extension": ".py",
   "mimetype": "text/x-python",
   "name": "python",
   "nbconvert_exporter": "python",
   "pygments_lexer": "ipython3",
   "version": "3.12.4"
  }
 },
 "nbformat": 4,
 "nbformat_minor": 5
}
