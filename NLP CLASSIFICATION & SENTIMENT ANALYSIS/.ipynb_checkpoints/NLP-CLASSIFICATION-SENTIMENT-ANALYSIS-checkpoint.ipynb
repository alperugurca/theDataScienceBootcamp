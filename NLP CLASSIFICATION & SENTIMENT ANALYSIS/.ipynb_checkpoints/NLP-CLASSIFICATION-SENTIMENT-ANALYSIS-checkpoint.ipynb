{
 "cells": [
  {
   "cell_type": "markdown",
   "id": "7d3c5097-4ba7-494d-a2ed-9071ea4f00f4",
   "metadata": {},
   "source": [
    "1. Text Processing = Küçük harf, noktalama işaretleri, sayıları kaldır\n",
    "2. * tfidf, count vectorizer word embedded\n",
    "3. Modelleri kullan fit predict\n",
    "4. 1,2 -- 3 -- 4,5 3 farklı cevap var, Multinomial naive bayes kullan\n",
    "5. lamdetect ile 42 ingilizce olmayan yorumu silme\n",
    "6. stem, lemma ek kaldır\n",
    "7. Ngram kullan 1,2,3\n",
    "8. Classifier 8 adet dene\n",
    "9. TextBlob sentiment ile epsilon komşuluğu -1, +1 arası değerler var aralık belirterek bölme örn -0.2 ve 0.2 arası nötr 0.2+ poz , -0.2- neg\n",
    "10. 5 yıldız ve 1 yıldız word cloud yap\n",
    "11. ngram ile 2-3 kelimeye birden bak\n",
    "12. Stopwords kaldır, Negatif cümleleri analiz et en çok kullanılan 10 tanesini bul"
   ]
  }
 ],
 "metadata": {
  "kernelspec": {
   "display_name": "Python 3 (ipykernel)",
   "language": "python",
   "name": "python3"
  },
  "language_info": {
   "codemirror_mode": {
    "name": "ipython",
    "version": 3
   },
   "file_extension": ".py",
   "mimetype": "text/x-python",
   "name": "python",
   "nbconvert_exporter": "python",
   "pygments_lexer": "ipython3",
   "version": "3.12.4"
  }
 },
 "nbformat": 4,
 "nbformat_minor": 5
}
