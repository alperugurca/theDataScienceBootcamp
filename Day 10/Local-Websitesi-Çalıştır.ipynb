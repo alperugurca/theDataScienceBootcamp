{
 "cells": [
  {
   "cell_type": "code",
   "execution_count": 2,
   "id": "816cf69d-66f3-42fa-adbc-8df3ccbf3045",
   "metadata": {},
   "outputs": [
    {
     "name": "stdout",
     "output_type": "stream",
     "text": [
      "^C\n"
     ]
    },
    {
     "name": "stderr",
     "output_type": "stream",
     "text": [
      "::1 - - [25/Aug/2024 20:57:21] \"GET / HTTP/1.1\" 200 -\n",
      "::1 - - [25/Aug/2024 20:57:23] code 404, message File not found\n",
      "::1 - - [25/Aug/2024 20:57:23] \"GET /favicon.ico HTTP/1.1\" 404 -\n",
      "::1 - - [25/Aug/2024 20:58:23] \"GET / HTTP/1.1\" 200 -\n",
      "::1 - - [25/Aug/2024 21:00:14] \"GET / HTTP/1.1\" 304 -\n",
      "::1 - - [25/Aug/2024 21:00:46] \"GET / HTTP/1.1\" 200 -\n"
     ]
    }
   ],
   "source": [
    "!python -m http.server 8000"
   ]
  }
 ],
 "metadata": {
  "kernelspec": {
   "display_name": "Python 3 (ipykernel)",
   "language": "python",
   "name": "python3"
  },
  "language_info": {
   "codemirror_mode": {
    "name": "ipython",
    "version": 3
   },
   "file_extension": ".py",
   "mimetype": "text/x-python",
   "name": "python",
   "nbconvert_exporter": "python",
   "pygments_lexer": "ipython3",
   "version": "3.12.4"
  }
 },
 "nbformat": 4,
 "nbformat_minor": 5
}
