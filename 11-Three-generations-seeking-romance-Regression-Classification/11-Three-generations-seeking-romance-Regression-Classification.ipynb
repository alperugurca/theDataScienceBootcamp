{
 "cells": [
  {
   "cell_type": "code",
   "execution_count": 2,
   "id": "ff1a9aa3-b49d-4db1-a91b-0fd7c544ffa0",
   "metadata": {},
   "outputs": [
    {
     "name": "stderr",
     "output_type": "stream",
     "text": [
      "C:\\Users\\alperugurcan\\AppData\\Local\\Temp\\ipykernel_8672\\833028903.py:6: DtypeWarning: Columns (1,2,3,4,5,6,7,8,9,10,11,12,13,14,15,16,19,20,21,22,23,24,25,26,27,28,29,30) have mixed types. Specify dtype option on import or set low_memory=False.\n",
      "  df = pd.read_csv(\"profiles.csv\")\n"
     ]
    }
   ],
   "source": [
    "import pandas as pd\n",
    "import numpy as np\n",
    "import matplotlib.pyplot as plt\n",
    "import seaborn as sns\n",
    "\n",
    "df = pd.read_csv(\"profiles.csv\")"
   ]
  },
  {
   "cell_type": "code",
   "execution_count": 6,
   "id": "73402065-c44d-48a8-acdc-ebcbc581ddde",
   "metadata": {},
   "outputs": [
    {
     "name": "stdout",
     "output_type": "stream",
     "text": [
      "<class 'pandas.core.frame.DataFrame'>\n",
      "RangeIndex: 60552 entries, 0 to 60551\n",
      "Data columns (total 31 columns):\n",
      " #   Column       Non-Null Count  Dtype  \n",
      "---  ------       --------------  -----  \n",
      " 0   age          9514 non-null   float64\n",
      " 1   body_type    8666 non-null   object \n",
      " 2   diet         5761 non-null   object \n",
      " 3   drinks       9012 non-null   object \n",
      " 4   drugs        7215 non-null   object \n",
      " 5   education    8459 non-null   object \n",
      " 6   essay0       8667 non-null   object \n",
      " 7   essay1       8347 non-null   object \n",
      " 8   essay2       8049 non-null   object \n",
      " 9   essay3       7690 non-null   object \n",
      " 10  essay4       7879 non-null   object \n",
      " 11  essay5       7814 non-null   object \n",
      " 12  essay6       7352 non-null   object \n",
      " 13  essay7       7553 non-null   object \n",
      " 14  essay8       6361 non-null   object \n",
      " 15  essay9       7554 non-null   object \n",
      " 16  ethnicity    8565 non-null   object \n",
      " 17  height       9514 non-null   float64\n",
      " 18  income       9514 non-null   float64\n",
      " 19  job          8183 non-null   object \n",
      " 20  last_online  9514 non-null   object \n",
      " 21  location     9514 non-null   object \n",
      " 22  offspring    3886 non-null   object \n",
      " 23  orientation  9514 non-null   object \n",
      " 24  pets         6352 non-null   object \n",
      " 25  religion     6261 non-null   object \n",
      " 26  sex          9514 non-null   object \n",
      " 27  sign         7776 non-null   object \n",
      " 28  smokes       8596 non-null   object \n",
      " 29  speaks       9508 non-null   object \n",
      " 30  status       9514 non-null   object \n",
      "dtypes: float64(3), object(28)\n",
      "memory usage: 14.3+ MB\n"
     ]
    }
   ],
   "source": [
    "df.info()"
   ]
  },
  {
   "cell_type": "code",
   "execution_count": 28,
   "id": "618f3493-e757-4b27-8b44-290e9903829f",
   "metadata": {},
   "outputs": [
    {
     "data": {
      "text/html": [
       "<div>\n",
       "<style scoped>\n",
       "    .dataframe tbody tr th:only-of-type {\n",
       "        vertical-align: middle;\n",
       "    }\n",
       "\n",
       "    .dataframe tbody tr th {\n",
       "        vertical-align: top;\n",
       "    }\n",
       "\n",
       "    .dataframe thead th {\n",
       "        text-align: right;\n",
       "    }\n",
       "</style>\n",
       "<table border=\"1\" class=\"dataframe\">\n",
       "  <thead>\n",
       "    <tr style=\"text-align: right;\">\n",
       "      <th></th>\n",
       "      <th>age</th>\n",
       "      <th>body_type</th>\n",
       "      <th>diet</th>\n",
       "      <th>drinks</th>\n",
       "      <th>drugs</th>\n",
       "      <th>education</th>\n",
       "      <th>essay0</th>\n",
       "      <th>essay1</th>\n",
       "      <th>essay2</th>\n",
       "      <th>essay3</th>\n",
       "      <th>...</th>\n",
       "      <th>location</th>\n",
       "      <th>offspring</th>\n",
       "      <th>orientation</th>\n",
       "      <th>pets</th>\n",
       "      <th>religion</th>\n",
       "      <th>sex</th>\n",
       "      <th>sign</th>\n",
       "      <th>smokes</th>\n",
       "      <th>speaks</th>\n",
       "      <th>status</th>\n",
       "    </tr>\n",
       "  </thead>\n",
       "  <tbody>\n",
       "    <tr>\n",
       "      <th>0</th>\n",
       "      <td>22.0</td>\n",
       "      <td>a little extra</td>\n",
       "      <td>strictly anything</td>\n",
       "      <td>socially</td>\n",
       "      <td>never</td>\n",
       "      <td>working on college/university</td>\n",
       "      <td>about me:&lt;br /&gt;\\n&lt;br /&gt;\\ni would love to think...</td>\n",
       "      <td>currently working as an international agent fo...</td>\n",
       "      <td>making people laugh.&lt;br /&gt;\\nranting about a go...</td>\n",
       "      <td>the way i look. i am a six foot half asian, ha...</td>\n",
       "      <td>...</td>\n",
       "      <td>south san francisco, california</td>\n",
       "      <td>doesn&amp;rsquo;t have kids, but might want them</td>\n",
       "      <td>straight</td>\n",
       "      <td>likes dogs and likes cats</td>\n",
       "      <td>agnosticism and very serious about it</td>\n",
       "      <td>m</td>\n",
       "      <td>gemini</td>\n",
       "      <td>sometimes</td>\n",
       "      <td>english</td>\n",
       "      <td>single</td>\n",
       "    </tr>\n",
       "    <tr>\n",
       "      <th>1</th>\n",
       "      <td>35.0</td>\n",
       "      <td>average</td>\n",
       "      <td>mostly other</td>\n",
       "      <td>often</td>\n",
       "      <td>sometimes</td>\n",
       "      <td>working on space camp</td>\n",
       "      <td>i am a chef: this is what that means.&lt;br /&gt;\\n1...</td>\n",
       "      <td>dedicating everyday to being an unbelievable b...</td>\n",
       "      <td>being silly. having ridiculous amonts of fun w...</td>\n",
       "      <td>NaN</td>\n",
       "      <td>...</td>\n",
       "      <td>oakland, california</td>\n",
       "      <td>doesn&amp;rsquo;t have kids, but might want them</td>\n",
       "      <td>straight</td>\n",
       "      <td>likes dogs and likes cats</td>\n",
       "      <td>agnosticism but not too serious about it</td>\n",
       "      <td>m</td>\n",
       "      <td>cancer</td>\n",
       "      <td>no</td>\n",
       "      <td>english (fluently), spanish (poorly), french (...</td>\n",
       "      <td>single</td>\n",
       "    </tr>\n",
       "    <tr>\n",
       "      <th>2</th>\n",
       "      <td>38.0</td>\n",
       "      <td>thin</td>\n",
       "      <td>anything</td>\n",
       "      <td>socially</td>\n",
       "      <td>NaN</td>\n",
       "      <td>graduated from masters program</td>\n",
       "      <td>i'm not ashamed of much, but writing public te...</td>\n",
       "      <td>i make nerdy software for musicians, artists, ...</td>\n",
       "      <td>improvising in different contexts. alternating...</td>\n",
       "      <td>my large jaw and large glasses are the physica...</td>\n",
       "      <td>...</td>\n",
       "      <td>san francisco, california</td>\n",
       "      <td>NaN</td>\n",
       "      <td>straight</td>\n",
       "      <td>has cats</td>\n",
       "      <td>NaN</td>\n",
       "      <td>m</td>\n",
       "      <td>pisces but it doesn&amp;rsquo;t matter</td>\n",
       "      <td>no</td>\n",
       "      <td>english, french, c++</td>\n",
       "      <td>available</td>\n",
       "    </tr>\n",
       "    <tr>\n",
       "      <th>3</th>\n",
       "      <td>23.0</td>\n",
       "      <td>thin</td>\n",
       "      <td>vegetarian</td>\n",
       "      <td>socially</td>\n",
       "      <td>NaN</td>\n",
       "      <td>working on college/university</td>\n",
       "      <td>i work in a library and go to school. . .</td>\n",
       "      <td>reading things written by old dead people</td>\n",
       "      <td>playing synthesizers and organizing books acco...</td>\n",
       "      <td>socially awkward but i do my best</td>\n",
       "      <td>...</td>\n",
       "      <td>berkeley, california</td>\n",
       "      <td>doesn&amp;rsquo;t want kids</td>\n",
       "      <td>straight</td>\n",
       "      <td>likes cats</td>\n",
       "      <td>NaN</td>\n",
       "      <td>m</td>\n",
       "      <td>pisces</td>\n",
       "      <td>no</td>\n",
       "      <td>english, german (poorly)</td>\n",
       "      <td>single</td>\n",
       "    </tr>\n",
       "    <tr>\n",
       "      <th>4</th>\n",
       "      <td>29.0</td>\n",
       "      <td>athletic</td>\n",
       "      <td>NaN</td>\n",
       "      <td>socially</td>\n",
       "      <td>never</td>\n",
       "      <td>graduated from college/university</td>\n",
       "      <td>hey how's it going? currently vague on the pro...</td>\n",
       "      <td>work work work work + play</td>\n",
       "      <td>creating imagery to look at:&lt;br /&gt;\\nhttp://bag...</td>\n",
       "      <td>i smile a lot and my inquisitive nature</td>\n",
       "      <td>...</td>\n",
       "      <td>san francisco, california</td>\n",
       "      <td>NaN</td>\n",
       "      <td>straight</td>\n",
       "      <td>likes dogs and likes cats</td>\n",
       "      <td>NaN</td>\n",
       "      <td>m</td>\n",
       "      <td>aquarius</td>\n",
       "      <td>no</td>\n",
       "      <td>english</td>\n",
       "      <td>single</td>\n",
       "    </tr>\n",
       "    <tr>\n",
       "      <th>...</th>\n",
       "      <td>...</td>\n",
       "      <td>...</td>\n",
       "      <td>...</td>\n",
       "      <td>...</td>\n",
       "      <td>...</td>\n",
       "      <td>...</td>\n",
       "      <td>...</td>\n",
       "      <td>...</td>\n",
       "      <td>...</td>\n",
       "      <td>...</td>\n",
       "      <td>...</td>\n",
       "      <td>...</td>\n",
       "      <td>...</td>\n",
       "      <td>...</td>\n",
       "      <td>...</td>\n",
       "      <td>...</td>\n",
       "      <td>...</td>\n",
       "      <td>...</td>\n",
       "      <td>...</td>\n",
       "      <td>...</td>\n",
       "      <td>...</td>\n",
       "    </tr>\n",
       "    <tr>\n",
       "      <th>60547</th>\n",
       "      <td>NaN</td>\n",
       "      <td>NaN</td>\n",
       "      <td>NaN</td>\n",
       "      <td>NaN</td>\n",
       "      <td>NaN</td>\n",
       "      <td>NaN</td>\n",
       "      <td>NaN</td>\n",
       "      <td>NaN</td>\n",
       "      <td>NaN</td>\n",
       "      <td>NaN</td>\n",
       "      <td>...</td>\n",
       "      <td>NaN</td>\n",
       "      <td>NaN</td>\n",
       "      <td>NaN</td>\n",
       "      <td>NaN</td>\n",
       "      <td>NaN</td>\n",
       "      <td>NaN</td>\n",
       "      <td>NaN</td>\n",
       "      <td>NaN</td>\n",
       "      <td>NaN</td>\n",
       "      <td>NaN</td>\n",
       "    </tr>\n",
       "    <tr>\n",
       "      <th>60548</th>\n",
       "      <td>NaN</td>\n",
       "      <td>NaN</td>\n",
       "      <td>NaN</td>\n",
       "      <td>NaN</td>\n",
       "      <td>NaN</td>\n",
       "      <td>NaN</td>\n",
       "      <td>NaN</td>\n",
       "      <td>NaN</td>\n",
       "      <td>NaN</td>\n",
       "      <td>NaN</td>\n",
       "      <td>...</td>\n",
       "      <td>NaN</td>\n",
       "      <td>NaN</td>\n",
       "      <td>NaN</td>\n",
       "      <td>NaN</td>\n",
       "      <td>NaN</td>\n",
       "      <td>NaN</td>\n",
       "      <td>NaN</td>\n",
       "      <td>NaN</td>\n",
       "      <td>NaN</td>\n",
       "      <td>NaN</td>\n",
       "    </tr>\n",
       "    <tr>\n",
       "      <th>60549</th>\n",
       "      <td>NaN</td>\n",
       "      <td>NaN</td>\n",
       "      <td>NaN</td>\n",
       "      <td>NaN</td>\n",
       "      <td>NaN</td>\n",
       "      <td>NaN</td>\n",
       "      <td>NaN</td>\n",
       "      <td>NaN</td>\n",
       "      <td>NaN</td>\n",
       "      <td>NaN</td>\n",
       "      <td>...</td>\n",
       "      <td>NaN</td>\n",
       "      <td>NaN</td>\n",
       "      <td>NaN</td>\n",
       "      <td>NaN</td>\n",
       "      <td>NaN</td>\n",
       "      <td>NaN</td>\n",
       "      <td>NaN</td>\n",
       "      <td>NaN</td>\n",
       "      <td>NaN</td>\n",
       "      <td>NaN</td>\n",
       "    </tr>\n",
       "    <tr>\n",
       "      <th>60550</th>\n",
       "      <td>NaN</td>\n",
       "      <td>NaN</td>\n",
       "      <td>NaN</td>\n",
       "      <td>NaN</td>\n",
       "      <td>NaN</td>\n",
       "      <td>NaN</td>\n",
       "      <td>NaN</td>\n",
       "      <td>NaN</td>\n",
       "      <td>NaN</td>\n",
       "      <td>NaN</td>\n",
       "      <td>...</td>\n",
       "      <td>NaN</td>\n",
       "      <td>NaN</td>\n",
       "      <td>NaN</td>\n",
       "      <td>NaN</td>\n",
       "      <td>NaN</td>\n",
       "      <td>NaN</td>\n",
       "      <td>NaN</td>\n",
       "      <td>NaN</td>\n",
       "      <td>NaN</td>\n",
       "      <td>NaN</td>\n",
       "    </tr>\n",
       "    <tr>\n",
       "      <th>60551</th>\n",
       "      <td>NaN</td>\n",
       "      <td>NaN</td>\n",
       "      <td>NaN</td>\n",
       "      <td>NaN</td>\n",
       "      <td>NaN</td>\n",
       "      <td>NaN</td>\n",
       "      <td>NaN</td>\n",
       "      <td>NaN</td>\n",
       "      <td>NaN</td>\n",
       "      <td>NaN</td>\n",
       "      <td>...</td>\n",
       "      <td>NaN</td>\n",
       "      <td>NaN</td>\n",
       "      <td>NaN</td>\n",
       "      <td>NaN</td>\n",
       "      <td>NaN</td>\n",
       "      <td>NaN</td>\n",
       "      <td>NaN</td>\n",
       "      <td>NaN</td>\n",
       "      <td>NaN</td>\n",
       "      <td>NaN</td>\n",
       "    </tr>\n",
       "  </tbody>\n",
       "</table>\n",
       "<p>60552 rows × 31 columns</p>\n",
       "</div>"
      ],
      "text/plain": [
       "        age       body_type               diet    drinks      drugs  \\\n",
       "0      22.0  a little extra  strictly anything  socially      never   \n",
       "1      35.0         average       mostly other     often  sometimes   \n",
       "2      38.0            thin           anything  socially        NaN   \n",
       "3      23.0            thin         vegetarian  socially        NaN   \n",
       "4      29.0        athletic                NaN  socially      never   \n",
       "...     ...             ...                ...       ...        ...   \n",
       "60547   NaN             NaN                NaN       NaN        NaN   \n",
       "60548   NaN             NaN                NaN       NaN        NaN   \n",
       "60549   NaN             NaN                NaN       NaN        NaN   \n",
       "60550   NaN             NaN                NaN       NaN        NaN   \n",
       "60551   NaN             NaN                NaN       NaN        NaN   \n",
       "\n",
       "                               education  \\\n",
       "0          working on college/university   \n",
       "1                  working on space camp   \n",
       "2         graduated from masters program   \n",
       "3          working on college/university   \n",
       "4      graduated from college/university   \n",
       "...                                  ...   \n",
       "60547                                NaN   \n",
       "60548                                NaN   \n",
       "60549                                NaN   \n",
       "60550                                NaN   \n",
       "60551                                NaN   \n",
       "\n",
       "                                                  essay0  \\\n",
       "0      about me:<br />\\n<br />\\ni would love to think...   \n",
       "1      i am a chef: this is what that means.<br />\\n1...   \n",
       "2      i'm not ashamed of much, but writing public te...   \n",
       "3              i work in a library and go to school. . .   \n",
       "4      hey how's it going? currently vague on the pro...   \n",
       "...                                                  ...   \n",
       "60547                                                NaN   \n",
       "60548                                                NaN   \n",
       "60549                                                NaN   \n",
       "60550                                                NaN   \n",
       "60551                                                NaN   \n",
       "\n",
       "                                                  essay1  \\\n",
       "0      currently working as an international agent fo...   \n",
       "1      dedicating everyday to being an unbelievable b...   \n",
       "2      i make nerdy software for musicians, artists, ...   \n",
       "3              reading things written by old dead people   \n",
       "4                             work work work work + play   \n",
       "...                                                  ...   \n",
       "60547                                                NaN   \n",
       "60548                                                NaN   \n",
       "60549                                                NaN   \n",
       "60550                                                NaN   \n",
       "60551                                                NaN   \n",
       "\n",
       "                                                  essay2  \\\n",
       "0      making people laugh.<br />\\nranting about a go...   \n",
       "1      being silly. having ridiculous amonts of fun w...   \n",
       "2      improvising in different contexts. alternating...   \n",
       "3      playing synthesizers and organizing books acco...   \n",
       "4      creating imagery to look at:<br />\\nhttp://bag...   \n",
       "...                                                  ...   \n",
       "60547                                                NaN   \n",
       "60548                                                NaN   \n",
       "60549                                                NaN   \n",
       "60550                                                NaN   \n",
       "60551                                                NaN   \n",
       "\n",
       "                                                  essay3  ...  \\\n",
       "0      the way i look. i am a six foot half asian, ha...  ...   \n",
       "1                                                    NaN  ...   \n",
       "2      my large jaw and large glasses are the physica...  ...   \n",
       "3                      socially awkward but i do my best  ...   \n",
       "4                i smile a lot and my inquisitive nature  ...   \n",
       "...                                                  ...  ...   \n",
       "60547                                                NaN  ...   \n",
       "60548                                                NaN  ...   \n",
       "60549                                                NaN  ...   \n",
       "60550                                                NaN  ...   \n",
       "60551                                                NaN  ...   \n",
       "\n",
       "                              location  \\\n",
       "0      south san francisco, california   \n",
       "1                  oakland, california   \n",
       "2            san francisco, california   \n",
       "3                 berkeley, california   \n",
       "4            san francisco, california   \n",
       "...                                ...   \n",
       "60547                              NaN   \n",
       "60548                              NaN   \n",
       "60549                              NaN   \n",
       "60550                              NaN   \n",
       "60551                              NaN   \n",
       "\n",
       "                                          offspring orientation  \\\n",
       "0      doesn&rsquo;t have kids, but might want them    straight   \n",
       "1      doesn&rsquo;t have kids, but might want them    straight   \n",
       "2                                               NaN    straight   \n",
       "3                           doesn&rsquo;t want kids    straight   \n",
       "4                                               NaN    straight   \n",
       "...                                             ...         ...   \n",
       "60547                                           NaN         NaN   \n",
       "60548                                           NaN         NaN   \n",
       "60549                                           NaN         NaN   \n",
       "60550                                           NaN         NaN   \n",
       "60551                                           NaN         NaN   \n",
       "\n",
       "                            pets                                  religion  \\\n",
       "0      likes dogs and likes cats     agnosticism and very serious about it   \n",
       "1      likes dogs and likes cats  agnosticism but not too serious about it   \n",
       "2                       has cats                                       NaN   \n",
       "3                     likes cats                                       NaN   \n",
       "4      likes dogs and likes cats                                       NaN   \n",
       "...                          ...                                       ...   \n",
       "60547                        NaN                                       NaN   \n",
       "60548                        NaN                                       NaN   \n",
       "60549                        NaN                                       NaN   \n",
       "60550                        NaN                                       NaN   \n",
       "60551                        NaN                                       NaN   \n",
       "\n",
       "       sex                                sign     smokes  \\\n",
       "0        m                              gemini  sometimes   \n",
       "1        m                              cancer         no   \n",
       "2        m  pisces but it doesn&rsquo;t matter         no   \n",
       "3        m                              pisces         no   \n",
       "4        m                            aquarius         no   \n",
       "...    ...                                 ...        ...   \n",
       "60547  NaN                                 NaN        NaN   \n",
       "60548  NaN                                 NaN        NaN   \n",
       "60549  NaN                                 NaN        NaN   \n",
       "60550  NaN                                 NaN        NaN   \n",
       "60551  NaN                                 NaN        NaN   \n",
       "\n",
       "                                                  speaks     status  \n",
       "0                                                english     single  \n",
       "1      english (fluently), spanish (poorly), french (...     single  \n",
       "2                                   english, french, c++  available  \n",
       "3                               english, german (poorly)     single  \n",
       "4                                                english     single  \n",
       "...                                                  ...        ...  \n",
       "60547                                                NaN        NaN  \n",
       "60548                                                NaN        NaN  \n",
       "60549                                                NaN        NaN  \n",
       "60550                                                NaN        NaN  \n",
       "60551                                                NaN        NaN  \n",
       "\n",
       "[60552 rows x 31 columns]"
      ]
     },
     "execution_count": 28,
     "metadata": {},
     "output_type": "execute_result"
    }
   ],
   "source": [
    "df"
   ]
  },
  {
   "cell_type": "code",
   "execution_count": 8,
   "id": "93179616-cf2f-4a4f-af48-d48818d8f3c6",
   "metadata": {},
   "outputs": [
    {
     "name": "stdout",
     "output_type": "stream",
     "text": [
      "Index(['age', 'body_type', 'diet', 'drinks', 'drugs', 'education', 'essay0',\n",
      "       'essay1', 'essay2', 'essay3', 'essay4', 'essay5', 'essay6', 'essay7',\n",
      "       'essay8', 'essay9', 'ethnicity', 'height', 'income', 'job',\n",
      "       'last_online', 'location', 'offspring', 'orientation', 'pets',\n",
      "       'religion', 'sex', 'sign', 'smokes', 'speaks', 'status'],\n",
      "      dtype='object')\n"
     ]
    }
   ],
   "source": [
    "print(df.columns)"
   ]
  },
  {
   "cell_type": "code",
   "execution_count": 14,
   "id": "0c401985-fd98-439a-badd-dd61b5c0b233",
   "metadata": {},
   "outputs": [
    {
     "data": {
      "text/plain": [
       "array(['socially', 'often', 'not at all', 'rarely', nan, 'very often',\n",
       "       'desperately'], dtype=object)"
      ]
     },
     "execution_count": 14,
     "metadata": {},
     "output_type": "execute_result"
    }
   ],
   "source": [
    "df.drinks.unique()"
   ]
  },
  {
   "cell_type": "code",
   "execution_count": 26,
   "id": "44e4b591-e75c-4f7a-bbe1-87451c1066f6",
   "metadata": {},
   "outputs": [
    {
     "name": "stdout",
     "output_type": "stream",
     "text": [
      "[-1.0e+00  8.0e+04  2.0e+04  4.0e+04  3.0e+04  5.0e+04  6.0e+04  1.0e+06\n",
      "  1.5e+05  1.0e+05  5.0e+05  7.0e+04  2.5e+05      nan]\n"
     ]
    }
   ],
   "source": [
    "print(df.income.unique())"
   ]
  },
  {
   "cell_type": "code",
   "execution_count": 32,
   "id": "8f7de79b-6d69-4315-8560-81c009ce6f75",
   "metadata": {},
   "outputs": [
    {
     "name": "stdout",
     "output_type": "stream",
     "text": [
      "6764\n"
     ]
    }
   ],
   "source": [
    "print(len(df.last_online.unique()))"
   ]
  },
  {
   "cell_type": "code",
   "execution_count": 44,
   "id": "08dd4f0f-97e2-48be-9ed8-c2cdf7968120",
   "metadata": {},
   "outputs": [
    {
     "data": {
      "text/plain": [
       "count                 9514\n",
       "unique                6763\n",
       "top       2012-06-29-22-56\n",
       "freq                    15\n",
       "Name: last_online, dtype: object"
      ]
     },
     "execution_count": 44,
     "metadata": {},
     "output_type": "execute_result"
    }
   ],
   "source": [
    "df.last_online.describe()"
   ]
  },
  {
   "cell_type": "code",
   "execution_count": 46,
   "id": "2beb177c-ed3a-4db6-a008-7594c8a8c89c",
   "metadata": {},
   "outputs": [
    {
     "name": "stdout",
     "output_type": "stream",
     "text": [
      "0    2012-06-28-20-30\n",
      "1    2012-06-29-21-41\n",
      "2    2012-06-27-09-10\n",
      "3    2012-06-28-14-22\n",
      "4    2012-06-27-21-26\n",
      "Name: last_online, dtype: object\n"
     ]
    }
   ],
   "source": [
    "print(df.last_online.head(5))"
   ]
  },
  {
   "cell_type": "code",
   "execution_count": 48,
   "id": "f2cdc641-a511-41d7-80dd-3ddfe23c7d25",
   "metadata": {},
   "outputs": [
    {
     "name": "stdout",
     "output_type": "stream",
     "text": [
      "['straight' 'bisexual' 'gay' nan]\n"
     ]
    }
   ],
   "source": [
    "print(df.orientation.unique())"
   ]
  },
  {
   "cell_type": "code",
   "execution_count": 50,
   "id": "af584c8f-32a2-4b2f-8154-f74804139693",
   "metadata": {},
   "outputs": [
    {
     "name": "stdout",
     "output_type": "stream",
     "text": [
      "['sometimes' 'no' nan 'when drinking' 'yes' 'trying to quit']\n"
     ]
    }
   ],
   "source": [
    "print(df.smokes.unique())"
   ]
  },
  {
   "cell_type": "code",
   "execution_count": 52,
   "id": "af071e50-8a07-4a06-a884-0954252a0a78",
   "metadata": {},
   "outputs": [
    {
     "name": "stdout",
     "output_type": "stream",
     "text": [
      "1795\n"
     ]
    }
   ],
   "source": [
    "print(len(df.speaks.unique()))"
   ]
  },
  {
   "cell_type": "code",
   "execution_count": 54,
   "id": "553d64b1-2558-4e12-a5ed-3387862837d9",
   "metadata": {},
   "outputs": [
    {
     "name": "stdout",
     "output_type": "stream",
     "text": [
      "0                                              english\n",
      "1    english (fluently), spanish (poorly), french (...\n",
      "2                                 english, french, c++\n",
      "3                             english, german (poorly)\n",
      "4                                              english\n",
      "5                   english (fluently), chinese (okay)\n",
      "6                                              english\n",
      "7                              english, spanish (okay)\n",
      "8                                              english\n",
      "9                                   english (fluently)\n",
      "Name: speaks, dtype: object\n"
     ]
    }
   ],
   "source": [
    "print(df.speaks.head(10))"
   ]
  },
  {
   "cell_type": "code",
   "execution_count": 56,
   "id": "e47f1037-fb67-405b-b1be-55a88360e8b6",
   "metadata": {},
   "outputs": [
    {
     "name": "stdout",
     "output_type": "stream",
     "text": [
      "['single' 'available' 'seeing someone' 'married' nan]\n"
     ]
    }
   ],
   "source": [
    "print(df.status.unique())"
   ]
  },
  {
   "cell_type": "code",
   "execution_count": 60,
   "id": "fc398a1e-3bb1-414e-b667-b83474070f8c",
   "metadata": {},
   "outputs": [
    {
     "name": "stdout",
     "output_type": "stream",
     "text": [
      "agnosticism and very serious about it\n",
      "agnosticism but not too serious about it\n",
      "nan\n",
      "atheism\n",
      "christianity\n",
      "christianity but not too serious about it\n",
      "atheism and laughing about it\n",
      "christianity and very serious about it\n",
      "other\n",
      "catholicism\n",
      "catholicism but not too serious about it\n",
      "catholicism and somewhat serious about it\n",
      "agnosticism and somewhat serious about it\n",
      "catholicism and laughing about it\n",
      "agnosticism and laughing about it\n",
      "agnosticism\n",
      "atheism and somewhat serious about it\n",
      "buddhism but not too serious about it\n",
      "other but not too serious about it\n",
      "buddhism\n",
      "other and laughing about it\n",
      "judaism but not too serious about it\n",
      "buddhism and laughing about it\n",
      "other and somewhat serious about it\n",
      "other and very serious about it\n",
      "hinduism but not too serious about it\n",
      "atheism but not too serious about it\n",
      "judaism\n",
      "christianity and somewhat serious about it\n",
      "hinduism and very serious about it\n",
      "atheism and very serious about it\n",
      "judaism and laughing about it\n",
      "christianity and laughing about it\n",
      "hinduism and laughing about it\n",
      "buddhism and somewhat serious about it\n",
      "islam and very serious about it\n",
      "islam\n",
      "hinduism\n",
      "judaism and somewhat serious about it\n",
      "catholicism and very serious about it\n",
      "judaism and very serious about it\n",
      "hinduism and somewhat serious about it\n",
      "islam but not too serious about it\n",
      "buddhism and very serious about it\n",
      "islam and laughing about it\n",
      "islam and somewhat serious about it\n"
     ]
    }
   ],
   "source": [
    "for i in df.religion.unique():\n",
    "    print(i)"
   ]
  },
  {
   "cell_type": "code",
   "execution_count": 62,
   "id": "8eeb6e99-d181-40f3-a637-cba96713e375",
   "metadata": {},
   "outputs": [
    {
     "name": "stdout",
     "output_type": "stream",
     "text": [
      "south san francisco, california\n",
      "oakland, california\n",
      "san francisco, california\n",
      "berkeley, california\n",
      "belvedere tiburon, california\n",
      "san mateo, california\n",
      "daly city, california\n",
      "san leandro, california\n",
      "atherton, california\n",
      "san rafael, california\n",
      "walnut creek, california\n",
      "menlo park, california\n",
      "belmont, california\n",
      "san jose, california\n",
      "palo alto, california\n",
      "emeryville, california\n",
      "el granada, california\n",
      "castro valley, california\n",
      "fairfax, california\n",
      "mountain view, california\n",
      "burlingame, california\n",
      "martinez, california\n",
      "pleasant hill, california\n",
      "hayward, california\n",
      "alameda, california\n",
      "vallejo, california\n",
      "benicia, california\n",
      "el cerrito, california\n",
      "mill valley, california\n",
      "richmond, california\n",
      "redwood city, california\n",
      "el sobrante, california\n",
      "stanford, california\n",
      "san pablo, california\n",
      "novato, california\n",
      "pacifica, california\n",
      "lafayette, california\n",
      "half moon bay, california\n",
      "fremont, california\n",
      "orinda, california\n",
      "san anselmo, california\n",
      "corte madera, california\n",
      "albany, california\n",
      "san carlos, california\n",
      "san lorenzo, california\n",
      "foster city, california\n",
      "hercules, california\n",
      "santa cruz, california\n",
      "bolinas, california\n",
      "sausalito, california\n",
      "millbrae, california\n",
      "larkspur, california\n",
      "moraga, california\n",
      "san bruno, california\n",
      "petaluma, california\n",
      "pinole, california\n",
      "san geronimo, california\n",
      "crockett, california\n",
      "boulder, colorado\n",
      "brisbane, california\n",
      "freedom, california\n",
      "montara, california\n",
      "green brae, california\n",
      "woodside, california\n",
      "new york, new york\n",
      "ross, california\n",
      "east palo alto, california\n",
      "san quentin, california\n",
      "portland, oregon\n",
      "rodeo, california\n",
      "hacienda heights, california\n",
      "woodacre, california\n",
      "westlake, california\n",
      "riverside, california\n",
      "rohnert park, california\n",
      "sacramento, california\n",
      "point richmond, california\n",
      "san diego, california\n",
      "canyon country, california\n",
      "tucson, arizona\n",
      "honolulu, hawaii\n",
      "billings, montana\n",
      "west oakland, california\n",
      "kentfield, california\n",
      "milwaukee, wisconsin\n",
      "woodbridge, virginia\n",
      "glencove, california\n",
      "tiburon, california\n",
      "madrid, spain\n",
      "nan\n"
     ]
    }
   ],
   "source": [
    "for i in df.location.unique():\n",
    "    print(i)"
   ]
  },
  {
   "cell_type": "code",
   "execution_count": 66,
   "id": "e187e8b8-2fff-4b95-a6e5-fc9702aa7ccb",
   "metadata": {},
   "outputs": [
    {
     "data": {
      "text/plain": [
       "drugs\n",
       "never        5972\n",
       "sometimes    1181\n",
       "often          62\n",
       "Name: count, dtype: int64"
      ]
     },
     "execution_count": 66,
     "metadata": {},
     "output_type": "execute_result"
    }
   ],
   "source": [
    "df[\"drugs\"].value_counts()"
   ]
  },
  {
   "cell_type": "code",
   "execution_count": 68,
   "id": "db0ea3ae-5f3f-433b-a213-c54559024da8",
   "metadata": {},
   "outputs": [],
   "source": [
    "df[\"drugs\"] = df[\"drugs\"].map({\"never\":0, \"sometimes\":1, \"often\":2})"
   ]
  },
  {
   "cell_type": "code",
   "execution_count": 70,
   "id": "05e6995f-0785-4d9c-86ef-d48d7d9ef8a9",
   "metadata": {},
   "outputs": [
    {
     "data": {
      "text/plain": [
       "drugs\n",
       "0.0    5972\n",
       "1.0    1181\n",
       "2.0      62\n",
       "Name: count, dtype: int64"
      ]
     },
     "execution_count": 70,
     "metadata": {},
     "output_type": "execute_result"
    }
   ],
   "source": [
    "df[\"drugs\"].value_counts()"
   ]
  },
  {
   "cell_type": "code",
   "execution_count": 72,
   "id": "deb9795b-d7ad-486a-88ff-6957cb8e3ff1",
   "metadata": {},
   "outputs": [],
   "source": [
    "df[\"drinks\"] = df[\"drinks\"].map({\"not at all\":0, \"rarely\":1, \"socially\":2, \"often\":3, \"very often\":4, \"desperately\":5})"
   ]
  },
  {
   "cell_type": "code",
   "execution_count": 74,
   "id": "f0f46855-1081-4f0f-86fb-6c39aae9b85b",
   "metadata": {},
   "outputs": [
    {
     "data": {
      "text/plain": [
       "drinks\n",
       "2.0    6679\n",
       "1.0     911\n",
       "3.0     809\n",
       "0.0     509\n",
       "4.0      54\n",
       "5.0      50\n",
       "Name: count, dtype: int64"
      ]
     },
     "execution_count": 74,
     "metadata": {},
     "output_type": "execute_result"
    }
   ],
   "source": [
    "df[\"drinks\"].value_counts()"
   ]
  },
  {
   "cell_type": "code",
   "execution_count": 76,
   "id": "fd9e20f6-0634-4ffc-ba70-bc2b12856036",
   "metadata": {},
   "outputs": [],
   "source": [
    "df[\"smokes\"] = df[\"smokes\"].map({\"no\":0, \"trying to quit\":1, \"sometimes\":2, \"when drinking\":3, \"yes\":4})"
   ]
  },
  {
   "cell_type": "code",
   "execution_count": 78,
   "id": "74a9abfc-d861-429f-9e37-b6fe97954558",
   "metadata": {},
   "outputs": [
    {
     "data": {
      "text/plain": [
       "smokes\n",
       "0.0    7011\n",
       "2.0     565\n",
       "3.0     480\n",
       "4.0     307\n",
       "1.0     233\n",
       "Name: count, dtype: int64"
      ]
     },
     "execution_count": 78,
     "metadata": {},
     "output_type": "execute_result"
    }
   ],
   "source": [
    "df[\"smokes\"].value_counts()"
   ]
  },
  {
   "cell_type": "code",
   "execution_count": 80,
   "id": "9f44411b-cda3-436e-987a-b1165b3a9140",
   "metadata": {},
   "outputs": [
    {
     "name": "stdout",
     "output_type": "stream",
     "text": [
      "53868\n"
     ]
    }
   ],
   "source": [
    "print(len(df) - len((df.drinks + df.drugs + df.smokes).dropna()))"
   ]
  },
  {
   "cell_type": "code",
   "execution_count": 82,
   "id": "69d240fb-8b95-4272-ab8d-560df825be5d",
   "metadata": {},
   "outputs": [],
   "source": [
    "generation = []"
   ]
  },
  {
   "cell_type": "code",
   "execution_count": 84,
   "id": "f7696a94-d62d-49af-a66a-4018d1318065",
   "metadata": {},
   "outputs": [],
   "source": [
    "for i in range(len(df)):\n",
    "    if 18 <= df[\"age\"].iloc[i] <= 32:\n",
    "        generation.append(0)\n",
    "    elif 32 < df[\"age\"].iloc[i] <= 47:\n",
    "        generation.append(1)\n",
    "    else:\n",
    "        generation.append(2)\n",
    "df[\"generation\"] = generation"
   ]
  },
  {
   "cell_type": "code",
   "execution_count": 88,
   "id": "050f1089-35ff-4da0-ade5-eca13ca9f30b",
   "metadata": {},
   "outputs": [],
   "source": [
    "df[\"languages\"] = df[\"speaks\"].apply(lambda row: 0 if pd.isnull(row) else len(row.split(\", \")))"
   ]
  },
  {
   "cell_type": "code",
   "execution_count": 90,
   "id": "4c92906f-1615-48ae-b3b8-f2cef3111f5f",
   "metadata": {},
   "outputs": [],
   "source": [
    "import math\n",
    "df[\"essay0_length\"] = df[\"essay0\"].apply(lambda row: len(row) if type(row) == str else 0)\n",
    "df[\"essay1_length\"] = df[\"essay1\"].apply(lambda row: len(row) if type(row) == str else 0)\n",
    "df[\"essay2_length\"] = df[\"essay2\"].apply(lambda row: len(row) if type(row) == str else 0)\n",
    "df[\"essay3_length\"] = df[\"essay3\"].apply(lambda row: len(row) if type(row) == str else 0)\n",
    "df[\"essay4_length\"] = df[\"essay4\"].apply(lambda row: len(row) if type(row) == str else 0)\n",
    "df[\"essay5_length\"] = df[\"essay5\"].apply(lambda row: len(row) if type(row) == str else 0)\n",
    "df[\"essay6_length\"] = df[\"essay6\"].apply(lambda row: len(row) if type(row) == str else 0)\n",
    "df[\"essay7_length\"] = df[\"essay7\"].apply(lambda row: len(row) if type(row) == str else 0)\n",
    "df[\"essay8_length\"] = df[\"essay8\"].apply(lambda row: len(row) if type(row) == str else 0)\n",
    "df[\"essay9_length\"] = df[\"essay9\"].apply(lambda row: len(row) if type(row) == str else 0)\n",
    "df[\"total_text_length\"] = df.apply(lambda row: row.essay0_length + row.essay1_length + row.essay2_length + row.essay3_length + row.essay4_length + row.essay5_length + row.essay6_length + row.essay7_length + row.essay8_length + row.essay9_length, axis=1)"
   ]
  },
  {
   "cell_type": "code",
   "execution_count": 92,
   "id": "ca09467c-0911-4425-aafd-43c266c84d3b",
   "metadata": {},
   "outputs": [
    {
     "name": "stdout",
     "output_type": "stream",
     "text": [
      "42623\n"
     ]
    }
   ],
   "source": [
    "print(df[\"total_text_length\"].max())"
   ]
  },
  {
   "cell_type": "code",
   "execution_count": 94,
   "id": "2bbfa628-fa75-4fd4-b090-dfc38357d52f",
   "metadata": {},
   "outputs": [
    {
     "name": "stderr",
     "output_type": "stream",
     "text": [
      "C:\\Users\\alperugurcan\\AppData\\Local\\Temp\\ipykernel_8672\\1859941885.py:1: FutureWarning: ChainedAssignmentError: behaviour will change in pandas 3.0!\n",
      "You are setting values through chained assignment. Currently this works in certain cases, but when using Copy-on-Write (which will become the default behaviour in pandas 3.0) this will never work to update the original DataFrame or Series, because the intermediate object on which we are setting values will behave as a copy.\n",
      "A typical example is when you are setting values in a column of a DataFrame, like:\n",
      "\n",
      "df[\"col\"][row_indexer] = value\n",
      "\n",
      "Use `df.loc[row_indexer, \"col\"] = values` instead, to perform the assignment in a single step and ensure this keeps updating the original `df`.\n",
      "\n",
      "See the caveats in the documentation: https://pandas.pydata.org/pandas-docs/stable/user_guide/indexing.html#returning-a-view-versus-a-copy\n",
      "\n",
      "  df[[\"total_text_length\"]].iloc[27528] = 59113\n",
      "C:\\Users\\alperugurcan\\AppData\\Local\\Temp\\ipykernel_8672\\1859941885.py:1: SettingWithCopyWarning: \n",
      "A value is trying to be set on a copy of a slice from a DataFrame\n",
      "\n",
      "See the caveats in the documentation: https://pandas.pydata.org/pandas-docs/stable/user_guide/indexing.html#returning-a-view-versus-a-copy\n",
      "  df[[\"total_text_length\"]].iloc[27528] = 59113\n"
     ]
    }
   ],
   "source": [
    "df[[\"total_text_length\"]].iloc[27528] = 59113"
   ]
  },
  {
   "cell_type": "code",
   "execution_count": 98,
   "id": "5f918aa3-ba71-4267-b4be-82a067903d26",
   "metadata": {},
   "outputs": [],
   "source": [
    "religious_seriousness = []\n",
    "for i in range(len(df)):\n",
    "    if type(df[\"religion\"][i]) == str:\n",
    "        if \"laughing\" in df[\"religion\"][i]:\n",
    "            religious_seriousness.append(0)\n",
    "        elif \"not too serious\" in df[\"religion\"][i]:\n",
    "            religious_seriousness.append(1)\n",
    "        elif \"somewhat serious\" in df[\"religion\"][i]:\n",
    "            religious_seriousness.append(2)\n",
    "        elif \"very serious\" in df[\"religion\"][i]:\n",
    "            religious_seriousness.append(4)\n",
    "        else:\n",
    "            religious_seriousness.append(3)\n",
    "    else:\n",
    "        religious_seriousness.append(1)\n",
    "df[\"religious_seriousness\"] = religious_seriousness"
   ]
  },
  {
   "cell_type": "code",
   "execution_count": 100,
   "id": "a597f8ce-2523-48a0-b83c-206a999fd200",
   "metadata": {},
   "outputs": [],
   "source": [
    "df[\"love\"] = df[\"essay9\"].apply(lambda row: 0 if pd.isnull(row) else row.casefold().count(\"love\"))"
   ]
  },
  {
   "cell_type": "code",
   "execution_count": 118,
   "id": "e341dbd1-16af-4bd1-ade9-c85dfa6c65dd",
   "metadata": {},
   "outputs": [
    {
     "name": "stdout",
     "output_type": "stream",
     "text": [
      "['california' 'colorado' 'new york' 'oregon' 'arizona' 'hawaii' 'montana'\n",
      " 'wisconsin' 'virginia' 'spain' 'nan']\n"
     ]
    },
    {
     "data": {
      "text/plain": [
       "location\n",
       "san francisco, california    4835\n",
       "oakland, california          1181\n",
       "berkeley, california          768\n",
       "san mateo, california         207\n",
       "palo alto, california         170\n",
       "                             ... \n",
       "woodside, california            1\n",
       "freedom, california             1\n",
       "petaluma, california            1\n",
       "santa cruz, california          1\n",
       "tiburon, california             1\n",
       "Name: count, Length: 80, dtype: int64"
      ]
     },
     "execution_count": 118,
     "metadata": {},
     "output_type": "execute_result"
    }
   ],
   "source": [
    "df[\"state\"] = df.apply(lambda row: row[\"location\"].split(\", \")[-1], axis=1)\n",
    "print(df.state.unique())\n",
    "df.state.value_counts() #we'll find out that most people are from CA\n",
    "df[df[\"state\"] == \"california\"][\"location\"].value_counts() #and a majority is from SF"
   ]
  },
  {
   "cell_type": "code",
   "execution_count": 120,
   "id": "5d278c46-9cda-4c8e-b5d5-f488ec98d3fd",
   "metadata": {},
   "outputs": [
    {
     "data": {
      "image/png": "[encoded data removed]",
      "text/plain": [
       "<Figure size 640x480 with 1 Axes>"
      ]
     },
     "metadata": {},
     "output_type": "display_data"
    }
   ],
   "source": [
    "plt.hist(df.income)\n",
    "plt.show()"
   ]
  },
  {
   "cell_type": "code",
   "execution_count": 122,
   "id": "82b371ab-df22-473f-ad00-94cd4330f0b9",
   "metadata": {},
   "outputs": [],
   "source": [
    "from sklearn.preprocessing import MinMaxScaler\n",
    "scaler = MinMaxScaler()\n",
    "\n",
    "df = df[[\"age\", \"drinks\", \"smokes\", \"drugs\", \"total_text_length\", \"love\", \"generation\", \"languages\", \"religious_seriousness\"]].dropna()\n",
    "df[\"drinks\"] = scaler.fit_transform(np.reshape(df[[\"drinks\"]], (-1,1)))\n",
    "df[\"smokes\"] = scaler.fit_transform(np.reshape(df[[\"smokes\"]], (-1,1)))\n",
    "df[\"drugs\"] = scaler.fit_transform(np.reshape(df[[\"drugs\"]], (-1,1)))\n",
    "df[\"total_text_length\"] = scaler.fit_transform(np.reshape(df[[\"total_text_length\"]], (-1,1)))\n",
    "df[\"love\"] = scaler.fit_transform(np.reshape(df[[\"love\"]], (-1,1)))\n",
    "df[\"generation\"] = scaler.fit_transform(np.reshape(df[[\"generation\"]], (-1,1)))\n",
    "df[\"languages\"] = scaler.fit_transform(np.reshape(df[[\"languages\"]], (-1,1)))\n",
    "df[\"religious_seriousness\"] = scaler.fit_transform(np.reshape(df[[\"religious_seriousness\"]], (-1,1)))"
   ]
  },
  {
   "cell_type": "code",
   "execution_count": 124,
   "id": "d34894a8-213c-4b79-bd6a-e315415693d1",
   "metadata": {},
   "outputs": [
    {
     "name": "stdin",
     "output_type": "stream",
     "text": [
      "\n",
      "Multiple Linear Regression\n",
      "Hit any key to continue...\n",
      " a\n"
     ]
    }
   ],
   "source": [
    "#from sklearn.model_selection import train_test_split\n",
    "#from sklearn.linear_model import LinearRegression"
   ]
  },
  {
   "cell_type": "code",
   "execution_count": 126,
   "id": "27683289-e5ed-4b2b-a4e9-23e1c07ccd85",
   "metadata": {},
   "outputs": [],
   "source": [
    "def linear_regression(x, y):\n",
    "    x_train, x_test, y_train, y_test = train_test_split(\n",
    "        x,y,train_size=0.8,test_size=0.2,random_state = 42) #splitting the data\n",
    "\n",
    "    line_fitter = LinearRegression()\n",
    "    line_fitter.fit(x_train, y_train)\n",
    "\n",
    "    predicted_y = line_fitter.predict(x_train)\n",
    "\n",
    "    score = line_fitter.score(x_test, y_test)\n",
    "    \n",
    "    return score"
   ]
  },
  {
   "cell_type": "code",
   "execution_count": 128,
   "id": "b82ee739-2435-48ae-8c1a-87b0a90f6ac4",
   "metadata": {},
   "outputs": [],
   "source": [
    "from itertools import combinations\n",
    "features = [\"generation\", \"total_text_length\", \"languages\", \"drinks\", \"drugs\", \"smokes\", \"religious_seriousness\", \"love\"]\n",
    "combo = []\n",
    "for i in range(1,len(features)):\n",
    "    combo.append(list(combinations(features, i)))"
   ]
  },
  {
   "cell_type": "code",
   "execution_count": 130,
   "id": "93f5c111-6773-4337-8a72-4be13fa48c10",
   "metadata": {},
   "outputs": [],
   "source": [
    "y = df[[\"age\"]]\n",
    "scores = []\n",
    "for i in range(len(combo)):\n",
    "    for j in range(len(combo[i])):\n",
    "        x = df[[*combo[i][j]]]\n",
    "        scores.append([linear_regression(x, y), combo[i][j]])"
   ]
  },
  {
   "cell_type": "code",
   "execution_count": 136,
   "id": "ccaab308-396a-401d-9b6e-68a483eacd1b",
   "metadata": {},
   "outputs": [],
   "source": [
    "#for i in scores:\n",
    " #   print(i)"
   ]
  },
  {
   "cell_type": "code",
   "execution_count": 138,
   "id": "6ea65176-ce93-4f8b-b8ce-f4e0ac2897ca",
   "metadata": {},
   "outputs": [],
   "source": [
    "MLR_best_score = max(scores, key=lambda score: score[0])"
   ]
  },
  {
   "cell_type": "code",
   "execution_count": 144,
   "id": "76396c4a-263f-49ed-a137-90f6c4d56c45",
   "metadata": {},
   "outputs": [
    {
     "name": "stdout",
     "output_type": "stream",
     "text": [
      "Best score for Multiple Linear Regression is 0.8409594652967731 The combination  ('generation', 'total_text_length', 'drinks', 'drugs', 'smokes', 'religious_seriousness')\n"
     ]
    }
   ],
   "source": [
    "print(\"Best score for Multiple Linear Regression is\", MLR_best_score[0], \"The combination \", MLR_best_score[1])"
   ]
  },
  {
   "cell_type": "code",
   "execution_count": 146,
   "id": "27d33228-e7b6-4150-b07a-5b73a96f171b",
   "metadata": {},
   "outputs": [],
   "source": [
    "from sklearn.neighbors import KNeighborsRegressor\n",
    "\n",
    "def KNN_regression(x, y, neighbors):\n",
    "    x_train, x_test, y_train, y_test = train_test_split(\n",
    "        x,y,train_size=0.8,test_size=0.2,random_state = 42)\n",
    "\n",
    "    regressor = KNeighborsRegressor(n_neighbors = neighbors, weights = \"distance\")\n",
    "    regressor.fit(x_train, y_train)\n",
    "\n",
    "    score = regressor.score(x_train, y_train)\n",
    "    \n",
    "    return score\n"
   ]
  },
  {
   "cell_type": "code",
   "execution_count": 148,
   "id": "043fb1a7-f5de-4819-9a0e-fd2ccb6bb3cd",
   "metadata": {},
   "outputs": [],
   "source": [
    "y = df[[\"age\"]]\n",
    "scores = []\n",
    "for i in range(len(combo)):\n",
    "    for j in range(len(combo[i])):\n",
    "        x = df[[*combo[i][j]]]\n",
    "        scores.append([KNN_regression(x, y, 5), combo[i][j]])"
   ]
  },
  {
   "cell_type": "code",
   "execution_count": 149,
   "id": "a808d4c6-754d-42e8-9e25-3b06df051fed",
   "metadata": {},
   "outputs": [
    {
     "name": "stdout",
     "output_type": "stream",
     "text": [
      "[0.8201852999163524, ('generation',)]\n",
      "[0.5669761578404942, ('total_text_length',)]\n",
      "[-0.14963694970902264, ('languages',)]\n",
      "[-0.0018122860565508159, ('drinks',)]\n",
      "[0.014143643736176825, ('drugs',)]\n",
      "[0.012537917756777595, ('smokes',)]\n",
      "[-0.31846640513844937, ('religious_seriousness',)]\n",
      "[-0.029881725718226004, ('love',)]\n",
      "[0.9678963072443562, ('generation', 'total_text_length')]\n",
      "[0.8249034733348799, ('generation', 'languages')]\n",
      "[0.8283445380091086, ('generation', 'drinks')]\n",
      "[0.8037323651475224, ('generation', 'drugs')]\n",
      "[0.8319043547352323, ('generation', 'smokes')]\n",
      "[0.8289022723652009, ('generation', 'religious_seriousness')]\n",
      "[0.8073075262399023, ('generation', 'love')]\n",
      "[0.7888065919321053, ('total_text_length', 'languages')]\n",
      "[0.7326644213533839, ('total_text_length', 'drinks')]\n",
      "[0.6583874654499886, ('total_text_length', 'drugs')]\n",
      "[0.6800449678094534, ('total_text_length', 'smokes')]\n",
      "[0.7984367924397502, ('total_text_length', 'religious_seriousness')]\n",
      "[0.6148890463125432, ('total_text_length', 'love')]\n",
      "[-0.25437462020673274, ('languages', 'drinks')]\n",
      "[-0.08167829552791317, ('languages', 'drugs')]\n",
      "[-0.07981895862548583, ('languages', 'smokes')]\n",
      "[-0.16531359297456394, ('languages', 'religious_seriousness')]\n",
      "[-0.2774222586112549, ('languages', 'love')]\n",
      "[-0.0577631825972702, ('drinks', 'drugs')]\n",
      "[-0.11952179786732531, ('drinks', 'smokes')]\n",
      "[-0.06172566980433891, ('drinks', 'religious_seriousness')]\n",
      "[-0.05734373179695362, ('drinks', 'love')]\n",
      "[-0.017976975475659795, ('drugs', 'smokes')]\n",
      "[-0.06476337778993901, ('drugs', 'religious_seriousness')]\n",
      "[-0.03751936972622105, ('drugs', 'love')]\n",
      "[-0.20738249537044928, ('smokes', 'religious_seriousness')]\n",
      "[-0.07631024531045849, ('smokes', 'love')]\n",
      "[-0.3462763121589387, ('religious_seriousness', 'love')]\n",
      "[0.984435354723691, ('generation', 'total_text_length', 'languages')]\n",
      "[0.9792273751559631, ('generation', 'total_text_length', 'drinks')]\n",
      "[0.9748420188177098, ('generation', 'total_text_length', 'drugs')]\n",
      "[0.9770325907104747, ('generation', 'total_text_length', 'smokes')]\n",
      "[0.9835876404373446, ('generation', 'total_text_length', 'religious_seriousness')]\n",
      "[0.9703155769089732, ('generation', 'total_text_length', 'love')]\n",
      "[0.8288589332669677, ('generation', 'languages', 'drinks')]\n",
      "[0.8158203328415838, ('generation', 'languages', 'drugs')]\n",
      "[0.7991797139175408, ('generation', 'languages', 'smokes')]\n",
      "[0.8162757650688606, ('generation', 'languages', 'religious_seriousness')]\n",
      "[0.8047973467647709, ('generation', 'languages', 'love')]\n",
      "[0.8236461502454553, ('generation', 'drinks', 'drugs')]\n",
      "[0.8213437582691536, ('generation', 'drinks', 'smokes')]\n",
      "[0.8181714709785137, ('generation', 'drinks', 'religious_seriousness')]\n",
      "[0.8224851821515894, ('generation', 'drinks', 'love')]\n",
      "[0.787233899228137, ('generation', 'drugs', 'smokes')]\n",
      "[0.8251052565164791, ('generation', 'drugs', 'religious_seriousness')]\n",
      "[0.8284714101852586, ('generation', 'drugs', 'love')]\n",
      "[0.8119794314699922, ('generation', 'smokes', 'religious_seriousness')]\n",
      "[0.8197482682210334, ('generation', 'smokes', 'love')]\n",
      "[0.8282440403523494, ('generation', 'religious_seriousness', 'love')]\n",
      "[0.8737610410512193, ('total_text_length', 'languages', 'drinks')]\n",
      "[0.8290691288464647, ('total_text_length', 'languages', 'drugs')]\n",
      "[0.8482368981782564, ('total_text_length', 'languages', 'smokes')]\n",
      "[0.8971500804858339, ('total_text_length', 'languages', 'religious_seriousness')]\n",
      "[0.8128474079443265, ('total_text_length', 'languages', 'love')]\n",
      "[0.7775259857003353, ('total_text_length', 'drinks', 'drugs')]\n",
      "[0.7828610471187831, ('total_text_length', 'drinks', 'smokes')]\n",
      "[0.8706865764781277, ('total_text_length', 'drinks', 'religious_seriousness')]\n",
      "[0.7477078092949987, ('total_text_length', 'drinks', 'love')]\n",
      "[0.717640348887305, ('total_text_length', 'drugs', 'smokes')]\n",
      "[0.8289281195212795, ('total_text_length', 'drugs', 'religious_seriousness')]\n",
      "[0.6948170495650903, ('total_text_length', 'drugs', 'love')]\n",
      "[0.8324509763391168, ('total_text_length', 'smokes', 'religious_seriousness')]\n",
      "[0.7165527541853751, ('total_text_length', 'smokes', 'love')]\n",
      "[0.8169319003360125, ('total_text_length', 'religious_seriousness', 'love')]\n",
      "[-0.047126054913156246, ('languages', 'drinks', 'drugs')]\n",
      "[-0.07068063559764148, ('languages', 'drinks', 'smokes')]\n",
      "[-0.20872760856693828, ('languages', 'drinks', 'religious_seriousness')]\n",
      "[-0.20736737338631284, ('languages', 'drinks', 'love')]\n",
      "[-0.11629767648148115, ('languages', 'drugs', 'smokes')]\n",
      "[-0.16978024586198792, ('languages', 'drugs', 'religious_seriousness')]\n",
      "[-0.06818864697989735, ('languages', 'drugs', 'love')]\n",
      "[-0.1031739291193694, ('languages', 'smokes', 'religious_seriousness')]\n",
      "[-0.11275138058823253, ('languages', 'smokes', 'love')]\n",
      "[-0.17291167202658486, ('languages', 'religious_seriousness', 'love')]\n",
      "[-0.11345258318037588, ('drinks', 'drugs', 'smokes')]\n",
      "[-0.15261540239039695, ('drinks', 'drugs', 'religious_seriousness')]\n",
      "[-0.05155551915639922, ('drinks', 'drugs', 'love')]\n",
      "[-0.3422281633593791, ('drinks', 'smokes', 'religious_seriousness')]\n",
      "[-0.08241692185390703, ('drinks', 'smokes', 'love')]\n",
      "[-0.09748765644246449, ('drinks', 'religious_seriousness', 'love')]\n",
      "[-0.059321172666241706, ('drugs', 'smokes', 'religious_seriousness')]\n",
      "[-0.04366563028696824, ('drugs', 'smokes', 'love')]\n",
      "[-0.06335134028298373, ('drugs', 'religious_seriousness', 'love')]\n",
      "[-0.1280974369484711, ('smokes', 'religious_seriousness', 'love')]\n",
      "[0.9903464430160165, ('generation', 'total_text_length', 'languages', 'drinks')]\n",
      "[0.9882240407735879, ('generation', 'total_text_length', 'languages', 'drugs')]\n",
      "[0.9883920854107483, ('generation', 'total_text_length', 'languages', 'smokes')]\n",
      "[0.9923844925435729, ('generation', 'total_text_length', 'languages', 'religious_seriousness')]\n",
      "[0.985650564993428, ('generation', 'total_text_length', 'languages', 'love')]\n",
      "[0.9837363950140686, ('generation', 'total_text_length', 'drinks', 'drugs')]\n",
      "[0.984258103466777, ('generation', 'total_text_length', 'drinks', 'smokes')]\n",
      "[0.9896611566298654, ('generation', 'total_text_length', 'drinks', 'religious_seriousness')]\n",
      "[0.9809711432476939, ('generation', 'total_text_length', 'drinks', 'love')]\n",
      "[0.9805411515349056, ('generation', 'total_text_length', 'drugs', 'smokes')]\n",
      "[0.9870928782375306, ('generation', 'total_text_length', 'drugs', 'religious_seriousness')]\n",
      "[0.9770257413411892, ('generation', 'total_text_length', 'drugs', 'love')]\n",
      "[0.9881513345280107, ('generation', 'total_text_length', 'smokes', 'religious_seriousness')]\n",
      "[0.9786023988006622, ('generation', 'total_text_length', 'smokes', 'love')]\n",
      "[0.9850712976943783, ('generation', 'total_text_length', 'religious_seriousness', 'love')]\n",
      "[0.8248393256240221, ('generation', 'languages', 'drinks', 'drugs')]\n",
      "[0.8276983845222416, ('generation', 'languages', 'drinks', 'smokes')]\n",
      "[0.8258164154738082, ('generation', 'languages', 'drinks', 'religious_seriousness')]\n",
      "[0.8301670357249716, ('generation', 'languages', 'drinks', 'love')]\n",
      "[0.7993770748718463, ('generation', 'languages', 'drugs', 'smokes')]\n",
      "[0.8227378781310397, ('generation', 'languages', 'drugs', 'religious_seriousness')]\n",
      "[0.823349111271346, ('generation', 'languages', 'drugs', 'love')]\n",
      "[0.8298021193741689, ('generation', 'languages', 'smokes', 'religious_seriousness')]\n",
      "[0.8013058648871292, ('generation', 'languages', 'smokes', 'love')]\n",
      "[0.8172990278004619, ('generation', 'languages', 'religious_seriousness', 'love')]\n",
      "[0.8364443937221422, ('generation', 'drinks', 'drugs', 'smokes')]\n",
      "[0.831854617385728, ('generation', 'drinks', 'drugs', 'religious_seriousness')]\n",
      "[0.8222183998533027, ('generation', 'drinks', 'drugs', 'love')]\n",
      "[0.8391744964060619, ('generation', 'drinks', 'smokes', 'religious_seriousness')]\n",
      "[0.8109999081244395, ('generation', 'drinks', 'smokes', 'love')]\n",
      "[0.8217969031374852, ('generation', 'drinks', 'religious_seriousness', 'love')]\n",
      "[0.8010150780274696, ('generation', 'drugs', 'smokes', 'religious_seriousness')]\n",
      "[0.795858881724747, ('generation', 'drugs', 'smokes', 'love')]\n",
      "[0.8210207196483693, ('generation', 'drugs', 'religious_seriousness', 'love')]\n",
      "[0.8178491249191878, ('generation', 'smokes', 'religious_seriousness', 'love')]\n",
      "[0.8944378954469834, ('total_text_length', 'languages', 'drinks', 'drugs')]\n",
      "[0.8978112288813402, ('total_text_length', 'languages', 'drinks', 'smokes')]\n",
      "[0.9370139815662764, ('total_text_length', 'languages', 'drinks', 'religious_seriousness')]\n",
      "[0.8879323416261735, ('total_text_length', 'languages', 'drinks', 'love')]\n",
      "[0.8653541963526654, ('total_text_length', 'languages', 'drugs', 'smokes')]\n",
      "[0.9154571420617166, ('total_text_length', 'languages', 'drugs', 'religious_seriousness')]\n",
      "[0.8485100596664898, ('total_text_length', 'languages', 'drugs', 'love')]\n",
      "[0.9224445661669425, ('total_text_length', 'languages', 'smokes', 'religious_seriousness')]\n",
      "[0.8633337594889857, ('total_text_length', 'languages', 'smokes', 'love')]\n",
      "[0.9092998068714108, ('total_text_length', 'languages', 'religious_seriousness', 'love')]\n",
      "[0.807573647745605, ('total_text_length', 'drinks', 'drugs', 'smokes')]\n",
      "[0.8963053143510166, ('total_text_length', 'drinks', 'drugs', 'religious_seriousness')]\n",
      "[0.7955649751616373, ('total_text_length', 'drinks', 'drugs', 'love')]\n",
      "[0.903066423349958, ('total_text_length', 'drinks', 'smokes', 'religious_seriousness')]\n",
      "[0.8040992956449516, ('total_text_length', 'drinks', 'smokes', 'love')]\n",
      "[0.8816773362089156, ('total_text_length', 'drinks', 'religious_seriousness', 'love')]\n",
      "[0.8599224114197178, ('total_text_length', 'drugs', 'smokes', 'religious_seriousness')]\n",
      "[0.7469959514224365, ('total_text_length', 'drugs', 'smokes', 'love')]\n",
      "[0.849775845984011, ('total_text_length', 'drugs', 'religious_seriousness', 'love')]\n",
      "[0.8595416424006712, ('total_text_length', 'smokes', 'religious_seriousness', 'love')]\n",
      "[-0.02122073637955668, ('languages', 'drinks', 'drugs', 'smokes')]\n",
      "[-0.09793111815792899, ('languages', 'drinks', 'drugs', 'religious_seriousness')]\n",
      "[-0.11689026764638566, ('languages', 'drinks', 'drugs', 'love')]\n",
      "[-0.20839466441116716, ('languages', 'drinks', 'smokes', 'religious_seriousness')]\n",
      "[-0.1417268748969014, ('languages', 'drinks', 'smokes', 'love')]\n",
      "[-0.13782487562637846, ('languages', 'drinks', 'religious_seriousness', 'love')]\n",
      "[-0.03541804295496087, ('languages', 'drugs', 'smokes', 'religious_seriousness')]\n",
      "[-0.09407854490194256, ('languages', 'drugs', 'smokes', 'love')]\n",
      "[-0.1561215678417105, ('languages', 'drugs', 'religious_seriousness', 'love')]\n",
      "[-0.10083206113994136, ('languages', 'smokes', 'religious_seriousness', 'love')]\n",
      "[-0.09518519457463959, ('drinks', 'drugs', 'smokes', 'religious_seriousness')]\n",
      "[-0.05351750764525898, ('drinks', 'drugs', 'smokes', 'love')]\n",
      "[-0.1427551316955329, ('drinks', 'drugs', 'religious_seriousness', 'love')]\n",
      "[-0.21480424446290924, ('drinks', 'smokes', 'religious_seriousness', 'love')]\n",
      "[-0.054084041979514774, ('drugs', 'smokes', 'religious_seriousness', 'love')]\n",
      "[0.9924374131342757, ('generation', 'total_text_length', 'languages', 'drinks', 'drugs')]\n",
      "[0.9930269354259289, ('generation', 'total_text_length', 'languages', 'drinks', 'smokes')]\n",
      "[0.9953207561599616, ('generation', 'total_text_length', 'languages', 'drinks', 'religious_seriousness')]\n",
      "[0.9908986495879918, ('generation', 'total_text_length', 'languages', 'drinks', 'love')]\n",
      "[0.9900646213326664, ('generation', 'total_text_length', 'languages', 'drugs', 'smokes')]\n",
      "[0.9939075749735338, ('generation', 'total_text_length', 'languages', 'drugs', 'religious_seriousness')]\n",
      "[0.9891979219670763, ('generation', 'total_text_length', 'languages', 'drugs', 'love')]\n",
      "[0.9938969768770886, ('generation', 'total_text_length', 'languages', 'smokes', 'religious_seriousness')]\n",
      "[0.9893064444414675, ('generation', 'total_text_length', 'languages', 'smokes', 'love')]\n",
      "[0.9928562603259818, ('generation', 'total_text_length', 'languages', 'religious_seriousness', 'love')]\n",
      "[0.9868173213761797, ('generation', 'total_text_length', 'drinks', 'drugs', 'smokes')]\n",
      "[0.9914792511797594, ('generation', 'total_text_length', 'drinks', 'drugs', 'religious_seriousness')]\n",
      "[0.9847173543127369, ('generation', 'total_text_length', 'drinks', 'drugs', 'love')]\n",
      "[0.9920249832551653, ('generation', 'total_text_length', 'drinks', 'smokes', 'religious_seriousness')]\n",
      "[0.98594021452739, ('generation', 'total_text_length', 'drinks', 'smokes', 'love')]\n",
      "[0.9903254437901463, ('generation', 'total_text_length', 'drinks', 'religious_seriousness', 'love')]\n",
      "[0.9895256750887974, ('generation', 'total_text_length', 'drugs', 'smokes', 'religious_seriousness')]\n",
      "[0.9818650812460541, ('generation', 'total_text_length', 'drugs', 'smokes', 'love')]\n",
      "[0.9880105793538194, ('generation', 'total_text_length', 'drugs', 'religious_seriousness', 'love')]\n",
      "[0.9887998134964717, ('generation', 'total_text_length', 'smokes', 'religious_seriousness', 'love')]\n",
      "[0.8364480979728781, ('generation', 'languages', 'drinks', 'drugs', 'smokes')]\n",
      "[0.8375817638962254, ('generation', 'languages', 'drinks', 'drugs', 'religious_seriousness')]\n",
      "[0.8357648066720291, ('generation', 'languages', 'drinks', 'drugs', 'love')]\n",
      "[0.8428966647870829, ('generation', 'languages', 'drinks', 'smokes', 'religious_seriousness')]\n",
      "[0.8260035849732588, ('generation', 'languages', 'drinks', 'smokes', 'love')]\n",
      "[0.8344752445290295, ('generation', 'languages', 'drinks', 'religious_seriousness', 'love')]\n",
      "[0.8357206225217413, ('generation', 'languages', 'drugs', 'smokes', 'religious_seriousness')]\n",
      "[0.8232633607260074, ('generation', 'languages', 'drugs', 'smokes', 'love')]\n",
      "[0.8362567286282535, ('generation', 'languages', 'drugs', 'religious_seriousness', 'love')]\n",
      "[0.8346689457090231, ('generation', 'languages', 'smokes', 'religious_seriousness', 'love')]\n",
      "[0.8343424887573708, ('generation', 'drinks', 'drugs', 'smokes', 'religious_seriousness')]\n",
      "[0.8177532909331666, ('generation', 'drinks', 'drugs', 'smokes', 'love')]\n",
      "[0.8340581192103069, ('generation', 'drinks', 'drugs', 'religious_seriousness', 'love')]\n",
      "[0.844275846924303, ('generation', 'drinks', 'smokes', 'religious_seriousness', 'love')]\n",
      "[0.8171051232996732, ('generation', 'drugs', 'smokes', 'religious_seriousness', 'love')]\n",
      "[0.910092325915659, ('total_text_length', 'languages', 'drinks', 'drugs', 'smokes')]\n",
      "[0.9475582933074215, ('total_text_length', 'languages', 'drinks', 'drugs', 'religious_seriousness')]\n",
      "[0.9063490312332708, ('total_text_length', 'languages', 'drinks', 'drugs', 'love')]\n",
      "[0.9523234655984942, ('total_text_length', 'languages', 'drinks', 'smokes', 'religious_seriousness')]\n",
      "[0.9104741496613301, ('total_text_length', 'languages', 'drinks', 'smokes', 'love')]\n",
      "[0.9428951944092699, ('total_text_length', 'languages', 'drinks', 'religious_seriousness', 'love')]\n",
      "[0.9322431861844638, ('total_text_length', 'languages', 'drugs', 'smokes', 'religious_seriousness')]\n",
      "[0.8839226585795392, ('total_text_length', 'languages', 'drugs', 'smokes', 'love')]\n",
      "[0.9253098771796119, ('total_text_length', 'languages', 'drugs', 'religious_seriousness', 'love')]\n",
      "[0.9334722540371426, ('total_text_length', 'languages', 'smokes', 'religious_seriousness', 'love')]\n",
      "[0.9135066284902309, ('total_text_length', 'drinks', 'drugs', 'smokes', 'religious_seriousness')]\n",
      "[0.8238211522660733, ('total_text_length', 'drinks', 'drugs', 'smokes', 'love')]\n",
      "[0.9050349244580362, ('total_text_length', 'drinks', 'drugs', 'religious_seriousness', 'love')]\n",
      "[0.9122619239976529, ('total_text_length', 'drinks', 'smokes', 'religious_seriousness', 'love')]\n",
      "[0.8774476473544202, ('total_text_length', 'drugs', 'smokes', 'religious_seriousness', 'love')]\n",
      "[-0.043805432394932176, ('languages', 'drinks', 'drugs', 'smokes', 'religious_seriousness')]\n",
      "[-0.051298629685549546, ('languages', 'drinks', 'drugs', 'smokes', 'love')]\n",
      "[-0.06993129045348012, ('languages', 'drinks', 'drugs', 'religious_seriousness', 'love')]\n",
      "[-0.03575629886650411, ('languages', 'drinks', 'smokes', 'religious_seriousness', 'love')]\n",
      "[-0.05770421321291286, ('languages', 'drugs', 'smokes', 'religious_seriousness', 'love')]\n",
      "[-0.10890237179993556, ('drinks', 'drugs', 'smokes', 'religious_seriousness', 'love')]\n",
      "[0.9939271064774142, ('generation', 'total_text_length', 'languages', 'drinks', 'drugs', 'smokes')]\n",
      "[0.9962076668833407, ('generation', 'total_text_length', 'languages', 'drinks', 'drugs', 'religious_seriousness')]\n",
      "[0.9929056863405187, ('generation', 'total_text_length', 'languages', 'drinks', 'drugs', 'love')]\n",
      "[0.9962035115145906, ('generation', 'total_text_length', 'languages', 'drinks', 'smokes', 'religious_seriousness')]\n",
      "[0.993286169439697, ('generation', 'total_text_length', 'languages', 'drinks', 'smokes', 'love')]\n",
      "[0.995600322253241, ('generation', 'total_text_length', 'languages', 'drinks', 'religious_seriousness', 'love')]\n",
      "[0.9949311045636786, ('generation', 'total_text_length', 'languages', 'drugs', 'smokes', 'religious_seriousness')]\n",
      "[0.99097214370165, ('generation', 'total_text_length', 'languages', 'drugs', 'smokes', 'love')]\n",
      "[0.9942881660868845, ('generation', 'total_text_length', 'languages', 'drugs', 'religious_seriousness', 'love')]\n",
      "[0.9944505304493314, ('generation', 'total_text_length', 'languages', 'smokes', 'religious_seriousness', 'love')]\n",
      "[0.9930568489979098, ('generation', 'total_text_length', 'drinks', 'drugs', 'smokes', 'religious_seriousness')]\n",
      "[0.9876750809805597, ('generation', 'total_text_length', 'drinks', 'drugs', 'smokes', 'love')]\n",
      "[0.9920726937504933, ('generation', 'total_text_length', 'drinks', 'drugs', 'religious_seriousness', 'love')]\n",
      "[0.9924297187129356, ('generation', 'total_text_length', 'drinks', 'smokes', 'religious_seriousness', 'love')]\n",
      "[0.9902857644662252, ('generation', 'total_text_length', 'drugs', 'smokes', 'religious_seriousness', 'love')]\n",
      "[0.8507347513301844, ('generation', 'languages', 'drinks', 'drugs', 'smokes', 'religious_seriousness')]\n",
      "[0.8422471247382225, ('generation', 'languages', 'drinks', 'drugs', 'smokes', 'love')]\n",
      "[0.8483332849426893, ('generation', 'languages', 'drinks', 'drugs', 'religious_seriousness', 'love')]\n",
      "[0.8512987314469516, ('generation', 'languages', 'drinks', 'smokes', 'religious_seriousness', 'love')]\n",
      "[0.8426009601056915, ('generation', 'languages', 'drugs', 'smokes', 'religious_seriousness', 'love')]\n",
      "[0.8491118320360485, ('generation', 'drinks', 'drugs', 'smokes', 'religious_seriousness', 'love')]\n",
      "[0.9572929371660057, ('total_text_length', 'languages', 'drinks', 'drugs', 'smokes', 'religious_seriousness')]\n",
      "[0.9194739921663786, ('total_text_length', 'languages', 'drinks', 'drugs', 'smokes', 'love')]\n",
      "[0.9527615583742127, ('total_text_length', 'languages', 'drinks', 'drugs', 'religious_seriousness', 'love')]\n",
      "[0.9576323621721211, ('total_text_length', 'languages', 'drinks', 'smokes', 'religious_seriousness', 'love')]\n",
      "[0.9419523895285595, ('total_text_length', 'languages', 'drugs', 'smokes', 'religious_seriousness', 'love')]\n",
      "[0.9220464195736887, ('total_text_length', 'drinks', 'drugs', 'smokes', 'religious_seriousness', 'love')]\n",
      "[-0.0679339432075956, ('languages', 'drinks', 'drugs', 'smokes', 'religious_seriousness', 'love')]\n",
      "[0.9966714034943427, ('generation', 'total_text_length', 'languages', 'drinks', 'drugs', 'smokes', 'religious_seriousness')]\n",
      "[0.9940616794286792, ('generation', 'total_text_length', 'languages', 'drinks', 'drugs', 'smokes', 'love')]\n",
      "[0.9964287782480253, ('generation', 'total_text_length', 'languages', 'drinks', 'drugs', 'religious_seriousness', 'love')]\n",
      "[0.9963417061175185, ('generation', 'total_text_length', 'languages', 'drinks', 'smokes', 'religious_seriousness', 'love')]\n",
      "[0.9951855732463113, ('generation', 'total_text_length', 'languages', 'drugs', 'smokes', 'religious_seriousness', 'love')]\n",
      "[0.9934253679390508, ('generation', 'total_text_length', 'drinks', 'drugs', 'smokes', 'religious_seriousness', 'love')]\n",
      "[0.861985297853152, ('generation', 'languages', 'drinks', 'drugs', 'smokes', 'religious_seriousness', 'love')]\n",
      "[0.9619585140363477, ('total_text_length', 'languages', 'drinks', 'drugs', 'smokes', 'religious_seriousness', 'love')]\n"
     ]
    }
   ],
   "source": [
    "for i in scores:\n",
    "    print(i)"
   ]
  },
  {
   "cell_type": "code",
   "execution_count": 150,
   "id": "3dc7871d-ecff-483e-9c76-74bd7566e98d",
   "metadata": {},
   "outputs": [],
   "source": [
    "KNN_best_score = max(scores, key=lambda score: score[0])"
   ]
  },
  {
   "cell_type": "code",
   "execution_count": 154,
   "id": "2ff6c3b3-7082-451c-9376-34ccf6301cff",
   "metadata": {},
   "outputs": [
    {
     "name": "stdout",
     "output_type": "stream",
     "text": [
      "Best score for KNN Regression is 0.9966714034943427 The combination of features ('generation', 'total_text_length', 'languages', 'drinks', 'drugs', 'smokes', 'religious_seriousness')\n"
     ]
    }
   ],
   "source": [
    "print(\"Best score for KNN Regression is\", KNN_best_score[0], \"The combination of features\", KNN_best_score[1])"
   ]
  },
  {
   "cell_type": "code",
   "execution_count": 156,
   "id": "ced6e062-ac32-40f7-91f9-01f45736cf81",
   "metadata": {},
   "outputs": [],
   "source": [
    "N_score = []\n",
    "for neighbors in range(1,15):\n",
    "        x = df[[*max(scores, key=lambda score: score[0])[1]]]\n",
    "        y = df[[\"age\"]]\n",
    "        N_score.append([KNN_regression(x, y, neighbors), neighbors])"
   ]
  },
  {
   "cell_type": "code",
   "execution_count": 160,
   "id": "3e448c22-a72d-43f3-b2c3-b7de3dbad077",
   "metadata": {},
   "outputs": [
    {
     "name": "stdout",
     "output_type": "stream",
     "text": [
      "The best score for KNN Regression is [0.9967018907646471, 14] Neighbors: [0.9967018907646471, 14]\n"
     ]
    }
   ],
   "source": [
    "print(\"The best score for KNN Regression is\", max(N_score, key=lambda score: score[0]),\n",
    "      \"Neighbors:\", max(N_score, key=lambda score: score[1]))"
   ]
  },
  {
   "cell_type": "code",
   "execution_count": 162,
   "id": "72984fc9-9346-4d91-89c6-510d1e88e747",
   "metadata": {},
   "outputs": [],
   "source": [
    "from sklearn.neighbors import KNeighborsClassifier\n",
    "\n",
    "def KNNClassifier(x, y, neighbors):\n",
    "    x_train, x_test, y_train, y_test = train_test_split(\n",
    "        x,y,train_size=0.8,test_size=0.2,random_state = 42)\n",
    "    \n",
    "    classifier = KNeighborsClassifier(n_neighbors = neighbors)\n",
    "    classifier.fit(x_train, y_train)\n",
    "\n",
    "    score = classifier.score(x_test, y_test)\n",
    "\n",
    "    return score"
   ]
  },
  {
   "cell_type": "code",
   "execution_count": 164,
   "id": "6892d201-9a77-4778-b4ac-c59b687f4242",
   "metadata": {},
   "outputs": [],
   "source": [
    "features = [\"total_text_length\", \"languages\", \"drinks\", \"drugs\", \"smokes\", \"religious_seriousness\", \"love\"]\n",
    "combo = []\n",
    "for i in range(1,len(features)):\n",
    "    combo.append(list(combinations(features, i)))"
   ]
  },
  {
   "cell_type": "code",
   "execution_count": 166,
   "id": "8764bda7-7299-4bca-8ffb-cac75222f127",
   "metadata": {},
   "outputs": [],
   "source": [
    "scores = []\n",
    "y = scaler.inverse_transform(np.reshape(df[[\"generation\"]], (-1,1)))\n",
    "y = np.ravel(y)\n",
    "for i in range(len(combo)):\n",
    "    for j in range(len(combo[i])):\n",
    "        x = df[[*combo[i][j]]]\n",
    "        scores.append([KNNClassifier(x, y, neighbors=5), combo[i][j]])"
   ]
  },
  {
   "cell_type": "code",
   "execution_count": 167,
   "id": "936f8a36-863c-4c25-a7d0-f09cf7d40f63",
   "metadata": {},
   "outputs": [
    {
     "name": "stdout",
     "output_type": "stream",
     "text": [
      "[0.5549738219895288, ('total_text_length',)]\n",
      "[0.4704562453253553, ('languages',)]\n",
      "[0.6020942408376964, ('drinks',)]\n",
      "[0.6185489902767389, ('drugs',)]\n",
      "[0.38219895287958117, ('smokes',)]\n",
      "[0.5175766641735228, ('religious_seriousness',)]\n",
      "[0.6170531039640987, ('love',)]\n",
      "[0.5661929693343306, ('total_text_length', 'languages')]\n",
      "[0.5684367988032909, ('total_text_length', 'drinks')]\n",
      "[0.56245325355273, ('total_text_length', 'drugs')]\n",
      "[0.5691847419596111, ('total_text_length', 'smokes')]\n",
      "[0.5474943904263276, ('total_text_length', 'religious_seriousness')]\n",
      "[0.5609573672400897, ('total_text_length', 'love')]\n",
      "[0.506357516828721, ('languages', 'drinks')]\n",
      "[0.6073298429319371, ('languages', 'drugs')]\n",
      "[0.5676888556469708, ('languages', 'smokes')]\n",
      "[0.46596858638743455, ('languages', 'religious_seriousness')]\n",
      "[0.4801795063575168, ('languages', 'love')]\n",
      "[0.6095736724008975, ('drinks', 'drugs')]\n",
      "[0.6118175018698578, ('drinks', 'smokes')]\n",
      "[0.5572176514584891, ('drinks', 'religious_seriousness')]\n",
      "[0.6170531039640987, ('drinks', 'love')]\n",
      "[0.6185489902767389, ('drugs', 'smokes')]\n",
      "[0.5557217651458489, ('drugs', 'religious_seriousness')]\n",
      "[0.6185489902767389, ('drugs', 'love')]\n",
      "[0.5594614809274495, ('smokes', 'religious_seriousness')]\n",
      "[0.6133133881824981, ('smokes', 'love')]\n",
      "[0.5519820493642483, ('religious_seriousness', 'love')]\n",
      "[0.5818997756170531, ('total_text_length', 'languages', 'drinks')]\n",
      "[0.5818997756170531, ('total_text_length', 'languages', 'drugs')]\n",
      "[0.587135377711294, ('total_text_length', 'languages', 'smokes')]\n",
      "[0.5736724008975318, ('total_text_length', 'languages', 'religious_seriousness')]\n",
      "[0.5632011967090501, ('total_text_length', 'languages', 'love')]\n",
      "[0.5804038893044129, ('total_text_length', 'drinks', 'drugs')]\n",
      "[0.5774121166791324, ('total_text_length', 'drinks', 'smokes')]\n",
      "[0.5699326851159312, ('total_text_length', 'drinks', 'religious_seriousness')]\n",
      "[0.5684367988032909, ('total_text_length', 'drinks', 'love')]\n",
      "[0.5684367988032909, ('total_text_length', 'drugs', 'smokes')]\n",
      "[0.5661929693343306, ('total_text_length', 'drugs', 'religious_seriousness')]\n",
      "[0.5534779356768885, ('total_text_length', 'drugs', 'love')]\n",
      "[0.5452505609573672, ('total_text_length', 'smokes', 'religious_seriousness')]\n",
      "[0.5684367988032909, ('total_text_length', 'smokes', 'love')]\n",
      "[0.5654450261780105, ('total_text_length', 'religious_seriousness', 'love')]\n",
      "[0.5258040388930442, ('languages', 'drinks', 'drugs')]\n",
      "[0.5235602094240838, ('languages', 'drinks', 'smokes')]\n",
      "[0.5153328347045625, ('languages', 'drinks', 'religious_seriousness')]\n",
      "[0.5018698578908003, ('languages', 'drinks', 'love')]\n",
      "[0.5385190725504861, ('languages', 'drugs', 'smokes')]\n",
      "[0.5272999252056844, ('languages', 'drugs', 'religious_seriousness')]\n",
      "[0.5549738219895288, ('languages', 'drugs', 'love')]\n",
      "[0.4951383694839192, ('languages', 'smokes', 'religious_seriousness')]\n",
      "[0.5766641735228123, ('languages', 'smokes', 'love')]\n",
      "[0.5093492894540015, ('languages', 'religious_seriousness', 'love')]\n",
      "[0.5961106955871354, ('drinks', 'drugs', 'smokes')]\n",
      "[0.6073298429319371, ('drinks', 'drugs', 'religious_seriousness')]\n",
      "[0.5938668661181751, ('drinks', 'drugs', 'love')]\n",
      "[0.5632011967090501, ('drinks', 'smokes', 'religious_seriousness')]\n",
      "[0.6088257292445775, ('drinks', 'smokes', 'love')]\n",
      "[0.5527299925205684, ('drinks', 'religious_seriousness', 'love')]\n",
      "[0.45848915482423336, ('drugs', 'smokes', 'religious_seriousness')]\n",
      "[0.6155572176514585, ('drugs', 'smokes', 'love')]\n",
      "[0.5632011967090501, ('drugs', 'religious_seriousness', 'love')]\n",
      "[0.5474943904263276, ('smokes', 'religious_seriousness', 'love')]\n",
      "[0.599850411368736, ('total_text_length', 'languages', 'drinks', 'drugs')]\n",
      "[0.5901271503365744, ('total_text_length', 'languages', 'drinks', 'smokes')]\n",
      "[0.5736724008975318, ('total_text_length', 'languages', 'drinks', 'religious_seriousness')]\n",
      "[0.5826477187733732, ('total_text_length', 'languages', 'drinks', 'love')]\n",
      "[0.5931189229618549, ('total_text_length', 'languages', 'drugs', 'smokes')]\n",
      "[0.5766641735228123, ('total_text_length', 'languages', 'drugs', 'religious_seriousness')]\n",
      "[0.575168287210172, ('total_text_length', 'languages', 'drugs', 'love')]\n",
      "[0.5818997756170531, ('total_text_length', 'languages', 'smokes', 'religious_seriousness')]\n",
      "[0.5833956619296934, ('total_text_length', 'languages', 'smokes', 'love')]\n",
      "[0.5826477187733732, ('total_text_length', 'languages', 'religious_seriousness', 'love')]\n",
      "[0.5826477187733732, ('total_text_length', 'drinks', 'drugs', 'smokes')]\n",
      "[0.5766641735228123, ('total_text_length', 'drinks', 'drugs', 'religious_seriousness')]\n",
      "[0.5706806282722513, ('total_text_length', 'drinks', 'drugs', 'love')]\n",
      "[0.5706806282722513, ('total_text_length', 'drinks', 'smokes', 'religious_seriousness')]\n",
      "[0.5759162303664922, ('total_text_length', 'drinks', 'smokes', 'love')]\n",
      "[0.5691847419596111, ('total_text_length', 'drinks', 'religious_seriousness', 'love')]\n",
      "[0.5691847419596111, ('total_text_length', 'drugs', 'smokes', 'religious_seriousness')]\n",
      "[0.5594614809274495, ('total_text_length', 'drugs', 'smokes', 'love')]\n",
      "[0.5699326851159312, ('total_text_length', 'drugs', 'religious_seriousness', 'love')]\n",
      "[0.550486163051608, ('total_text_length', 'smokes', 'religious_seriousness', 'love')]\n",
      "[0.5415108451757666, ('languages', 'drinks', 'drugs', 'smokes')]\n",
      "[0.5452505609573672, ('languages', 'drinks', 'drugs', 'religious_seriousness')]\n",
      "[0.531787584143605, ('languages', 'drinks', 'drugs', 'love')]\n",
      "[0.5445026178010471, ('languages', 'drinks', 'smokes', 'religious_seriousness')]\n",
      "[0.5198204936424832, ('languages', 'drinks', 'smokes', 'love')]\n",
      "[0.5168287210172027, ('languages', 'drinks', 'religious_seriousness', 'love')]\n",
      "[0.5422587883320867, ('languages', 'drugs', 'smokes', 'religious_seriousness')]\n",
      "[0.531039640987285, ('languages', 'drugs', 'smokes', 'love')]\n",
      "[0.5280478683620045, ('languages', 'drugs', 'religious_seriousness', 'love')]\n",
      "[0.5332834704562454, ('languages', 'smokes', 'religious_seriousness', 'love')]\n",
      "[0.5714285714285714, ('drinks', 'drugs', 'smokes', 'religious_seriousness')]\n",
      "[0.6088257292445775, ('drinks', 'drugs', 'smokes', 'love')]\n",
      "[0.5609573672400897, ('drinks', 'drugs', 'religious_seriousness', 'love')]\n",
      "[0.5646970830216903, ('drinks', 'smokes', 'religious_seriousness', 'love')]\n",
      "[0.5714285714285714, ('drugs', 'smokes', 'religious_seriousness', 'love')]\n",
      "[0.6088257292445775, ('total_text_length', 'languages', 'drinks', 'drugs', 'smokes')]\n",
      "[0.5804038893044129, ('total_text_length', 'languages', 'drinks', 'drugs', 'religious_seriousness')]\n",
      "[0.605833956619297, ('total_text_length', 'languages', 'drinks', 'drugs', 'love')]\n",
      "[0.5818997756170531, ('total_text_length', 'languages', 'drinks', 'smokes', 'religious_seriousness')]\n",
      "[0.5841436050860135, ('total_text_length', 'languages', 'drinks', 'smokes', 'love')]\n",
      "[0.5759162303664922, ('total_text_length', 'languages', 'drinks', 'religious_seriousness', 'love')]\n",
      "[0.5804038893044129, ('total_text_length', 'languages', 'drugs', 'smokes', 'religious_seriousness')]\n",
      "[0.5826477187733732, ('total_text_length', 'languages', 'drugs', 'smokes', 'love')]\n",
      "[0.587135377711294, ('total_text_length', 'languages', 'drugs', 'religious_seriousness', 'love')]\n",
      "[0.5833956619296934, ('total_text_length', 'languages', 'smokes', 'religious_seriousness', 'love')]\n",
      "[0.5781600598354525, ('total_text_length', 'drinks', 'drugs', 'smokes', 'religious_seriousness')]\n",
      "[0.5759162303664922, ('total_text_length', 'drinks', 'drugs', 'smokes', 'love')]\n",
      "[0.5804038893044129, ('total_text_length', 'drinks', 'drugs', 'religious_seriousness', 'love')]\n",
      "[0.5617053103964099, ('total_text_length', 'drinks', 'smokes', 'religious_seriousness', 'love')]\n",
      "[0.5699326851159312, ('total_text_length', 'drugs', 'smokes', 'religious_seriousness', 'love')]\n",
      "[0.5400149588631264, ('languages', 'drinks', 'drugs', 'smokes', 'religious_seriousness')]\n",
      "[0.5400149588631264, ('languages', 'drinks', 'drugs', 'smokes', 'love')]\n",
      "[0.556469708302169, ('languages', 'drinks', 'drugs', 'religious_seriousness', 'love')]\n",
      "[0.5355272999252056, ('languages', 'drinks', 'smokes', 'religious_seriousness', 'love')]\n",
      "[0.5355272999252056, ('languages', 'drugs', 'smokes', 'religious_seriousness', 'love')]\n",
      "[0.5661929693343306, ('drinks', 'drugs', 'smokes', 'religious_seriousness', 'love')]\n",
      "[0.5916230366492147, ('total_text_length', 'languages', 'drinks', 'drugs', 'smokes', 'religious_seriousness')]\n",
      "[0.6073298429319371, ('total_text_length', 'languages', 'drinks', 'drugs', 'smokes', 'love')]\n",
      "[0.5804038893044129, ('total_text_length', 'languages', 'drinks', 'drugs', 'religious_seriousness', 'love')]\n",
      "[0.5856394913986537, ('total_text_length', 'languages', 'drinks', 'smokes', 'religious_seriousness', 'love')]\n",
      "[0.5856394913986537, ('total_text_length', 'languages', 'drugs', 'smokes', 'religious_seriousness', 'love')]\n",
      "[0.5789080029917726, ('total_text_length', 'drinks', 'drugs', 'smokes', 'religious_seriousness', 'love')]\n",
      "[0.5632011967090501, ('languages', 'drinks', 'drugs', 'smokes', 'religious_seriousness', 'love')]\n"
     ]
    }
   ],
   "source": [
    "for i in scores:\n",
    "    print(i)"
   ]
  },
  {
   "cell_type": "code",
   "execution_count": 168,
   "id": "619b641b-35cd-427e-b43c-d43b3117eadf",
   "metadata": {},
   "outputs": [],
   "source": [
    "KNNC_best_score = max(scores, key=lambda score: score[0])"
   ]
  },
  {
   "cell_type": "code",
   "execution_count": 172,
   "id": "04d90394-fbcf-483c-a03a-9d01e2b79c61",
   "metadata": {},
   "outputs": [
    {
     "name": "stdout",
     "output_type": "stream",
     "text": [
      "Best score for KNN Classifier is 0.6185489902767389 Combination of features ('drugs',)\n"
     ]
    }
   ],
   "source": [
    "print(\"Best score for KNN Classifier is\", KNNC_best_score[0], \"Combination of features\", KNNC_best_score[1])"
   ]
  },
  {
   "cell_type": "code",
   "execution_count": 174,
   "id": "1bbd218e-35f7-4140-82c4-374d8ccf9e91",
   "metadata": {},
   "outputs": [],
   "source": [
    "N_score = []\n",
    "x = df[[*max(scores, key=lambda score: score[0])[1]]]\n",
    "for neighbors in range(1,15):\n",
    "        N_score.append([KNNClassifier(x, y, neighbors), neighbors])"
   ]
  },
  {
   "cell_type": "code",
   "execution_count": 178,
   "id": "5e465388-1da4-4c9c-8712-8cc9fd3e7448",
   "metadata": {},
   "outputs": [
    {
     "name": "stdout",
     "output_type": "stream",
     "text": [
      "Best score for KNN Classifier is [0.6185489902767389, 1] Neighbors: [0.6185489902767389, 14] .\n"
     ]
    }
   ],
   "source": [
    "print(\"Best score for KNN Classifier is\", max(N_score, key=lambda score: score[0]),\n",
    "      \"Neighbors:\", max(N_score, key=lambda score: score[1]), \".\")"
   ]
  },
  {
   "cell_type": "code",
   "execution_count": 180,
   "id": "e8cb8785-1786-44a9-9efe-c27b9c6b4caf",
   "metadata": {},
   "outputs": [],
   "source": [
    "from sklearn.svm import SVC\n",
    "\n",
    "def SVCClassifier(x, y, C, gamma):\n",
    "    x_train, x_test, y_train, y_test = train_test_split(\n",
    "        x,y,train_size=0.8,test_size=0.2,random_state = 42)\n",
    "\n",
    "    classifier = SVC(kernel=\"rbf\", C=C, gamma=gamma)\n",
    "    classifier.fit(x_train, y_train)\n",
    "\n",
    "    score = classifier.score(x_test, y_test)\n",
    "\n",
    "    return score"
   ]
  },
  {
   "cell_type": "code",
   "execution_count": 182,
   "id": "5da923af-5381-4eb6-91af-850e991ab2fd",
   "metadata": {},
   "outputs": [],
   "source": [
    "x = df[[*max(scores, key=lambda score: score[0])[1]]]\n",
    "y = scaler.inverse_transform(np.reshape(df[[\"generation\"]], (-1,1)))\n",
    "y = np.ravel(y)\n",
    "c = [0.1, 1.0, 10, 100, 1000]\n",
    "gamma = [1, 10, 100]"
   ]
  },
  {
   "cell_type": "code",
   "execution_count": 184,
   "id": "f0d19f3e-f5bc-4918-b026-c0906d914117",
   "metadata": {},
   "outputs": [],
   "source": [
    "scores = []\n",
    "for C_ in c:\n",
    "    for gamma_ in gamma:\n",
    "        scores.append([SVCClassifier(x, y, C_, gamma_), C_, gamma_])"
   ]
  },
  {
   "cell_type": "code",
   "execution_count": 185,
   "id": "74dc4895-586b-4986-903d-99a34a503fbb",
   "metadata": {},
   "outputs": [
    {
     "name": "stdout",
     "output_type": "stream",
     "text": [
      "[0.6185489902767389, 0.1, 1]\n",
      "[0.6185489902767389, 0.1, 10]\n",
      "[0.6185489902767389, 0.1, 100]\n",
      "[0.6185489902767389, 1.0, 1]\n",
      "[0.6185489902767389, 1.0, 10]\n",
      "[0.6185489902767389, 1.0, 100]\n",
      "[0.6185489902767389, 10, 1]\n",
      "[0.6185489902767389, 10, 10]\n",
      "[0.6185489902767389, 10, 100]\n",
      "[0.6185489902767389, 100, 1]\n",
      "[0.6185489902767389, 100, 10]\n",
      "[0.6185489902767389, 100, 100]\n",
      "[0.6185489902767389, 1000, 1]\n",
      "[0.6185489902767389, 1000, 10]\n",
      "[0.6185489902767389, 1000, 100]\n"
     ]
    }
   ],
   "source": [
    "for i in scores:\n",
    "    print(i)"
   ]
  },
  {
   "cell_type": "code",
   "execution_count": 186,
   "id": "ea3cf5dc-8915-4932-b872-8317593894ac",
   "metadata": {},
   "outputs": [],
   "source": [
    "SVC_best_score = max(scores, key=lambda score: score[0])"
   ]
  },
  {
   "cell_type": "code",
   "execution_count": 190,
   "id": "6800f054-0026-411b-8623-b93f01bd9830",
   "metadata": {},
   "outputs": [
    {
     "name": "stdout",
     "output_type": "stream",
     "text": [
      "Best score for SVC Classifier is 0.6185489902767389 C value of: 0.1 Gamma value of: 1 .\n"
     ]
    }
   ],
   "source": [
    "print(\"Best score for SVC Classifier is\", SVC_best_score[0],\n",
    "      \"C value of:\", SVC_best_score[1], \"Gamma value of:\",  SVC_best_score[2], \".\")"
   ]
  },
  {
   "cell_type": "code",
   "execution_count": 192,
   "id": "21bb5dd0-38ea-412f-9036-843debfe247b",
   "metadata": {},
   "outputs": [],
   "source": [
    "scores_accuracy = [i[0] for i in scores]"
   ]
  },
  {
   "cell_type": "code",
   "execution_count": 194,
   "id": "cc65bd7f-79d7-46a6-b056-ebeecea14fa4",
   "metadata": {},
   "outputs": [],
   "source": [
    "scores_ = []\n",
    "for i in range(int(len(scores_accuracy)/3)):\n",
    "    scores_.append(scores_accuracy[i*3:(i*3)+3])"
   ]
  },
  {
   "cell_type": "code",
   "execution_count": 196,
   "id": "ec670f85-fd86-409f-8358-98ffe8ea4fcb",
   "metadata": {},
   "outputs": [
    {
     "data": {
      "image/png": "[encoded data removed]",
      "text/plain": [
       "<Figure size 640x480 with 2 Axes>"
      ]
     },
     "metadata": {},
     "output_type": "display_data"
    }
   ],
   "source": [
    "heat_df = pd.DataFrame(scores_, index=c, columns=gamma)\n",
    "sns.heatmap(heat_df, annot=True, fmt=\"f\", linewidths=0.5, cbar_kws={\"label\": \"ACCURACY\"})\n",
    "\n",
    "plt.xlabel(\"GAMMA\")\n",
    "plt.ylabel(\"C VALUE\")\n",
    "plt.show()"
   ]
  },
  {
   "cell_type": "code",
   "execution_count": null,
   "id": "55cc3ff8-3d72-44f6-ab50-26045f2c30ce",
   "metadata": {},
   "outputs": [],
   "source": []
  }
 ],
 "metadata": {
  "kernelspec": {
   "display_name": "Python 3 (ipykernel)",
   "language": "python",
   "name": "python3"
  },
  "language_info": {
   "codemirror_mode": {
    "name": "ipython",
    "version": 3
   },
   "file_extension": ".py",
   "mimetype": "text/x-python",
   "name": "python",
   "nbconvert_exporter": "python",
   "pygments_lexer": "ipython3",
   "version": "3.12.4"
  }
 },
 "nbformat": 4,
 "nbformat_minor": 5
}
